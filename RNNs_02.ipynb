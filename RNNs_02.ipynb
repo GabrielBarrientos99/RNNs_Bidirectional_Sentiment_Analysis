{
 "cells": [
  {
   "cell_type": "markdown",
   "metadata": {},
   "source": [
    "# Aumentemos la capa de la estructura de la RNN_01"
   ]
  },
  {
   "cell_type": "code",
   "execution_count": 103,
   "metadata": {},
   "outputs": [],
   "source": [
    "from RNNs_sentimiento01 import RNNode\n",
    "from RNNs_sentimiento01 import Preprocessor"
   ]
  },
  {
   "cell_type": "code",
   "execution_count": 104,
   "metadata": {},
   "outputs": [],
   "source": [
    "import torch\n",
    "import torch.nn as nn\n",
    "import matplotlib.pyplot as plt\n",
    "\n",
    "class RNN_ANN2(nn.Module):\n",
    "    def __init__(self, input_size, hidden_size, output_size=1):\n",
    "        super(RNN_ANN2, self).__init__()\n",
    "\n",
    "        # Atributos (tipo RNNode)\n",
    "        self.cell = RNNode(input_size=input_size, hidden_size=hidden_size)\n",
    "\n",
    "        # Añadiendo más capas ANN para el procesamiento posterior\n",
    "        self.fc1 = nn.Linear(hidden_size, hidden_size)  # Nueva capa lineal\n",
    "        self.relu1 = nn.ReLU()  # Función de activación ReLU\n",
    "        self.fc2 = nn.Linear(hidden_size, hidden_size // 2)  # Otra capa lineal, reduce dimensiones\n",
    "        self.relu2 = nn.ReLU()  # Otra ReLU\n",
    "        self.f_sent = nn.Linear(hidden_size // 2, output_size)  # Capa final ajustada después de nuevas capas\n",
    "\n",
    "    def forward(self, secuencia, h=None):\n",
    "        for x_input in secuencia:\n",
    "            h = self.cell(x_input, h)\n",
    "\n",
    "        # Pasando el estado oculto final a través de las capas adicionales\n",
    "        x = self.fc1(h)\n",
    "        x = self.relu1(x)\n",
    "        x = self.fc2(x)\n",
    "        x = self.relu2(x)\n",
    "        output = self.f_sent(x)\n",
    "        output = torch.tanh(output)  # Manteniendo la función de activación tanh para la salida\n",
    "        output = output.squeeze()  # Eliminando dimensiones extra\n",
    "\n",
    "        return output\n"
   ]
  },
  {
   "cell_type": "code",
   "execution_count": 105,
   "metadata": {},
   "outputs": [],
   "source": [
    "class SentimentRNN(nn.Module):\n",
    "    def __init__(self, input_size, hidden_size, output_size, Preprocessor, dropout=0.5, lr=0.001):\n",
    "        super(SentimentRNN, self).__init__()\n",
    "        self.Preprocessor = Preprocessor\n",
    "        self.model = RNN_ANN2(input_size, hidden_size, output_size)\n",
    "        self.loss = nn.MSELoss()\n",
    "        self.dropout = nn.Dropout(dropout)\n",
    "        self.optimizer = torch.optim.Adam(self.model.parameters(), lr=lr)\n",
    "\n",
    "    def train(self, X_train, y_train, epoch=10, batch_size=32):\n",
    "        loss_list = []\n",
    "        for e in range(epoch):\n",
    "            total_loss = 0\n",
    "            for i in range(0, len(X_train), batch_size):\n",
    "                X_batch = X_train[i:i+batch_size]\n",
    "                y_batch = y_train[i:i+batch_size]\n",
    "                self.optimizer.zero_grad()\n",
    "                outputs = []\n",
    "                for secuencia in X_batch:\n",
    "                    output = self.model(secuencia)\n",
    "                    outputs.append(output)\n",
    "\n",
    "                outputs = torch.stack(outputs).squeeze()\n",
    "                loss = self.loss(outputs, torch.tensor(y_batch))\n",
    "                \n",
    "                loss.backward()\n",
    "                self.optimizer.step()\n",
    "                total_loss += loss.item()\n",
    "                #\n",
    "            loss_list.append(total_loss)\n",
    "            print(f'Epoch {e+1} - Loss: {total_loss}')\n",
    "        self.loss_list = loss_list\n",
    "\n",
    "    def plot_loss(self):\n",
    "        plt.plot(self.loss_list)\n",
    "        plt.xlabel('Epoch')\n",
    "        plt.ylabel('Loss')\n",
    "        plt.show()\n",
    "\n",
    "    def evaluate(self, X_test, y_test):\n",
    "        with torch.no_grad():\n",
    "            total_loss = 0\n",
    "            outputs = []\n",
    "            for secuencia in X_test:\n",
    "                output = self.model(secuencia)\n",
    "                outputs.append(output)\n",
    "            outputs = torch.stack(outputs).squeeze()\n",
    "            total_loss = self.loss(outputs, torch.tensor(y_test)).item()\n",
    "            mse = total_loss / len(y_test)\n",
    "            print(f'MSE: {mse}')\n",
    "        return mse\n",
    "\n",
    "    def predict(self, texto):\n",
    "        secuencia = self.Preprocessor.get_embedding_texto(texto)\n",
    "        output = self.model(secuencia)\n",
    "        return output.item()\n"
   ]
  },
  {
   "cell_type": "code",
   "execution_count": 106,
   "metadata": {},
   "outputs": [
    {
     "name": "stdout",
     "output_type": "stream",
     "text": [
      "Cargando GloVe...\n"
     ]
    }
   ],
   "source": [
    "# Crear el preprocesador\n",
    "preprocessor_train = Preprocessor('./train_data.txt', embedding_type='glove')\n",
    "\n",
    "\n",
    "# Crear el modelo\n",
    "model = SentimentRNN(input_size=100, hidden_size=300, output_size=1, Preprocessor=preprocessor_train, dropout=0.5, lr=0.001)"
   ]
  },
  {
   "cell_type": "code",
   "execution_count": 107,
   "metadata": {},
   "outputs": [
    {
     "name": "stdout",
     "output_type": "stream",
     "text": [
      "Epoch 1 - Loss: 4.49678543349728\n",
      "Epoch 2 - Loss: 4.032744410447776\n",
      "Epoch 3 - Loss: 3.658465313492343\n",
      "Epoch 4 - Loss: 3.1708917059004307\n",
      "Epoch 5 - Loss: 2.5008729491382837\n",
      "Epoch 6 - Loss: 1.8038499131798744\n",
      "Epoch 7 - Loss: 1.6426320374011993\n",
      "Epoch 8 - Loss: 1.758798535913229\n",
      "Epoch 9 - Loss: 1.3311868319287896\n",
      "Epoch 10 - Loss: 1.2614108640700579\n",
      "Epoch 11 - Loss: 1.1776444409042597\n",
      "Epoch 12 - Loss: 0.9422411751002073\n",
      "Epoch 13 - Loss: 0.6262879632413387\n",
      "Epoch 14 - Loss: 0.4967250544577837\n",
      "Epoch 15 - Loss: 0.41904175747185946\n",
      "Epoch 16 - Loss: 0.3483002698048949\n",
      "Epoch 17 - Loss: 0.23924302868545055\n",
      "Epoch 18 - Loss: 0.21055614668875933\n",
      "Epoch 19 - Loss: 0.16718642273917794\n",
      "Epoch 20 - Loss: 0.14626609510742128\n",
      "Epoch 21 - Loss: 0.1619141495320946\n",
      "Epoch 22 - Loss: 0.10166451963596046\n",
      "Epoch 23 - Loss: 0.09316096443217248\n",
      "Epoch 24 - Loss: 0.07859945384552702\n",
      "Epoch 25 - Loss: 0.05698992818361148\n",
      "Epoch 26 - Loss: 0.051324103376828134\n",
      "Epoch 27 - Loss: 0.04509482445428148\n",
      "Epoch 28 - Loss: 0.021624175744364038\n",
      "Epoch 29 - Loss: 0.023485682671889663\n",
      "Epoch 30 - Loss: 0.0339423522236757\n",
      "Epoch 31 - Loss: 0.026106845543836243\n",
      "Epoch 32 - Loss: 0.02435810340102762\n",
      "Epoch 33 - Loss: 0.0340299480012618\n",
      "Epoch 34 - Loss: 0.045472116937162355\n",
      "Epoch 35 - Loss: 0.05575338623020798\n",
      "Epoch 36 - Loss: 0.07964663411257789\n",
      "Epoch 37 - Loss: 0.0650989975547418\n",
      "Epoch 38 - Loss: 0.07695102086290717\n",
      "Epoch 39 - Loss: 0.09173599607311189\n",
      "Epoch 40 - Loss: 0.08853008225560188\n",
      "Epoch 41 - Loss: 0.08417589089367539\n",
      "Epoch 42 - Loss: 0.11487089784350246\n",
      "Epoch 43 - Loss: 0.09202114981599152\n",
      "Epoch 44 - Loss: 0.07030871941242367\n",
      "Epoch 45 - Loss: 0.06396520457929\n",
      "Epoch 46 - Loss: 0.04827659635338932\n",
      "Epoch 47 - Loss: 0.03604168532183394\n",
      "Epoch 48 - Loss: 0.033655696315690875\n",
      "Epoch 49 - Loss: 0.035822280042339116\n",
      "Epoch 50 - Loss: 0.038184438832104206\n",
      "Epoch 51 - Loss: 0.03921902034198865\n",
      "Epoch 52 - Loss: 0.03904992202296853\n",
      "Epoch 53 - Loss: 0.056653272709809244\n",
      "Epoch 54 - Loss: 0.05705228267470375\n",
      "Epoch 55 - Loss: 0.04826389881782234\n",
      "Epoch 56 - Loss: 0.04132206441136077\n",
      "Epoch 57 - Loss: 0.03043271880596876\n",
      "Epoch 58 - Loss: 0.028227123839315027\n",
      "Epoch 59 - Loss: 0.03939381171949208\n",
      "Epoch 60 - Loss: 0.04016990485251881\n",
      "Epoch 61 - Loss: 0.040070109942462295\n",
      "Epoch 62 - Loss: 0.031547894584946334\n",
      "Epoch 63 - Loss: 0.034522623056545854\n",
      "Epoch 64 - Loss: 0.025745214690687135\n",
      "Epoch 65 - Loss: 0.029749981389613822\n",
      "Epoch 66 - Loss: 0.028974054992431775\n",
      "Epoch 67 - Loss: 0.03658253455068916\n",
      "Epoch 68 - Loss: 0.041330594453029335\n",
      "Epoch 69 - Loss: 0.059558253502473235\n",
      "Epoch 70 - Loss: 0.07347105885855854\n",
      "Epoch 71 - Loss: 0.10081689443904907\n",
      "Epoch 72 - Loss: 0.12536397227086127\n",
      "Epoch 73 - Loss: 0.15096320817247033\n",
      "Epoch 74 - Loss: 0.18376931338571012\n",
      "Epoch 75 - Loss: 0.17183405836112797\n",
      "Epoch 76 - Loss: 0.2174091162160039\n",
      "Epoch 77 - Loss: 0.2644843547604978\n",
      "Epoch 78 - Loss: 0.4022043002769351\n",
      "Epoch 79 - Loss: 0.39134269673377275\n",
      "Epoch 80 - Loss: 0.7897829934954643\n",
      "Epoch 81 - Loss: 1.408894570544362\n",
      "Epoch 82 - Loss: 2.254890337586403\n",
      "Epoch 83 - Loss: 2.8303402923047543\n",
      "Epoch 84 - Loss: 2.786070483736694\n",
      "Epoch 85 - Loss: 3.511859204620123\n",
      "Epoch 86 - Loss: 2.4636050164699554\n",
      "Epoch 87 - Loss: 1.7000765539705753\n",
      "Epoch 88 - Loss: 0.8484571548178792\n",
      "Epoch 89 - Loss: 0.6236523073166609\n",
      "Epoch 90 - Loss: 0.5998959951102734\n",
      "Epoch 91 - Loss: 0.3892982732504606\n",
      "Epoch 92 - Loss: 0.24720091954804957\n",
      "Epoch 93 - Loss: 0.13755319046322256\n",
      "Epoch 94 - Loss: 0.08631227817386389\n",
      "Epoch 95 - Loss: 0.044031564611941576\n",
      "Epoch 96 - Loss: 0.030000592581927776\n",
      "Epoch 97 - Loss: 0.026154333987506106\n",
      "Epoch 98 - Loss: 0.015998721224605106\n",
      "Epoch 99 - Loss: 0.013075328621198423\n",
      "Epoch 100 - Loss: 0.011666051024803892\n"
     ]
    }
   ],
   "source": [
    "model.train(preprocessor_train.X, preprocessor_train.y, epoch=100)"
   ]
  },
  {
   "cell_type": "code",
   "execution_count": 108,
   "metadata": {},
   "outputs": [
    {
     "data": {
      "image/png": "[encoded data removed]",
      "text/plain": [
       "<Figure size 640x480 with 1 Axes>"
      ]
     },
     "metadata": {},
     "output_type": "display_data"
    }
   ],
   "source": [
    "# Ploteamos la pérdida\n",
    "model.plot_loss()"
   ]
  },
  {
   "cell_type": "code",
   "execution_count": 112,
   "metadata": {},
   "outputs": [
    {
     "name": "stdout",
     "output_type": "stream",
     "text": [
      "Cargando GloVe...\n"
     ]
    }
   ],
   "source": [
    "# Evaluar el modelo\n",
    "preprocessor_test = Preprocessor('./test_data.txt', embedding_type='glove')"
   ]
  },
  {
   "cell_type": "code",
   "execution_count": 113,
   "metadata": {},
   "outputs": [
    {
     "name": "stdout",
     "output_type": "stream",
     "text": [
      "MSE: 0.01984870433807373\n"
     ]
    },
    {
     "data": {
      "text/plain": [
       "0.01984870433807373"
      ]
     },
     "execution_count": 113,
     "metadata": {},
     "output_type": "execute_result"
    }
   ],
   "source": [
    "# Evaluar el modelo\n",
    "model.evaluate(preprocessor_test.X, preprocessor_test.y)"
   ]
  },
  {
   "cell_type": "code",
   "execution_count": 114,
   "metadata": {},
   "outputs": [
    {
     "name": "stdout",
     "output_type": "stream",
     "text": [
      "Sentimiento: 0.07966874539852142\n"
     ]
    }
   ],
   "source": [
    "# Predecimos el sentimiento de un texto\n",
    "texto = 'Creo la vida es divertida pero a veces es difícil'\n",
    "sentimiento = model.predict(texto)\n",
    "print(f'Sentimiento: {sentimiento}')"
   ]
  },
  {
   "cell_type": "code",
   "execution_count": 115,
   "metadata": {},
   "outputs": [],
   "source": [
    "# Oraciones a probar\n",
    "sentences = [\n",
    "    'La vida es hermosa',\n",
    "    'La vida es triste',\n",
    "    'La vida es un juego',\n",
    "    'La vida es un sueño',\n",
    "    'Tengo mucho trabajo',\n",
    "    'No tengo trabajo',\n",
    "    'Quiero jugar en la noche',\n",
    "    'A veces creo que el simple hecho de vivir es un milagro',\n",
    "    'A veces creo que cuando todo sale mal, es porque algo mejor está por venir',\n",
    "    'Uno nunca sabe lo que tiene hasta que lo pierde',\n",
    "    'La vida es un regalo',\n",
    "    'La felicidad es parte de vivir? o la vida siempre va ser una desgracia?',\n",
    "    'Opino que el hecho de vivir en este mundo es una desgracia, fuimos condenados a tener que trabajar y vivir malas experiencias',\n",
    "    'Opino que el hecho de vivir en este mundo es una bendición, fuimos premiados con la oportunidad de vivir y disfrutar de la vida',\n",
    "]"
   ]
  },
  {
   "cell_type": "code",
   "execution_count": 116,
   "metadata": {},
   "outputs": [
    {
     "name": "stdout",
     "output_type": "stream",
     "text": [
      "Sentimiento de \"La vida es hermosa\": 0.826107919216156\n",
      "Sentimiento de \"La vida es triste\": -0.6909604072570801\n",
      "Sentimiento de \"La vida es un juego\": 0.3330773413181305\n",
      "Sentimiento de \"La vida es un sueño\": 0.4011445939540863\n",
      "Sentimiento de \"Tengo mucho trabajo\": -0.0029476729687303305\n",
      "Sentimiento de \"No tengo trabajo\": -0.5103658437728882\n",
      "Sentimiento de \"Quiero jugar en la noche\": 0.22261609137058258\n",
      "Sentimiento de \"A veces creo que el simple hecho de vivir es un milagro\": 0.7077626585960388\n",
      "Sentimiento de \"A veces creo que cuando todo sale mal, es porque algo mejor está por venir\": 0.5068033337593079\n",
      "Sentimiento de \"Uno nunca sabe lo que tiene hasta que lo pierde\": -0.4012337028980255\n",
      "Sentimiento de \"La vida es un regalo\": 0.7233216166496277\n",
      "Sentimiento de \"La felicidad es parte de vivir? o la vida siempre va ser una desgracia?\": -0.6212287545204163\n",
      "Sentimiento de \"Opino que el hecho de vivir en este mundo es una desgracia, fuimos condenados a tener que trabajar y vivir malas experiencias\": -0.7954316735267639\n",
      "Sentimiento de \"Opino que el hecho de vivir en este mundo es una bendición, fuimos premiados con la oportunidad de vivir y disfrutar de la vida\": 0.8708775043487549\n"
     ]
    }
   ],
   "source": [
    "# Probamos el modelo con las oraciones\n",
    "for sentence in sentences:\n",
    "    sentiment = model.predict(sentence)\n",
    "    print(f'Sentimiento de \"{sentence}\": {sentiment}')"
   ]
  },
  {
   "cell_type": "code",
   "execution_count": 117,
   "metadata": {},
   "outputs": [],
   "source": [
    "sentences = [\n",
    "    \"A veces siento que el esfuerzo vale la pena, aunque el camino sea difícil\",\n",
    "    \"La vida nos sorprende con momentos inesperados que nos enseñan grandes lecciones\",\n",
    "    \"Hoy me siento en paz, sin preocupaciones que alteren mi tranquilidad\",\n",
    "    \"Los desafíos son oportunidades para crecer y fortalecer nuestro carácter\",\n",
    "    \"Quisiera entender por qué algunas cosas suceden sin razón aparente\",\n",
    "    \"Cada sonrisa es un pequeño recordatorio de las cosas buenas de la vida\",\n",
    "    \"La paciencia me ayuda a enfrentar las situaciones difíciles con calma\",\n",
    "    \"Es reconfortante pensar que siempre hay algo nuevo por aprender\",\n",
    "    \"La vida no siempre es justa, pero trato de aceptar las cosas como son\",\n",
    "    \"Aprecio los momentos de silencio, son espacios para reflexionar y crecer\"\n",
    "]\n"
   ]
  },
  {
   "cell_type": "code",
   "execution_count": 118,
   "metadata": {},
   "outputs": [
    {
     "name": "stdout",
     "output_type": "stream",
     "text": [
      "Sentimiento de \"A veces siento que el esfuerzo vale la pena, aunque el camino sea difícil\": -0.002677856246009469\n",
      "Sentimiento de \"La vida nos sorprende con momentos inesperados que nos enseñan grandes lecciones\": 0.13729697465896606\n",
      "Sentimiento de \"Hoy me siento en paz, sin preocupaciones que alteren mi tranquilidad\": -0.015160203911364079\n",
      "Sentimiento de \"Los desafíos son oportunidades para crecer y fortalecer nuestro carácter\": 0.5388038158416748\n",
      "Sentimiento de \"Quisiera entender por qué algunas cosas suceden sin razón aparente\": -0.11640710383653641\n",
      "Sentimiento de \"Cada sonrisa es un pequeño recordatorio de las cosas buenas de la vida\": 0.17104217410087585\n",
      "Sentimiento de \"La paciencia me ayuda a enfrentar las situaciones difíciles con calma\": 0.0651886984705925\n",
      "Sentimiento de \"Es reconfortante pensar que siempre hay algo nuevo por aprender\": 0.3773796558380127\n",
      "Sentimiento de \"La vida no siempre es justa, pero trato de aceptar las cosas como son\": 0.15624549984931946\n",
      "Sentimiento de \"Aprecio los momentos de silencio, son espacios para reflexionar y crecer\": 0.5002931952476501\n"
     ]
    }
   ],
   "source": [
    "# Probamos el modelo con las oraciones\n",
    "# Almacenamos en una lista los sentimientos de cada oración\n",
    "sentiments = []\n",
    "for sentence in sentences:\n",
    "    sentiment = model.predict(sentence)\n",
    "    sentiments.append(sentiment)\n",
    "    print(f'Sentimiento de \"{sentence}\": {sentiment}')"
   ]
  },
  {
   "cell_type": "markdown",
   "metadata": {},
   "source": [
    "# Usamos el embedding de Word2vec"
   ]
  },
  {
   "cell_type": "code",
   "execution_count": 119,
   "metadata": {},
   "outputs": [
    {
     "name": "stdout",
     "output_type": "stream",
     "text": [
      "Cargando Word2Vec...\n"
     ]
    }
   ],
   "source": [
    "# definimos el preprocesador\n",
    "preprocessor_train_word2vec = Preprocessor('./train_data.txt', embedding_type='word2vec')"
   ]
  },
  {
   "cell_type": "code",
   "execution_count": 120,
   "metadata": {},
   "outputs": [],
   "source": [
    "# Crear el modelo\n",
    "model_word2vec = SentimentRNN(input_size=300, hidden_size=300, output_size=1, Preprocessor=preprocessor_train_word2vec, dropout=0.5, lr=0.001)"
   ]
  },
  {
   "cell_type": "code",
   "execution_count": 121,
   "metadata": {},
   "outputs": [
    {
     "name": "stdout",
     "output_type": "stream",
     "text": [
      "Epoch 1 - Loss: 4.281173239927739\n",
      "Epoch 2 - Loss: 4.130338530289009\n",
      "Epoch 3 - Loss: 4.105589230544865\n",
      "Epoch 4 - Loss: 3.815966507419944\n",
      "Epoch 5 - Loss: 3.47546892426908\n",
      "Epoch 6 - Loss: 3.0070141330361366\n",
      "Epoch 7 - Loss: 2.8903326895087957\n",
      "Epoch 8 - Loss: 2.7272773683071136\n",
      "Epoch 9 - Loss: 2.5710011050105095\n",
      "Epoch 10 - Loss: 2.4334477074444294\n",
      "Epoch 11 - Loss: 2.0301875956356525\n",
      "Epoch 12 - Loss: 1.9898205026984215\n",
      "Epoch 13 - Loss: 1.7275177696719766\n",
      "Epoch 14 - Loss: 1.6871683076024055\n",
      "Epoch 15 - Loss: 1.3241529501974583\n",
      "Epoch 16 - Loss: 1.1106266733258963\n",
      "Epoch 17 - Loss: 1.023875292390585\n",
      "Epoch 18 - Loss: 0.886476518586278\n",
      "Epoch 19 - Loss: 0.58161192946136\n",
      "Epoch 20 - Loss: 0.526205831207335\n",
      "Epoch 21 - Loss: 0.5326532712206244\n",
      "Epoch 22 - Loss: 0.5460632583126426\n",
      "Epoch 23 - Loss: 0.5725648617371917\n",
      "Epoch 24 - Loss: 0.3768420806154609\n",
      "Epoch 25 - Loss: 0.34871378680691123\n",
      "Epoch 26 - Loss: 0.34218817623332143\n",
      "Epoch 27 - Loss: 0.2871631891466677\n",
      "Epoch 28 - Loss: 0.3377394871786237\n",
      "Epoch 29 - Loss: 0.2965322374366224\n",
      "Epoch 30 - Loss: 0.33239785535261035\n",
      "Epoch 31 - Loss: 0.3015132532455027\n",
      "Epoch 32 - Loss: 0.362188340164721\n",
      "Epoch 33 - Loss: 0.30651212204247713\n",
      "Epoch 34 - Loss: 0.22146610380150378\n",
      "Epoch 35 - Loss: 0.1862619509920478\n",
      "Epoch 36 - Loss: 0.18745135923381895\n",
      "Epoch 37 - Loss: 0.23067496879957616\n",
      "Epoch 38 - Loss: 0.231219791341573\n",
      "Epoch 39 - Loss: 0.23734574299305677\n",
      "Epoch 40 - Loss: 0.20082677900791168\n",
      "Epoch 41 - Loss: 0.22332968993578106\n",
      "Epoch 42 - Loss: 0.19987111940281466\n",
      "Epoch 43 - Loss: 0.14852213230915368\n",
      "Epoch 44 - Loss: 0.13589331321418285\n",
      "Epoch 45 - Loss: 0.11139524064492434\n",
      "Epoch 46 - Loss: 0.10415666789049283\n",
      "Epoch 47 - Loss: 0.09830776113085449\n",
      "Epoch 48 - Loss: 0.09572424605721608\n",
      "Epoch 49 - Loss: 0.07641973765566945\n",
      "Epoch 50 - Loss: 0.09313700365601107\n",
      "Epoch 51 - Loss: 0.10533072811085731\n",
      "Epoch 52 - Loss: 0.06522835727082565\n",
      "Epoch 53 - Loss: 0.06287188845453784\n",
      "Epoch 54 - Loss: 0.06796237715752795\n",
      "Epoch 55 - Loss: 0.058856633957475424\n",
      "Epoch 56 - Loss: 0.0542403198487591\n",
      "Epoch 57 - Loss: 0.06285386948729865\n",
      "Epoch 58 - Loss: 0.08946215332252905\n",
      "Epoch 59 - Loss: 0.10778228798881173\n",
      "Epoch 60 - Loss: 0.13396797375753522\n",
      "Epoch 61 - Loss: 0.14198185480199754\n",
      "Epoch 62 - Loss: 0.1419901309418492\n",
      "Epoch 63 - Loss: 0.13252454064786434\n",
      "Epoch 64 - Loss: 0.13511786016169935\n",
      "Epoch 65 - Loss: 0.1609359064605087\n",
      "Epoch 66 - Loss: 0.21680189517792314\n",
      "Epoch 67 - Loss: 0.22304944647476077\n",
      "Epoch 68 - Loss: 0.3305898695252836\n",
      "Epoch 69 - Loss: 0.8705742810852826\n",
      "Epoch 70 - Loss: 1.8336762059479952\n",
      "Epoch 71 - Loss: 4.06091579515487\n",
      "Epoch 72 - Loss: 3.6107159638777375\n",
      "Epoch 73 - Loss: 3.0128338374197483\n",
      "Epoch 74 - Loss: 2.4699943214654922\n",
      "Epoch 75 - Loss: 2.343956857919693\n",
      "Epoch 76 - Loss: 2.3473289012908936\n",
      "Epoch 77 - Loss: 2.179763775318861\n",
      "Epoch 78 - Loss: 1.9306357689201832\n",
      "Epoch 79 - Loss: 1.1744397869333625\n",
      "Epoch 80 - Loss: 0.8157158177345991\n",
      "Epoch 81 - Loss: 0.625842759385705\n",
      "Epoch 82 - Loss: 0.6095766387879848\n",
      "Epoch 83 - Loss: 0.5139381745830178\n",
      "Epoch 84 - Loss: 0.3514203014783561\n",
      "Epoch 85 - Loss: 0.2629220150411129\n",
      "Epoch 86 - Loss: 0.2223344510421157\n",
      "Epoch 87 - Loss: 0.2383367100264877\n",
      "Epoch 88 - Loss: 0.1523961272323504\n",
      "Epoch 89 - Loss: 0.1296355756931007\n",
      "Epoch 90 - Loss: 0.09825941675808281\n",
      "Epoch 91 - Loss: 0.06473763578105718\n",
      "Epoch 92 - Loss: 0.05096664832672104\n",
      "Epoch 93 - Loss: 0.0488450825214386\n",
      "Epoch 94 - Loss: 0.03520905098412186\n",
      "Epoch 95 - Loss: 0.03145414747996256\n",
      "Epoch 96 - Loss: 0.030759109475184232\n",
      "Epoch 97 - Loss: 0.037837893061805516\n",
      "Epoch 98 - Loss: 0.0314089656167198\n",
      "Epoch 99 - Loss: 0.03248727403115481\n",
      "Epoch 100 - Loss: 0.03451111385948025\n"
     ]
    }
   ],
   "source": [
    "# Entrenamos el modelo\n",
    "model_word2vec.train(preprocessor_train_word2vec.X, preprocessor_train_word2vec.y, epoch=100, batch_size=32)"
   ]
  },
  {
   "cell_type": "code",
   "execution_count": 122,
   "metadata": {},
   "outputs": [
    {
     "name": "stdout",
     "output_type": "stream",
     "text": [
      "Sentimiento de \"A veces siento que el esfuerzo vale la pena, aunque el camino sea difícil\": 0.48890334367752075\n",
      "Sentimiento de \"La vida nos sorprende con momentos inesperados que nos enseñan grandes lecciones\": 0.46778637170791626\n",
      "Sentimiento de \"Hoy me siento en paz, sin preocupaciones que alteren mi tranquilidad\": 0.29573363065719604\n",
      "Sentimiento de \"Los desafíos son oportunidades para crecer y fortalecer nuestro carácter\": 0.31268104910850525\n",
      "Sentimiento de \"Quisiera entender por qué algunas cosas suceden sin razón aparente\": -0.018703212961554527\n",
      "Sentimiento de \"Cada sonrisa es un pequeño recordatorio de las cosas buenas de la vida\": 0.6952030062675476\n",
      "Sentimiento de \"La paciencia me ayuda a enfrentar las situaciones difíciles con calma\": 0.49930548667907715\n",
      "Sentimiento de \"Es reconfortante pensar que siempre hay algo nuevo por aprender\": 0.3066975474357605\n",
      "Sentimiento de \"La vida no siempre es justa, pero trato de aceptar las cosas como son\": -0.02927745319902897\n",
      "Sentimiento de \"Aprecio los momentos de silencio, son espacios para reflexionar y crecer\": 0.6441857218742371\n"
     ]
    }
   ],
   "source": [
    "sentences = [\n",
    "    \"A veces siento que el esfuerzo vale la pena, aunque el camino sea difícil\",\n",
    "    \"La vida nos sorprende con momentos inesperados que nos enseñan grandes lecciones\",\n",
    "    \"Hoy me siento en paz, sin preocupaciones que alteren mi tranquilidad\",\n",
    "    \"Los desafíos son oportunidades para crecer y fortalecer nuestro carácter\",\n",
    "    \"Quisiera entender por qué algunas cosas suceden sin razón aparente\",\n",
    "    \"Cada sonrisa es un pequeño recordatorio de las cosas buenas de la vida\",\n",
    "    \"La paciencia me ayuda a enfrentar las situaciones difíciles con calma\",\n",
    "    \"Es reconfortante pensar que siempre hay algo nuevo por aprender\",\n",
    "    \"La vida no siempre es justa, pero trato de aceptar las cosas como son\",\n",
    "    \"Aprecio los momentos de silencio, son espacios para reflexionar y crecer\"\n",
    "]\n",
    "\n",
    "# Probamos el modelo con las oraciones\n",
    "# Almacenamos en una lista los sentimientos de cada oración\n",
    "sentiments_word2vec = []\n",
    "for sentence in sentences:\n",
    "    sentiment_word2vec = model_word2vec.predict(sentence)\n",
    "    sentiments_word2vec.append(sentiment_word2vec)\n",
    "    print(f'Sentimiento de \"{sentence}\": {sentiment_word2vec}')"
   ]
  },
  {
   "cell_type": "code",
   "execution_count": 123,
   "metadata": {},
   "outputs": [
    {
     "data": {
      "image/png": "[encoded data removed]",
      "text/plain": [
       "<Figure size 640x480 with 1 Axes>"
      ]
     },
     "metadata": {},
     "output_type": "display_data"
    }
   ],
   "source": [
    "# Comparamos en un gráfico los sentimientos de las oraciones con los dos modelos\n",
    "plt.plot(sentiments, label='GloVe')\n",
    "plt.plot(sentiments_word2vec, label='Word2Vec')\n",
    "plt.xlabel('Oraciones')\n",
    "plt.ylabel('Sentimiento')\n",
    "plt.legend()\n",
    "plt.show()"
   ]
  },
  {
   "cell_type": "code",
   "execution_count": 124,
   "metadata": {},
   "outputs": [],
   "source": [
    "import plotly.graph_objects as go\n",
    "\n",
    "# Función para evaluar modelos y graficar resultados\n",
    "def evaluate_models_sentences(sentences, model1, model2, target_sentence):\n",
    "    sentiments_model1 = []\n",
    "    sentiments_model2 = []\n",
    "    \n",
    "    for sentence in sentences:\n",
    "        sentiment_model1 = model1.predict(sentence)\n",
    "        sentiment_model2 = model2.predict(sentence)\n",
    "        sentiments_model1.append(sentiment_model1)\n",
    "        sentiments_model2.append(sentiment_model2)\n",
    "        print(f'Sentimiento de \"{sentence}\": {sentiment_model1} - {sentiment_model2}')\n",
    "    \n",
    "    # Crear gráfico de barras interactivo con Plotly\n",
    "    index = list(range(len(sentences)))\n",
    "    \n",
    "    fig = go.Figure()\n",
    "    \n",
    "    # Agregar barras para cada modelo y los targets\n",
    "    fig.add_trace(go.Bar(\n",
    "        x=index,\n",
    "        y=sentiments_model1,\n",
    "        name='GloVe',\n",
    "        text=sentences,  # etiquetas de las oraciones\n",
    "        hoverinfo=\"text+y\"\n",
    "    ))\n",
    "\n",
    "    fig.add_trace(go.Bar(\n",
    "        x=[i + 0.2 for i in index],  # desplazamiento\n",
    "        y=sentiments_model2,\n",
    "        name='Word2Vec',\n",
    "        text=sentences,\n",
    "        hoverinfo=\"text+y\"\n",
    "    ))\n",
    "\n",
    "    fig.add_trace(go.Bar(\n",
    "        x=[i + 0.4 for i in index],  # desplazamiento\n",
    "        y=target_sentence,\n",
    "        name='Target',\n",
    "        text=sentences,\n",
    "        hoverinfo=\"text+y\"\n",
    "    ))\n",
    "\n",
    "    # Actualizar diseño del gráfico\n",
    "    fig.update_layout(\n",
    "        title=\"Comparación de Sentimientos entre Modelos\",\n",
    "        xaxis=dict(\n",
    "            title=\"Oraciones\",\n",
    "            tickvals=index,\n",
    "            ticktext=[f'Oración {i+1}' for i in index],  # etiquetas en el eje x\n",
    "        ),\n",
    "        yaxis=dict(title=\"Sentimiento\"),\n",
    "        barmode='group',\n",
    "        bargap=0.15,\n",
    "        bargroupgap=0.1,\n",
    "        legend=dict(title=\"Modelo\")\n",
    "    )\n",
    "    \n",
    "    # Mostrar gráfico interactivo\n",
    "    fig.show()\n",
    "\n",
    "    # Calculo de los errores cuadráticos medios\n",
    "    mse1 = 0\n",
    "    mse2 = 0\n",
    "    for sent_pred1, sent_pred2, sent_target in zip(sentiments_model1, sentiments_model2, target_sentence):\n",
    "        mse1 += (sent_pred1 - sent_target) ** 2\n",
    "        mse2 += (sent_pred2 - sent_target) ** 2\n",
    "    \n",
    "    mse1 /= len(sentiments_model1)\n",
    "    mse2 /= len(sentiments_model2)\n",
    "\n",
    "    # Imprimimos los errores cuadráticos medios\n",
    "    print(f'MSE GloVe: {mse1}')\n",
    "    print(f'MSE Word2Vec: {mse2}')\n",
    "\n",
    "    return  mse1, mse2\n",
    "\n"
   ]
  },
  {
   "cell_type": "code",
   "execution_count": 125,
   "metadata": {},
   "outputs": [],
   "source": [
    "# Definimos las oraciones a evaluar\n",
    "sentences = [\n",
    "    'Hoy siento que tengo mucha energía y entusiasmo',\n",
    "    'La vida no siempre es fácil, pero hay que seguir adelante',\n",
    "    'Estoy cansado de todo, nada parece tener sentido',\n",
    "    'Hoy fue un día normal, sin muchas novedades',\n",
    "    'Me encanta pasar tiempo con mis amigos, me hace feliz',\n",
    "    'No soporto la forma en la que me tratan, me siento mal',\n",
    "    'Hoy fue uno de esos días en los que todo salió bien',\n",
    "    'A veces creo que no tengo claro hacia dónde voy',\n",
    "    'Hoy tuve una conversación inspiradora, me siento motivado'\n",
    "]\n",
    "\n",
    "# Definimos el valor de sentimiento esperado para cada oración\n",
    "target_sentiment = [0.9, 0.4, -0.7, 0.0, 0.8, -0.8, 0.9, -0.2, 0.7]\n"
   ]
  },
  {
   "cell_type": "code",
   "execution_count": 126,
   "metadata": {},
   "outputs": [
    {
     "name": "stdout",
     "output_type": "stream",
     "text": [
      "Sentimiento de \"Hoy siento que tengo mucha energía y entusiasmo\": 0.7061707973480225 - 0.013425638899207115\n",
      "Sentimiento de \"La vida no siempre es fácil, pero hay que seguir adelante\": 0.23784969747066498 - -0.14248277246952057\n",
      "Sentimiento de \"Estoy cansado de todo, nada parece tener sentido\": 0.416733056306839 - 0.28006020188331604\n",
      "Sentimiento de \"Hoy fue un día normal, sin muchas novedades\": 0.00670749694108963 - -0.09351955354213715\n",
      "Sentimiento de \"Me encanta pasar tiempo con mis amigos, me hace feliz\": 0.11178972572088242 - 0.49058088660240173\n",
      "Sentimiento de \"No soporto la forma en la que me tratan, me siento mal\": -0.09703627973794937 - -0.8262597322463989\n",
      "Sentimiento de \"Hoy fue uno de esos días en los que todo salió bien\": 0.21168160438537598 - -0.1376463919878006\n",
      "Sentimiento de \"A veces creo que no tengo claro hacia dónde voy\": 0.40670958161354065 - 0.12117581069469452\n",
      "Sentimiento de \"Hoy tuve una conversación inspiradora, me siento motivado\": 0.7955495715141296 - 0.03645085170865059\n"
     ]
    },
    {
     "data": {
      "application/vnd.plotly.v1+json": {
       "config": {
        "plotlyServerURL": "https://plot.ly"
       },
       "data": [
        {
         "hoverinfo": "text+y",
         "name": "GloVe",
         "text": [
          "Hoy siento que tengo mucha energía y entusiasmo",
          "La vida no siempre es fácil, pero hay que seguir adelante",
          "Estoy cansado de todo, nada parece tener sentido",
          "Hoy fue un día normal, sin muchas novedades",
          "Me encanta pasar tiempo con mis amigos, me hace feliz",
          "No soporto la forma en la que me tratan, me siento mal",
          "Hoy fue uno de esos días en los que todo salió bien",
          "A veces creo que no tengo claro hacia dónde voy",
          "Hoy tuve una conversación inspiradora, me siento motivado"
         ],
         "type": "bar",
         "x": [
          0,
          1,
          2,
          3,
          4,
          5,
          6,
          7,
          8
         ],
         "y": [
          0.7061707973480225,
          0.23784969747066498,
          0.416733056306839,
          0.00670749694108963,
          0.11178972572088242,
          -0.09703627973794937,
          0.21168160438537598,
          0.40670958161354065,
          0.7955495715141296
         ]
        },
        {
         "hoverinfo": "text+y",
         "name": "Word2Vec",
         "text": [
          "Hoy siento que tengo mucha energía y entusiasmo",
          "La vida no siempre es fácil, pero hay que seguir adelante",
          "Estoy cansado de todo, nada parece tener sentido",
          "Hoy fue un día normal, sin muchas novedades",
          "Me encanta pasar tiempo con mis amigos, me hace feliz",
          "No soporto la forma en la que me tratan, me siento mal",
          "Hoy fue uno de esos días en los que todo salió bien",
          "A veces creo que no tengo claro hacia dónde voy",
          "Hoy tuve una conversación inspiradora, me siento motivado"
         ],
         "type": "bar",
         "x": [
          0.2,
          1.2,
          2.2,
          3.2,
          4.2,
          5.2,
          6.2,
          7.2,
          8.2
         ],
         "y": [
          0.013425638899207115,
          -0.14248277246952057,
          0.28006020188331604,
          -0.09351955354213715,
          0.49058088660240173,
          -0.8262597322463989,
          -0.1376463919878006,
          0.12117581069469452,
          0.03645085170865059
         ]
        },
        {
         "hoverinfo": "text+y",
         "name": "Target",
         "text": [
          "Hoy siento que tengo mucha energía y entusiasmo",
          "La vida no siempre es fácil, pero hay que seguir adelante",
          "Estoy cansado de todo, nada parece tener sentido",
          "Hoy fue un día normal, sin muchas novedades",
          "Me encanta pasar tiempo con mis amigos, me hace feliz",
          "No soporto la forma en la que me tratan, me siento mal",
          "Hoy fue uno de esos días en los que todo salió bien",
          "A veces creo que no tengo claro hacia dónde voy",
          "Hoy tuve una conversación inspiradora, me siento motivado"
         ],
         "type": "bar",
         "x": [
          0.4,
          1.4,
          2.4,
          3.4,
          4.4,
          5.4,
          6.4,
          7.4,
          8.4
         ],
         "y": [
          0.9,
          0.4,
          -0.7,
          0,
          0.8,
          -0.8,
          0.9,
          -0.2,
          0.7
         ]
        }
       ],
       "layout": {
        "bargap": 0.15,
        "bargroupgap": 0.1,
        "barmode": "group",
        "legend": {
         "title": {
          "text": "Modelo"
         }
        },
        "template": {
         "data": {
          "bar": [
           {
            "error_x": {
             "color": "#2a3f5f"
            },
            "error_y": {
             "color": "#2a3f5f"
            },
            "marker": {
             "line": {
              "color": "#E5ECF6",
              "width": 0.5
             },
             "pattern": {
              "fillmode": "overlay",
              "size": 10,
              "solidity": 0.2
             }
            },
            "type": "bar"
           }
          ],
          "barpolar": [
           {
            "marker": {
             "line": {
              "color": "#E5ECF6",
              "width": 0.5
             },
             "pattern": {
              "fillmode": "overlay",
              "size": 10,
              "solidity": 0.2
             }
            },
            "type": "barpolar"
           }
          ],
          "carpet": [
           {
            "aaxis": {
             "endlinecolor": "#2a3f5f",
             "gridcolor": "white",
             "linecolor": "white",
             "minorgridcolor": "white",
             "startlinecolor": "#2a3f5f"
            },
            "baxis": {
             "endlinecolor": "#2a3f5f",
             "gridcolor": "white",
             "linecolor": "white",
             "minorgridcolor": "white",
             "startlinecolor": "#2a3f5f"
            },
            "type": "carpet"
           }
          ],
          "choropleth": [
           {
            "colorbar": {
             "outlinewidth": 0,
             "ticks": ""
            },
            "type": "choropleth"
           }
          ],
          "contour": [
           {
            "colorbar": {
             "outlinewidth": 0,
             "ticks": ""
            },
            "colorscale": [
             [
              0,
              "#0d0887"
             ],
             [
              0.1111111111111111,
              "#46039f"
             ],
             [
              0.2222222222222222,
              "#7201a8"
             ],
             [
              0.3333333333333333,
              "#9c179e"
             ],
             [
              0.4444444444444444,
              "#bd3786"
             ],
             [
              0.5555555555555556,
              "#d8576b"
             ],
             [
              0.6666666666666666,
              "#ed7953"
             ],
             [
              0.7777777777777778,
              "#fb9f3a"
             ],
             [
              0.8888888888888888,
              "#fdca26"
             ],
             [
              1,
              "#f0f921"
             ]
            ],
            "type": "contour"
           }
          ],
          "contourcarpet": [
           {
            "colorbar": {
             "outlinewidth": 0,
             "ticks": ""
            },
            "type": "contourcarpet"
           }
          ],
          "heatmap": [
           {
            "colorbar": {
             "outlinewidth": 0,
             "ticks": ""
            },
            "colorscale": [
             [
              0,
              "#0d0887"
             ],
             [
              0.1111111111111111,
              "#46039f"
             ],
             [
              0.2222222222222222,
              "#7201a8"
             ],
             [
              0.3333333333333333,
              "#9c179e"
             ],
             [
              0.4444444444444444,
              "#bd3786"
             ],
             [
              0.5555555555555556,
              "#d8576b"
             ],
             [
              0.6666666666666666,
              "#ed7953"
             ],
             [
              0.7777777777777778,
              "#fb9f3a"
             ],
             [
              0.8888888888888888,
              "#fdca26"
             ],
             [
              1,
              "#f0f921"
             ]
            ],
            "type": "heatmap"
           }
          ],
          "heatmapgl": [
           {
            "colorbar": {
             "outlinewidth": 0,
             "ticks": ""
            },
            "colorscale": [
             [
              0,
              "#0d0887"
             ],
             [
              0.1111111111111111,
              "#46039f"
             ],
             [
              0.2222222222222222,
              "#7201a8"
             ],
             [
              0.3333333333333333,
              "#9c179e"
             ],
             [
              0.4444444444444444,
              "#bd3786"
             ],
             [
              0.5555555555555556,
              "#d8576b"
             ],
             [
              0.6666666666666666,
              "#ed7953"
             ],
             [
              0.7777777777777778,
              "#fb9f3a"
             ],
             [
              0.8888888888888888,
              "#fdca26"
             ],
             [
              1,
              "#f0f921"
             ]
            ],
            "type": "heatmapgl"
           }
          ],
          "histogram": [
           {
            "marker": {
             "pattern": {
              "fillmode": "overlay",
              "size": 10,
              "solidity": 0.2
             }
            },
            "type": "histogram"
           }
          ],
          "histogram2d": [
           {
            "colorbar": {
             "outlinewidth": 0,
             "ticks": ""
            },
            "colorscale": [
             [
              0,
              "#0d0887"
             ],
             [
              0.1111111111111111,
              "#46039f"
             ],
             [
              0.2222222222222222,
              "#7201a8"
             ],
             [
              0.3333333333333333,
              "#9c179e"
             ],
             [
              0.4444444444444444,
              "#bd3786"
             ],
             [
              0.5555555555555556,
              "#d8576b"
             ],
             [
              0.6666666666666666,
              "#ed7953"
             ],
             [
              0.7777777777777778,
              "#fb9f3a"
             ],
             [
              0.8888888888888888,
              "#fdca26"
             ],
             [
              1,
              "#f0f921"
             ]
            ],
            "type": "histogram2d"
           }
          ],
          "histogram2dcontour": [
           {
            "colorbar": {
             "outlinewidth": 0,
             "ticks": ""
            },
            "colorscale": [
             [
              0,
              "#0d0887"
             ],
             [
              0.1111111111111111,
              "#46039f"
             ],
             [
              0.2222222222222222,
              "#7201a8"
             ],
             [
              0.3333333333333333,
              "#9c179e"
             ],
             [
              0.4444444444444444,
              "#bd3786"
             ],
             [
              0.5555555555555556,
              "#d8576b"
             ],
             [
              0.6666666666666666,
              "#ed7953"
             ],
             [
              0.7777777777777778,
              "#fb9f3a"
             ],
             [
              0.8888888888888888,
              "#fdca26"
             ],
             [
              1,
              "#f0f921"
             ]
            ],
            "type": "histogram2dcontour"
           }
          ],
          "mesh3d": [
           {
            "colorbar": {
             "outlinewidth": 0,
             "ticks": ""
            },
            "type": "mesh3d"
           }
          ],
          "parcoords": [
           {
            "line": {
             "colorbar": {
              "outlinewidth": 0,
              "ticks": ""
             }
            },
            "type": "parcoords"
           }
          ],
          "pie": [
           {
            "automargin": true,
            "type": "pie"
           }
          ],
          "scatter": [
           {
            "fillpattern": {
             "fillmode": "overlay",
             "size": 10,
             "solidity": 0.2
            },
            "type": "scatter"
           }
          ],
          "scatter3d": [
           {
            "line": {
             "colorbar": {
              "outlinewidth": 0,
              "ticks": ""
             }
            },
            "marker": {
             "colorbar": {
              "outlinewidth": 0,
              "ticks": ""
             }
            },
            "type": "scatter3d"
           }
          ],
          "scattercarpet": [
           {
            "marker": {
             "colorbar": {
              "outlinewidth": 0,
              "ticks": ""
             }
            },
            "type": "scattercarpet"
           }
          ],
          "scattergeo": [
           {
            "marker": {
             "colorbar": {
              "outlinewidth": 0,
              "ticks": ""
             }
            },
            "type": "scattergeo"
           }
          ],
          "scattergl": [
           {
            "marker": {
             "colorbar": {
              "outlinewidth": 0,
              "ticks": ""
             }
            },
            "type": "scattergl"
           }
          ],
          "scattermapbox": [
           {
            "marker": {
             "colorbar": {
              "outlinewidth": 0,
              "ticks": ""
             }
            },
            "type": "scattermapbox"
           }
          ],
          "scatterpolar": [
           {
            "marker": {
             "colorbar": {
              "outlinewidth": 0,
              "ticks": ""
             }
            },
            "type": "scatterpolar"
           }
          ],
          "scatterpolargl": [
           {
            "marker": {
             "colorbar": {
              "outlinewidth": 0,
              "ticks": ""
             }
            },
            "type": "scatterpolargl"
           }
          ],
          "scatterternary": [
           {
            "marker": {
             "colorbar": {
              "outlinewidth": 0,
              "ticks": ""
             }
            },
            "type": "scatterternary"
           }
          ],
          "surface": [
           {
            "colorbar": {
             "outlinewidth": 0,
             "ticks": ""
            },
            "colorscale": [
             [
              0,
              "#0d0887"
             ],
             [
              0.1111111111111111,
              "#46039f"
             ],
             [
              0.2222222222222222,
              "#7201a8"
             ],
             [
              0.3333333333333333,
              "#9c179e"
             ],
             [
              0.4444444444444444,
              "#bd3786"
             ],
             [
              0.5555555555555556,
              "#d8576b"
             ],
             [
              0.6666666666666666,
              "#ed7953"
             ],
             [
              0.7777777777777778,
              "#fb9f3a"
             ],
             [
              0.8888888888888888,
              "#fdca26"
             ],
             [
              1,
              "#f0f921"
             ]
            ],
            "type": "surface"
           }
          ],
          "table": [
           {
            "cells": {
             "fill": {
              "color": "#EBF0F8"
             },
             "line": {
              "color": "white"
             }
            },
            "header": {
             "fill": {
              "color": "#C8D4E3"
             },
             "line": {
              "color": "white"
             }
            },
            "type": "table"
           }
          ]
         },
         "layout": {
          "annotationdefaults": {
           "arrowcolor": "#2a3f5f",
           "arrowhead": 0,
           "arrowwidth": 1
          },
          "autotypenumbers": "strict",
          "coloraxis": {
           "colorbar": {
            "outlinewidth": 0,
            "ticks": ""
           }
          },
          "colorscale": {
           "diverging": [
            [
             0,
             "#8e0152"
            ],
            [
             0.1,
             "#c51b7d"
            ],
            [
             0.2,
             "#de77ae"
            ],
            [
             0.3,
             "#f1b6da"
            ],
            [
             0.4,
             "#fde0ef"
            ],
            [
             0.5,
             "#f7f7f7"
            ],
            [
             0.6,
             "#e6f5d0"
            ],
            [
             0.7,
             "#b8e186"
            ],
            [
             0.8,
             "#7fbc41"
            ],
            [
             0.9,
             "#4d9221"
            ],
            [
             1,
             "#276419"
            ]
           ],
           "sequential": [
            [
             0,
             "#0d0887"
            ],
            [
             0.1111111111111111,
             "#46039f"
            ],
            [
             0.2222222222222222,
             "#7201a8"
            ],
            [
             0.3333333333333333,
             "#9c179e"
            ],
            [
             0.4444444444444444,
             "#bd3786"
            ],
            [
             0.5555555555555556,
             "#d8576b"
            ],
            [
             0.6666666666666666,
             "#ed7953"
            ],
            [
             0.7777777777777778,
             "#fb9f3a"
            ],
            [
             0.8888888888888888,
             "#fdca26"
            ],
            [
             1,
             "#f0f921"
            ]
           ],
           "sequentialminus": [
            [
             0,
             "#0d0887"
            ],
            [
             0.1111111111111111,
             "#46039f"
            ],
            [
             0.2222222222222222,
             "#7201a8"
            ],
            [
             0.3333333333333333,
             "#9c179e"
            ],
            [
             0.4444444444444444,
             "#bd3786"
            ],
            [
             0.5555555555555556,
             "#d8576b"
            ],
            [
             0.6666666666666666,
             "#ed7953"
            ],
            [
             0.7777777777777778,
             "#fb9f3a"
            ],
            [
             0.8888888888888888,
             "#fdca26"
            ],
            [
             1,
             "#f0f921"
            ]
           ]
          },
          "colorway": [
           "#636efa",
           "#EF553B",
           "#00cc96",
           "#ab63fa",
           "#FFA15A",
           "#19d3f3",
           "#FF6692",
           "#B6E880",
           "#FF97FF",
           "#FECB52"
          ],
          "font": {
           "color": "#2a3f5f"
          },
          "geo": {
           "bgcolor": "white",
           "lakecolor": "white",
           "landcolor": "#E5ECF6",
           "showlakes": true,
           "showland": true,
           "subunitcolor": "white"
          },
          "hoverlabel": {
           "align": "left"
          },
          "hovermode": "closest",
          "mapbox": {
           "style": "light"
          },
          "paper_bgcolor": "white",
          "plot_bgcolor": "#E5ECF6",
          "polar": {
           "angularaxis": {
            "gridcolor": "white",
            "linecolor": "white",
            "ticks": ""
           },
           "bgcolor": "#E5ECF6",
           "radialaxis": {
            "gridcolor": "white",
            "linecolor": "white",
            "ticks": ""
           }
          },
          "scene": {
           "xaxis": {
            "backgroundcolor": "#E5ECF6",
            "gridcolor": "white",
            "gridwidth": 2,
            "linecolor": "white",
            "showbackground": true,
            "ticks": "",
            "zerolinecolor": "white"
           },
           "yaxis": {
            "backgroundcolor": "#E5ECF6",
            "gridcolor": "white",
            "gridwidth": 2,
            "linecolor": "white",
            "showbackground": true,
            "ticks": "",
            "zerolinecolor": "white"
           },
           "zaxis": {
            "backgroundcolor": "#E5ECF6",
            "gridcolor": "white",
            "gridwidth": 2,
            "linecolor": "white",
            "showbackground": true,
            "ticks": "",
            "zerolinecolor": "white"
           }
          },
          "shapedefaults": {
           "line": {
            "color": "#2a3f5f"
           }
          },
          "ternary": {
           "aaxis": {
            "gridcolor": "white",
            "linecolor": "white",
            "ticks": ""
           },
           "baxis": {
            "gridcolor": "white",
            "linecolor": "white",
            "ticks": ""
           },
           "bgcolor": "#E5ECF6",
           "caxis": {
            "gridcolor": "white",
            "linecolor": "white",
            "ticks": ""
           }
          },
          "title": {
           "x": 0.05
          },
          "xaxis": {
           "automargin": true,
           "gridcolor": "white",
           "linecolor": "white",
           "ticks": "",
           "title": {
            "standoff": 15
           },
           "zerolinecolor": "white",
           "zerolinewidth": 2
          },
          "yaxis": {
           "automargin": true,
           "gridcolor": "white",
           "linecolor": "white",
           "ticks": "",
           "title": {
            "standoff": 15
           },
           "zerolinecolor": "white",
           "zerolinewidth": 2
          }
         }
        },
        "title": {
         "text": "Comparación de Sentimientos entre Modelos"
        },
        "xaxis": {
         "ticktext": [
          "Oración 1",
          "Oración 2",
          "Oración 3",
          "Oración 4",
          "Oración 5",
          "Oración 6",
          "Oración 7",
          "Oración 8",
          "Oración 9"
         ],
         "tickvals": [
          0,
          1,
          2,
          3,
          4,
          5,
          6,
          7,
          8
         ],
         "title": {
          "text": "Oraciones"
         }
        },
        "yaxis": {
         "title": {
          "text": "Sentimiento"
         }
        }
       }
      }
     },
     "metadata": {},
     "output_type": "display_data"
    },
    {
     "name": "stdout",
     "output_type": "stream",
     "text": [
      "MSE GloVe: 0.3477555571535985\n",
      "MSE Word2Vec: 0.41846185911667355\n"
     ]
    }
   ],
   "source": [
    "# Evaluamos los modelos\n",
    "sentiments_glove, sentiments_word2vec = evaluate_models_sentences(sentences, model, model_word2vec, target_sentiment)"
   ]
  },
  {
   "cell_type": "code",
   "execution_count": null,
   "metadata": {},
   "outputs": [],
   "source": []
  }
 ],
 "metadata": {
  "kernelspec": {
   "display_name": "Python 3",
   "language": "python",
   "name": "python3"
  },
  "language_info": {
   "codemirror_mode": {
    "name": "ipython",
    "version": 3
   },
   "file_extension": ".py",
   "mimetype": "text/x-python",
   "name": "python",
   "nbconvert_exporter": "python",
   "pygments_lexer": "ipython3",
   "version": "3.10.0"
  }
 },
 "nbformat": 4,
 "nbformat_minor": 2
}
