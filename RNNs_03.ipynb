{
 "cells": [
  {
   "cell_type": "markdown",
   "metadata": {},
   "source": [
    "## Agregando bidireccionalidad en una RNN de analisis de sentimiento"
   ]
  },
  {
   "cell_type": "code",
   "execution_count": 49,
   "metadata": {},
   "outputs": [],
   "source": [
    "from RNNs_sentimiento01 import Preprocessor, RNNode"
   ]
  },
  {
   "cell_type": "code",
   "execution_count": 50,
   "metadata": {},
   "outputs": [],
   "source": [
    "import torch\n",
    "import torch.nn as nn\n",
    "import matplotlib.pyplot as plt\n",
    "\n",
    "class BidirectionalRNN_ANN(nn.Module):\n",
    "    def __init__(self, input_size, hidden_size, output_size=1):\n",
    "        super(BidirectionalRNN_ANN, self).__init__()\n",
    "\n",
    "        # Definimos la capa RNN1 (->)\n",
    "        self.rnn1 = RNNode(input_size,hidden_size)\n",
    "        # Definimos la capa RNN2 (<-)\n",
    "        self.rnn2 = RNNode(input_size,hidden_size)\n",
    "\n",
    "        # Definimos la estructura ANN que toma la concatenación de las salidas de las capas RNN\n",
    "        \n",
    "        # Añadiendo más capas ANN para el procesamiento posterior\n",
    "        self.fc1 = nn.Linear(2*hidden_size, 2*hidden_size)  # Nueva capa lineal\n",
    "        self.relu1 = nn.ReLU()  # Función de activación ReLU\n",
    "        self.fc2 = nn.Linear(2*hidden_size, hidden_size)  # Otra capa lineal, reduce dimensiones\n",
    "        self.relu2 = nn.ReLU()  # Otra ReLU\n",
    "        self.f_sent = nn.Linear(hidden_size, output_size)  # Capa final ajustada después de nuevas capas\n",
    "\n",
    "    \n",
    "    def forward(self, secuencia ):\n",
    "        # Recorremos la secuencia de entrada en orden\n",
    "        h1,h2 = None, None\n",
    "        for x_input in secuencia:\n",
    "            h1 = self.rnn1(x_input,h1)\n",
    "        # Recorremos la secuencia de entrada en orden inverso\n",
    "        for x_input in reversed(secuencia):\n",
    "            h2 = self.rnn2(x_input,h2)\n",
    "        \n",
    "        # Concatenamos las salidas de las capas RNN\n",
    "        h = torch.cat((h1,h2),1)\n",
    "\n",
    "        # Pasamos la concatenación por la capa ANN\n",
    "        x = self.fc1(h)\n",
    "        x = self.relu1(x)\n",
    "        x = self.fc2(x)\n",
    "        x = self.relu2(x)\n",
    "       \n",
    "        output = self.f_sent(x)\n",
    "        output = torch.tanh(output)  # Manteniendo la función de activación tanh para la salida\n",
    "        output = output.squeeze()  # Eliminando dimensiones extra\n",
    "\n",
    "        return output\n",
    "\n",
    "\n",
    "class SentimentBidirectional_RNN(nn.Module):\n",
    "    def __init__(self, input_size, hidden_size, output_size, Preprocessor, dropout=0.5, lr=0.001):\n",
    "        super(SentimentBidirectional_RNN, self).__init__()\n",
    "        self.Preprocessor = Preprocessor\n",
    "        self.model = BidirectionalRNN_ANN(input_size, hidden_size, output_size)\n",
    "        self.loss = nn.MSELoss()\n",
    "        self.dropout = nn.Dropout(dropout)\n",
    "        self.optimizer = torch.optim.Adam(self.model.parameters(), lr=lr)\n",
    "\n",
    "    def train(self, X_train, y_train, epoch=10, batch_size=32):\n",
    "        loss_list = []\n",
    "        for e in range(epoch):\n",
    "            total_loss = 0\n",
    "            for i in range(0, len(X_train), batch_size):\n",
    "                X_batch = X_train[i:i+batch_size]\n",
    "                y_batch = y_train[i:i+batch_size]\n",
    "                self.optimizer.zero_grad()\n",
    "                outputs = []\n",
    "                for secuencia in X_batch:\n",
    "                    output = self.model(secuencia)\n",
    "                    outputs.append(output)\n",
    "\n",
    "                outputs = torch.stack(outputs).squeeze()\n",
    "                loss = self.loss(outputs, torch.tensor(y_batch))\n",
    "                \n",
    "                loss.backward()\n",
    "                self.optimizer.step()\n",
    "                total_loss += loss.item()\n",
    "                #\n",
    "            loss_list.append(total_loss)\n",
    "            print(f'Epoch {e+1} - Loss: {total_loss}')\n",
    "        self.loss_list = loss_list\n",
    "\n",
    "    def plot_loss(self):\n",
    "        plt.plot(self.loss_list)\n",
    "        plt.xlabel('Epoch')\n",
    "        plt.ylabel('Loss')\n",
    "        plt.show()\n",
    "\n",
    "    def evaluate(self, X_test, y_test):\n",
    "        with torch.no_grad():\n",
    "            total_loss = 0\n",
    "            outputs = []\n",
    "            for secuencia in X_test:\n",
    "                output = self.model(secuencia)\n",
    "                outputs.append(output)\n",
    "            outputs = torch.stack(outputs).squeeze()\n",
    "            total_loss = self.loss(outputs, torch.tensor(y_test)).item()\n",
    "            mse = total_loss / len(y_test)\n",
    "            print(f'MSE: {mse}')\n",
    "        return mse\n",
    "\n",
    "    def predict(self, texto):\n",
    "        secuencia = self.Preprocessor.get_embedding_texto(texto)\n",
    "        output = self.model(secuencia)\n",
    "        return output.item()\n",
    "\n",
    "        \n"
   ]
  },
  {
   "cell_type": "code",
   "execution_count": 51,
   "metadata": {},
   "outputs": [
    {
     "name": "stdout",
     "output_type": "stream",
     "text": [
      "Cargando GloVe...\n"
     ]
    }
   ],
   "source": [
    "# Crear el preprocesador\n",
    "preprocessor_train = Preprocessor('./train_data.txt', embedding_type='glove')"
   ]
  },
  {
   "cell_type": "code",
   "execution_count": 52,
   "metadata": {},
   "outputs": [],
   "source": [
    "# Crear el modelo\n",
    "model_bidirectional = SentimentBidirectional_RNN(input_size=100,\n",
    "                                                  hidden_size=300,\n",
    "                                                  output_size=1,\n",
    "                                                  Preprocessor=preprocessor_train)"
   ]
  },
  {
   "cell_type": "code",
   "execution_count": 53,
   "metadata": {},
   "outputs": [
    {
     "name": "stdout",
     "output_type": "stream",
     "text": [
      "Epoch 1 - Loss: 5.270338146947324\n",
      "Epoch 2 - Loss: 4.2198501424863935\n",
      "Epoch 3 - Loss: 3.8801436107605696\n",
      "Epoch 4 - Loss: 3.2594092562794685\n",
      "Epoch 5 - Loss: 2.163681320846081\n",
      "Epoch 6 - Loss: 1.665023073554039\n",
      "Epoch 7 - Loss: 1.6691101714968681\n",
      "Epoch 8 - Loss: 1.2608271706849337\n",
      "Epoch 9 - Loss: 1.007008995860815\n",
      "Epoch 10 - Loss: 0.7899975874461234\n",
      "Epoch 11 - Loss: 0.5812674178741872\n",
      "Epoch 12 - Loss: 0.48275620955973864\n",
      "Epoch 13 - Loss: 0.49916941579431295\n",
      "Epoch 14 - Loss: 0.291557592805475\n",
      "Epoch 15 - Loss: 0.20633077900856733\n",
      "Epoch 16 - Loss: 0.20602791523560882\n",
      "Epoch 17 - Loss: 0.14681741106323898\n",
      "Epoch 18 - Loss: 0.088183632818982\n",
      "Epoch 19 - Loss: 0.06950669747311622\n",
      "Epoch 20 - Loss: 0.03978548478335142\n",
      "Epoch 21 - Loss: 0.022213965261471458\n",
      "Epoch 22 - Loss: 0.010312491183867678\n",
      "Epoch 23 - Loss: 0.007893878806498833\n",
      "Epoch 24 - Loss: 0.006667118199402466\n",
      "Epoch 25 - Loss: 0.005468976465635933\n"
     ]
    }
   ],
   "source": [
    "# Entrenar el modelo\n",
    "model_bidirectional.train(preprocessor_train.X, preprocessor_train.y, epoch=25, batch_size=32)"
   ]
  },
  {
   "cell_type": "code",
   "execution_count": 54,
   "metadata": {},
   "outputs": [
    {
     "name": "stdout",
     "output_type": "stream",
     "text": [
      "Cargando GloVe...\n",
      "MSE: 0.04645632803440094\n"
     ]
    },
    {
     "data": {
      "text/plain": [
       "0.04645632803440094"
      ]
     },
     "execution_count": 54,
     "metadata": {},
     "output_type": "execute_result"
    }
   ],
   "source": [
    "# Evaluar el modelo\n",
    "preprocessor_test = Preprocessor('./test_data.txt', embedding_type='glove')\n",
    "model_bidirectional.evaluate(preprocessor_test.X, preprocessor_test.y)"
   ]
  },
  {
   "cell_type": "code",
   "execution_count": 55,
   "metadata": {},
   "outputs": [
    {
     "data": {
      "image/png": "[encoded data removed]",
      "text/plain": [
       "<Figure size 640x480 with 1 Axes>"
      ]
     },
     "metadata": {},
     "output_type": "display_data"
    }
   ],
   "source": [
    "# Ploteamos el modelo\n",
    "model_bidirectional.plot_loss()"
   ]
  },
  {
   "cell_type": "code",
   "execution_count": 57,
   "metadata": {},
   "outputs": [],
   "source": [
    "# Definimos las oraciones a evaluar\n",
    "sentences = [\n",
    "    'Hoy siento que tengo mucha energía y entusiasmo',\n",
    "    'La vida no siempre es fácil, pero hay que seguir adelante',\n",
    "    'Estoy cansado de todo, nada parece tener sentido',\n",
    "    'Hoy fue un día normal, sin muchas novedades',\n",
    "    'Me encanta pasar tiempo con mis amigos, me hace feliz',\n",
    "    'No soporto la forma en la que me tratan, me siento mal',\n",
    "    'Hoy fue uno de esos días en los que todo salió bien',\n",
    "    'A veces creo que no tengo claro hacia dónde voy',\n",
    "    'Hoy tuve una conversación inspiradora, me siento motivado'\n",
    "]\n",
    "\n",
    "# Definimos el valor de sentimiento esperado para cada oración\n",
    "target_sentiment = [0.9, 0.4, -0.7, 0.0, 0.8, -0.8, 0.9, -0.2, 0.7]"
   ]
  },
  {
   "cell_type": "code",
   "execution_count": 58,
   "metadata": {},
   "outputs": [],
   "source": [
    "import plotly.graph_objects as go\n",
    "\n",
    "def evaluate_model_bidirectional_plotly(model, sentences, target_sentiment):\n",
    "    # Obtener los sentimientos predichos\n",
    "    predicted_sentiment = [model.predict(sentence) for sentence in sentences]\n",
    "\n",
    "    # Imprimir la oracion, el sentimiento esperado y el sentimiento predicho\n",
    "    for i, (sentence, target, predicted) in enumerate(zip(sentences, target_sentiment, predicted_sentiment)):\n",
    "        print(f\"Oración {i+1}: {sentence}\")\n",
    "        print(f\"Sentimiento esperado: {target:.2f}\")\n",
    "        print(f\"Sentimiento predicho: {predicted:.2f}\")\n",
    "        print()\n",
    "    \n",
    "    # Crear etiquetas para el eje x\n",
    "    x_labels = [f\"Oración {i+1}\" for i in range(len(sentences))]\n",
    "    \n",
    "    # Crear el gráfico de barras agrupadas\n",
    "    fig = go.Figure()\n",
    "\n",
    "    # Sentimiento esperado\n",
    "    fig.add_trace(go.Bar(\n",
    "        x=x_labels,\n",
    "        y=target_sentiment,\n",
    "        name='Sentimiento esperado',\n",
    "        marker=dict(color='rgba(55, 128, 191, 0.7)'),\n",
    "    ))\n",
    "\n",
    "    # Sentimiento predicho\n",
    "    fig.add_trace(go.Bar(\n",
    "        x=x_labels,\n",
    "        y=predicted_sentiment,\n",
    "        name='Sentimiento predicho',\n",
    "        marker=dict(color='rgba(219, 64, 82, 0.7)'),\n",
    "    ))\n",
    "\n",
    "    # Personalizar el diseño del gráfico\n",
    "    fig.update_layout(\n",
    "        title=\"Comparación de Sentimiento Esperado vs. Sentimiento Predicho\",\n",
    "        xaxis_title=\"Oraciones\",\n",
    "        yaxis_title=\"Sentimiento\",\n",
    "        barmode='group',\n",
    "        xaxis_tickangle=-45,\n",
    "        template=\"plotly_white\",\n",
    "    )\n",
    "\n",
    "    # Mostrar el gráfico\n",
    "    fig.show()\n"
   ]
  },
  {
   "cell_type": "code",
   "execution_count": 59,
   "metadata": {},
   "outputs": [
    {
     "name": "stdout",
     "output_type": "stream",
     "text": [
      "Oración 1: Hoy siento que tengo mucha energía y entusiasmo\n",
      "Sentimiento esperado: 0.90\n",
      "Sentimiento predicho: 0.63\n",
      "\n",
      "Oración 2: La vida no siempre es fácil, pero hay que seguir adelante\n",
      "Sentimiento esperado: 0.40\n",
      "Sentimiento predicho: 0.38\n",
      "\n",
      "Oración 3: Estoy cansado de todo, nada parece tener sentido\n",
      "Sentimiento esperado: -0.70\n",
      "Sentimiento predicho: 0.44\n",
      "\n",
      "Oración 4: Hoy fue un día normal, sin muchas novedades\n",
      "Sentimiento esperado: 0.00\n",
      "Sentimiento predicho: 0.71\n",
      "\n",
      "Oración 5: Me encanta pasar tiempo con mis amigos, me hace feliz\n",
      "Sentimiento esperado: 0.80\n",
      "Sentimiento predicho: -0.01\n",
      "\n",
      "Oración 6: No soporto la forma en la que me tratan, me siento mal\n",
      "Sentimiento esperado: -0.80\n",
      "Sentimiento predicho: -0.20\n",
      "\n",
      "Oración 7: Hoy fue uno de esos días en los que todo salió bien\n",
      "Sentimiento esperado: 0.90\n",
      "Sentimiento predicho: 0.20\n",
      "\n",
      "Oración 8: A veces creo que no tengo claro hacia dónde voy\n",
      "Sentimiento esperado: -0.20\n",
      "Sentimiento predicho: 0.54\n",
      "\n",
      "Oración 9: Hoy tuve una conversación inspiradora, me siento motivado\n",
      "Sentimiento esperado: 0.70\n",
      "Sentimiento predicho: 0.61\n",
      "\n"
     ]
    },
    {
     "data": {
      "application/vnd.plotly.v1+json": {
       "config": {
        "plotlyServerURL": "https://plot.ly"
       },
       "data": [
        {
         "marker": {
          "color": "rgba(55, 128, 191, 0.7)"
         },
         "name": "Sentimiento esperado",
         "type": "bar",
         "x": [
          "Oración 1",
          "Oración 2",
          "Oración 3",
          "Oración 4",
          "Oración 5",
          "Oración 6",
          "Oración 7",
          "Oración 8",
          "Oración 9"
         ],
         "y": [
          0.9,
          0.4,
          -0.7,
          0,
          0.8,
          -0.8,
          0.9,
          -0.2,
          0.7
         ]
        },
        {
         "marker": {
          "color": "rgba(219, 64, 82, 0.7)"
         },
         "name": "Sentimiento predicho",
         "type": "bar",
         "x": [
          "Oración 1",
          "Oración 2",
          "Oración 3",
          "Oración 4",
          "Oración 5",
          "Oración 6",
          "Oración 7",
          "Oración 8",
          "Oración 9"
         ],
         "y": [
          0.6326623558998108,
          0.3829575479030609,
          0.4354029893875122,
          0.7081241607666016,
          -0.006546891760081053,
          -0.1985069364309311,
          0.19578300416469574,
          0.5377040505409241,
          0.6054568290710449
         ]
        }
       ],
       "layout": {
        "barmode": "group",
        "template": {
         "data": {
          "bar": [
           {
            "error_x": {
             "color": "#2a3f5f"
            },
            "error_y": {
             "color": "#2a3f5f"
            },
            "marker": {
             "line": {
              "color": "white",
              "width": 0.5
             },
             "pattern": {
              "fillmode": "overlay",
              "size": 10,
              "solidity": 0.2
             }
            },
            "type": "bar"
           }
          ],
          "barpolar": [
           {
            "marker": {
             "line": {
              "color": "white",
              "width": 0.5
             },
             "pattern": {
              "fillmode": "overlay",
              "size": 10,
              "solidity": 0.2
             }
            },
            "type": "barpolar"
           }
          ],
          "carpet": [
           {
            "aaxis": {
             "endlinecolor": "#2a3f5f",
             "gridcolor": "#C8D4E3",
             "linecolor": "#C8D4E3",
             "minorgridcolor": "#C8D4E3",
             "startlinecolor": "#2a3f5f"
            },
            "baxis": {
             "endlinecolor": "#2a3f5f",
             "gridcolor": "#C8D4E3",
             "linecolor": "#C8D4E3",
             "minorgridcolor": "#C8D4E3",
             "startlinecolor": "#2a3f5f"
            },
            "type": "carpet"
           }
          ],
          "choropleth": [
           {
            "colorbar": {
             "outlinewidth": 0,
             "ticks": ""
            },
            "type": "choropleth"
           }
          ],
          "contour": [
           {
            "colorbar": {
             "outlinewidth": 0,
             "ticks": ""
            },
            "colorscale": [
             [
              0,
              "#0d0887"
             ],
             [
              0.1111111111111111,
              "#46039f"
             ],
             [
              0.2222222222222222,
              "#7201a8"
             ],
             [
              0.3333333333333333,
              "#9c179e"
             ],
             [
              0.4444444444444444,
              "#bd3786"
             ],
             [
              0.5555555555555556,
              "#d8576b"
             ],
             [
              0.6666666666666666,
              "#ed7953"
             ],
             [
              0.7777777777777778,
              "#fb9f3a"
             ],
             [
              0.8888888888888888,
              "#fdca26"
             ],
             [
              1,
              "#f0f921"
             ]
            ],
            "type": "contour"
           }
          ],
          "contourcarpet": [
           {
            "colorbar": {
             "outlinewidth": 0,
             "ticks": ""
            },
            "type": "contourcarpet"
           }
          ],
          "heatmap": [
           {
            "colorbar": {
             "outlinewidth": 0,
             "ticks": ""
            },
            "colorscale": [
             [
              0,
              "#0d0887"
             ],
             [
              0.1111111111111111,
              "#46039f"
             ],
             [
              0.2222222222222222,
              "#7201a8"
             ],
             [
              0.3333333333333333,
              "#9c179e"
             ],
             [
              0.4444444444444444,
              "#bd3786"
             ],
             [
              0.5555555555555556,
              "#d8576b"
             ],
             [
              0.6666666666666666,
              "#ed7953"
             ],
             [
              0.7777777777777778,
              "#fb9f3a"
             ],
             [
              0.8888888888888888,
              "#fdca26"
             ],
             [
              1,
              "#f0f921"
             ]
            ],
            "type": "heatmap"
           }
          ],
          "heatmapgl": [
           {
            "colorbar": {
             "outlinewidth": 0,
             "ticks": ""
            },
            "colorscale": [
             [
              0,
              "#0d0887"
             ],
             [
              0.1111111111111111,
              "#46039f"
             ],
             [
              0.2222222222222222,
              "#7201a8"
             ],
             [
              0.3333333333333333,
              "#9c179e"
             ],
             [
              0.4444444444444444,
              "#bd3786"
             ],
             [
              0.5555555555555556,
              "#d8576b"
             ],
             [
              0.6666666666666666,
              "#ed7953"
             ],
             [
              0.7777777777777778,
              "#fb9f3a"
             ],
             [
              0.8888888888888888,
              "#fdca26"
             ],
             [
              1,
              "#f0f921"
             ]
            ],
            "type": "heatmapgl"
           }
          ],
          "histogram": [
           {
            "marker": {
             "pattern": {
              "fillmode": "overlay",
              "size": 10,
              "solidity": 0.2
             }
            },
            "type": "histogram"
           }
          ],
          "histogram2d": [
           {
            "colorbar": {
             "outlinewidth": 0,
             "ticks": ""
            },
            "colorscale": [
             [
              0,
              "#0d0887"
             ],
             [
              0.1111111111111111,
              "#46039f"
             ],
             [
              0.2222222222222222,
              "#7201a8"
             ],
             [
              0.3333333333333333,
              "#9c179e"
             ],
             [
              0.4444444444444444,
              "#bd3786"
             ],
             [
              0.5555555555555556,
              "#d8576b"
             ],
             [
              0.6666666666666666,
              "#ed7953"
             ],
             [
              0.7777777777777778,
              "#fb9f3a"
             ],
             [
              0.8888888888888888,
              "#fdca26"
             ],
             [
              1,
              "#f0f921"
             ]
            ],
            "type": "histogram2d"
           }
          ],
          "histogram2dcontour": [
           {
            "colorbar": {
             "outlinewidth": 0,
             "ticks": ""
            },
            "colorscale": [
             [
              0,
              "#0d0887"
             ],
             [
              0.1111111111111111,
              "#46039f"
             ],
             [
              0.2222222222222222,
              "#7201a8"
             ],
             [
              0.3333333333333333,
              "#9c179e"
             ],
             [
              0.4444444444444444,
              "#bd3786"
             ],
             [
              0.5555555555555556,
              "#d8576b"
             ],
             [
              0.6666666666666666,
              "#ed7953"
             ],
             [
              0.7777777777777778,
              "#fb9f3a"
             ],
             [
              0.8888888888888888,
              "#fdca26"
             ],
             [
              1,
              "#f0f921"
             ]
            ],
            "type": "histogram2dcontour"
           }
          ],
          "mesh3d": [
           {
            "colorbar": {
             "outlinewidth": 0,
             "ticks": ""
            },
            "type": "mesh3d"
           }
          ],
          "parcoords": [
           {
            "line": {
             "colorbar": {
              "outlinewidth": 0,
              "ticks": ""
             }
            },
            "type": "parcoords"
           }
          ],
          "pie": [
           {
            "automargin": true,
            "type": "pie"
           }
          ],
          "scatter": [
           {
            "fillpattern": {
             "fillmode": "overlay",
             "size": 10,
             "solidity": 0.2
            },
            "type": "scatter"
           }
          ],
          "scatter3d": [
           {
            "line": {
             "colorbar": {
              "outlinewidth": 0,
              "ticks": ""
             }
            },
            "marker": {
             "colorbar": {
              "outlinewidth": 0,
              "ticks": ""
             }
            },
            "type": "scatter3d"
           }
          ],
          "scattercarpet": [
           {
            "marker": {
             "colorbar": {
              "outlinewidth": 0,
              "ticks": ""
             }
            },
            "type": "scattercarpet"
           }
          ],
          "scattergeo": [
           {
            "marker": {
             "colorbar": {
              "outlinewidth": 0,
              "ticks": ""
             }
            },
            "type": "scattergeo"
           }
          ],
          "scattergl": [
           {
            "marker": {
             "colorbar": {
              "outlinewidth": 0,
              "ticks": ""
             }
            },
            "type": "scattergl"
           }
          ],
          "scattermapbox": [
           {
            "marker": {
             "colorbar": {
              "outlinewidth": 0,
              "ticks": ""
             }
            },
            "type": "scattermapbox"
           }
          ],
          "scatterpolar": [
           {
            "marker": {
             "colorbar": {
              "outlinewidth": 0,
              "ticks": ""
             }
            },
            "type": "scatterpolar"
           }
          ],
          "scatterpolargl": [
           {
            "marker": {
             "colorbar": {
              "outlinewidth": 0,
              "ticks": ""
             }
            },
            "type": "scatterpolargl"
           }
          ],
          "scatterternary": [
           {
            "marker": {
             "colorbar": {
              "outlinewidth": 0,
              "ticks": ""
             }
            },
            "type": "scatterternary"
           }
          ],
          "surface": [
           {
            "colorbar": {
             "outlinewidth": 0,
             "ticks": ""
            },
            "colorscale": [
             [
              0,
              "#0d0887"
             ],
             [
              0.1111111111111111,
              "#46039f"
             ],
             [
              0.2222222222222222,
              "#7201a8"
             ],
             [
              0.3333333333333333,
              "#9c179e"
             ],
             [
              0.4444444444444444,
              "#bd3786"
             ],
             [
              0.5555555555555556,
              "#d8576b"
             ],
             [
              0.6666666666666666,
              "#ed7953"
             ],
             [
              0.7777777777777778,
              "#fb9f3a"
             ],
             [
              0.8888888888888888,
              "#fdca26"
             ],
             [
              1,
              "#f0f921"
             ]
            ],
            "type": "surface"
           }
          ],
          "table": [
           {
            "cells": {
             "fill": {
              "color": "#EBF0F8"
             },
             "line": {
              "color": "white"
             }
            },
            "header": {
             "fill": {
              "color": "#C8D4E3"
             },
             "line": {
              "color": "white"
             }
            },
            "type": "table"
           }
          ]
         },
         "layout": {
          "annotationdefaults": {
           "arrowcolor": "#2a3f5f",
           "arrowhead": 0,
           "arrowwidth": 1
          },
          "autotypenumbers": "strict",
          "coloraxis": {
           "colorbar": {
            "outlinewidth": 0,
            "ticks": ""
           }
          },
          "colorscale": {
           "diverging": [
            [
             0,
             "#8e0152"
            ],
            [
             0.1,
             "#c51b7d"
            ],
            [
             0.2,
             "#de77ae"
            ],
            [
             0.3,
             "#f1b6da"
            ],
            [
             0.4,
             "#fde0ef"
            ],
            [
             0.5,
             "#f7f7f7"
            ],
            [
             0.6,
             "#e6f5d0"
            ],
            [
             0.7,
             "#b8e186"
            ],
            [
             0.8,
             "#7fbc41"
            ],
            [
             0.9,
             "#4d9221"
            ],
            [
             1,
             "#276419"
            ]
           ],
           "sequential": [
            [
             0,
             "#0d0887"
            ],
            [
             0.1111111111111111,
             "#46039f"
            ],
            [
             0.2222222222222222,
             "#7201a8"
            ],
            [
             0.3333333333333333,
             "#9c179e"
            ],
            [
             0.4444444444444444,
             "#bd3786"
            ],
            [
             0.5555555555555556,
             "#d8576b"
            ],
            [
             0.6666666666666666,
             "#ed7953"
            ],
            [
             0.7777777777777778,
             "#fb9f3a"
            ],
            [
             0.8888888888888888,
             "#fdca26"
            ],
            [
             1,
             "#f0f921"
            ]
           ],
           "sequentialminus": [
            [
             0,
             "#0d0887"
            ],
            [
             0.1111111111111111,
             "#46039f"
            ],
            [
             0.2222222222222222,
             "#7201a8"
            ],
            [
             0.3333333333333333,
             "#9c179e"
            ],
            [
             0.4444444444444444,
             "#bd3786"
            ],
            [
             0.5555555555555556,
             "#d8576b"
            ],
            [
             0.6666666666666666,
             "#ed7953"
            ],
            [
             0.7777777777777778,
             "#fb9f3a"
            ],
            [
             0.8888888888888888,
             "#fdca26"
            ],
            [
             1,
             "#f0f921"
            ]
           ]
          },
          "colorway": [
           "#636efa",
           "#EF553B",
           "#00cc96",
           "#ab63fa",
           "#FFA15A",
           "#19d3f3",
           "#FF6692",
           "#B6E880",
           "#FF97FF",
           "#FECB52"
          ],
          "font": {
           "color": "#2a3f5f"
          },
          "geo": {
           "bgcolor": "white",
           "lakecolor": "white",
           "landcolor": "white",
           "showlakes": true,
           "showland": true,
           "subunitcolor": "#C8D4E3"
          },
          "hoverlabel": {
           "align": "left"
          },
          "hovermode": "closest",
          "mapbox": {
           "style": "light"
          },
          "paper_bgcolor": "white",
          "plot_bgcolor": "white",
          "polar": {
           "angularaxis": {
            "gridcolor": "#EBF0F8",
            "linecolor": "#EBF0F8",
            "ticks": ""
           },
           "bgcolor": "white",
           "radialaxis": {
            "gridcolor": "#EBF0F8",
            "linecolor": "#EBF0F8",
            "ticks": ""
           }
          },
          "scene": {
           "xaxis": {
            "backgroundcolor": "white",
            "gridcolor": "#DFE8F3",
            "gridwidth": 2,
            "linecolor": "#EBF0F8",
            "showbackground": true,
            "ticks": "",
            "zerolinecolor": "#EBF0F8"
           },
           "yaxis": {
            "backgroundcolor": "white",
            "gridcolor": "#DFE8F3",
            "gridwidth": 2,
            "linecolor": "#EBF0F8",
            "showbackground": true,
            "ticks": "",
            "zerolinecolor": "#EBF0F8"
           },
           "zaxis": {
            "backgroundcolor": "white",
            "gridcolor": "#DFE8F3",
            "gridwidth": 2,
            "linecolor": "#EBF0F8",
            "showbackground": true,
            "ticks": "",
            "zerolinecolor": "#EBF0F8"
           }
          },
          "shapedefaults": {
           "line": {
            "color": "#2a3f5f"
           }
          },
          "ternary": {
           "aaxis": {
            "gridcolor": "#DFE8F3",
            "linecolor": "#A2B1C6",
            "ticks": ""
           },
           "baxis": {
            "gridcolor": "#DFE8F3",
            "linecolor": "#A2B1C6",
            "ticks": ""
           },
           "bgcolor": "white",
           "caxis": {
            "gridcolor": "#DFE8F3",
            "linecolor": "#A2B1C6",
            "ticks": ""
           }
          },
          "title": {
           "x": 0.05
          },
          "xaxis": {
           "automargin": true,
           "gridcolor": "#EBF0F8",
           "linecolor": "#EBF0F8",
           "ticks": "",
           "title": {
            "standoff": 15
           },
           "zerolinecolor": "#EBF0F8",
           "zerolinewidth": 2
          },
          "yaxis": {
           "automargin": true,
           "gridcolor": "#EBF0F8",
           "linecolor": "#EBF0F8",
           "ticks": "",
           "title": {
            "standoff": 15
           },
           "zerolinecolor": "#EBF0F8",
           "zerolinewidth": 2
          }
         }
        },
        "title": {
         "text": "Comparación de Sentimiento Esperado vs. Sentimiento Predicho"
        },
        "xaxis": {
         "tickangle": -45,
         "title": {
          "text": "Oraciones"
         }
        },
        "yaxis": {
         "title": {
          "text": "Sentimiento"
         }
        }
       }
      }
     },
     "metadata": {},
     "output_type": "display_data"
    }
   ],
   "source": [
    "# Evaluar el modelo\n",
    "evaluate_model_bidirectional_plotly(model_bidirectional, sentences, target_sentiment)"
   ]
  },
  {
   "cell_type": "markdown",
   "metadata": {},
   "source": [
    "# Evaluar un texto personalizado"
   ]
  },
  {
   "cell_type": "code",
   "execution_count": 40,
   "metadata": {},
   "outputs": [],
   "source": [
    "# Guardar el modelo\n",
    "torch.save(model_bidirectional, 'model_bidirectional.pth')"
   ]
  },
  {
   "cell_type": "code",
   "execution_count": 47,
   "metadata": {},
   "outputs": [
    {
     "name": "stdout",
     "output_type": "stream",
     "text": [
      "Sentimiento del texto: 0.85\n"
     ]
    }
   ],
   "source": [
    "# Definimos un texto\n",
    "texto = 'Hoy fue un día muy productivo, logré hacer muchas cosas'\n",
    "\n",
    "# Predecir el sentimiento del texto\n",
    "sentimiento = model_bidirectional.predict(texto)\n",
    "print(f'Sentimiento del texto: {sentimiento:.2f}')"
   ]
  },
  {
   "cell_type": "code",
   "execution_count": 48,
   "metadata": {},
   "outputs": [
    {
     "name": "stdout",
     "output_type": "stream",
     "text": [
      "Sentimiento del texto: -0.04\n"
     ]
    }
   ],
   "source": [
    "# Definimos un texto\n",
    "texto = 'No me siento bien, todo parece ir mal'\n",
    "\n",
    "# Predecir el sentimiento del texto\n",
    "sentimiento = model_bidirectional.predict(texto)\n",
    "print(f'Sentimiento del texto: {sentimiento:.2f}')"
   ]
  },
  {
   "cell_type": "markdown",
   "metadata": {},
   "source": [
    "# Configurando el Preprocesor - Sentence Embedings"
   ]
  },
  {
   "cell_type": "code",
   "execution_count": null,
   "metadata": {},
   "outputs": [],
   "source": [
    "import re\n",
    "import pandas as pd\n",
    "import numpy as np\n",
    "import pickle\n",
    "\n",
    "# Creamos una clase para preprocesar los datos\n",
    "class Preprocessor:    \n",
    "    def __init__(self, path: str, embedding_type='glove') -> None:\n",
    "        # Atributo (str) path de la clase\n",
    "        self.path = path\n",
    "        # Leemos el archivo\n",
    "        self.text = self.read_path(self.path)\n",
    "        # Creamos un diccionario de parrafos y sentimientos\n",
    "        self.data = self.create_data(self.text)\n",
    "        #print(self.data)\n",
    "        # Creamos un dataframe\n",
    "        self.df = self.create_df(self.data)\n",
    "        # Creamos un df de palabras y sentimientos\n",
    "        self.df_words = self.create_df_words(self.df)\n",
    "        \n",
    "        # Cargar modelo de embeddings\n",
    "        self.embedding_type = embedding_type\n",
    "        if embedding_type == 'glove':\n",
    "            print(\"Cargando GloVe...\")\n",
    "            # extraemos el archivo pickle\n",
    "            self.embedding_model = pickle.load(open(\"glove_model.pkl\", 'rb'))\n",
    "            self.embedding_dim = 100\n",
    "        elif embedding_type == 'word2vec':\n",
    "            print(\"Cargando Word2Vec...\")\n",
    "            self.embedding_model = pickle.load(open(\"word2vec_model.pkl\", 'rb'))\n",
    "            self.embedding_dim = 300\n",
    "        else:\n",
    "            raise ValueError(\"Tipo de embedding no soportado. Usa 'glove' o 'word2vec'.\")\n",
    "\n",
    "        # Creamos una lista de tensores de secuencias y sus targets\n",
    "        self.X, self.y = self.create_X_y_words(self.df_words)\n",
    "    \n",
    "    def get_embedding_texto(self, texto: str) -> list:\n",
    "        ''' Método que obtiene los embeddings de un texto '''\n",
    "        texto = re.findall(r'\\w+', texto.lower())\n",
    "        embeddings = [self.embedding_model[word] for word in texto if word in self.embedding_model]\n",
    "        # Convertimos la lista de embeddings a un tensor\n",
    "        if embeddings:\n",
    "                # convertimos la lista de embeddings a un tensor\n",
    "            embeddings = [torch.tensor(embedding) for embedding in embeddings]\n",
    "        else:\n",
    "            embeddings = np.zeros(self.embedding_dim)  # Vector de ceros si no se encuentran palabras válidas\n",
    "\n",
    "        return embeddings\n",
    "    \n",
    "    def create_X_y_text(self, df: str) -> torch.Tensor:\n",
    "        X = []\n",
    "        y = []\n",
    "        for parrafo,sentimiento in zip(df['parrafos'],df['sentimientos']):\n",
    "            embeddings = [self.embedding_model[word] for word in parrafo if word in self.embedding_model]\n",
    "            if embeddings:\n",
    "                # Calculamos el promedio de los embeddings\n",
    "                paragraph_embedding = torch.tensor(embeddings).mean(dim=0)\n",
    "            else:\n",
    "                paragraph_embedding = np.zeros(self.embedding_dim)  # Vector de ceros si no se encuentran palabras válidas\n",
    "            X.append(paragraph_embedding)\n",
    "            # Convertimos el sentimiento a tensor\n",
    "            sentimiento = torch.tensor(sentimiento)\n",
    "            y.append(sentimiento)\n",
    "        return X,y\n",
    "    \n",
    "    def create_X_y_words(self, df: pd.DataFrame) -> list:\n",
    "        ''' Método que crea una lista de embeddings de secuencias '''\n",
    "        X = []\n",
    "        y = []\n",
    "        for parrafo,sentimiento in zip(df['parrafos'],df['sentimientos']):\n",
    "            embeddings = [self.embedding_model[word] for word in parrafo if word in self.embedding_model]\n",
    "            if embeddings:\n",
    "                # convertimos la lista de embeddings a un tensor\n",
    "                paragraph_embedding = [torch.tensor(embedding) for embedding in embeddings]\n",
    "            else:\n",
    "                paragraph_embedding = np.zeros(self.embedding_dim)  # Vector de ceros si no se encuentran palabras válidas\n",
    "            X.append(paragraph_embedding)\n",
    "            # Convertimos el sentimiento a tensor\n",
    "            sentimiento = torch.tensor(sentimiento)\n",
    "            y.append(sentimiento)\n",
    "        \n",
    "        return X, y\n",
    "    \n",
    "    def create_df_words(self, df: pd.DataFrame) -> pd.DataFrame:\n",
    "        ''' Método que crea un dataframe de palabras y sentimientos '''\n",
    "        df_words = df.copy()\n",
    "        df_words['parrafos'] = df['parrafos'].apply(lambda x: re.findall(r'\\w+', x.lower()))\n",
    "        return df_words\n",
    "    \n",
    "    def create_df(self, data: dict) -> pd.DataFrame:\n",
    "        ''' Método que crea un dataframe a partir de un diccionario de parrafos y sentimientos '''\n",
    "        df = pd.DataFrame(data)\n",
    "        return df\n",
    "    \n",
    "    def create_data(self, text: str) -> dict:\n",
    "        ''' Método que crea un diccionario de parrafos y sentimientos '''\n",
    "        parrafos = re.findall(r'Parrafo_\\d+:\\n(.*?)\\nsentimiento_\\d+:\\n', text, re.DOTALL)\n",
    "        sentimientos = re.findall(r'sentimiento_\\d+:\\n(.*?)(?:\\n|$)', text, re.DOTALL)\n",
    "        # Convertimos los sentimientos a float\n",
    "        sentimientos = [float(sentimiento) for sentimiento in sentimientos]\n",
    "        data = {'parrafos': parrafos, 'sentimientos': sentimientos }\n",
    "        return data\n",
    "    \n",
    "    def read_path(self, path: str) -> str:\n",
    "        ''' Método que lee un archivo de texto y retorna el texto '''\n",
    "        with open(path, 'r', encoding='utf-8') as file:\n",
    "            text = file.read()\n",
    "        return text"
   ]
  },
  {
   "cell_type": "code",
   "execution_count": null,
   "metadata": {},
   "outputs": [],
   "source": []
  },
  {
   "cell_type": "code",
   "execution_count": null,
   "metadata": {},
   "outputs": [],
   "source": []
  }
 ],
 "metadata": {
  "kernelspec": {
   "display_name": "Python 3",
   "language": "python",
   "name": "python3"
  },
  "language_info": {
   "codemirror_mode": {
    "name": "ipython",
    "version": 3
   },
   "file_extension": ".py",
   "mimetype": "text/x-python",
   "name": "python",
   "nbconvert_exporter": "python",
   "pygments_lexer": "ipython3",
   "version": "3.10.0"
  }
 },
 "nbformat": 4,
 "nbformat_minor": 2
}
