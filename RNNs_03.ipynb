{
 "cells": [
  {
   "cell_type": "markdown",
   "metadata": {},
   "source": [
    "## Agregando bidireccionalidad en una RNN de analisis de sentimiento"
   ]
  },
  {
   "cell_type": "code",
   "execution_count": 49,
   "metadata": {},
   "outputs": [],
   "source": [
    "from RNNs_sentimiento01 import Preprocessor, RNNode"
   ]
  },
  {
   "cell_type": "code",
   "execution_count": 50,
   "metadata": {},
   "outputs": [],
   "source": [
    "import torch\n",
    "import torch.nn as nn\n",
    "import matplotlib.pyplot as plt\n",
    "\n",
    "class BidirectionalRNN_ANN(nn.Module):\n",
    "    def __init__(self, input_size, hidden_size, output_size=1):\n",
    "        super(BidirectionalRNN_ANN, self).__init__()\n",
    "\n",
    "        # Definimos la capa RNN1 (->)\n",
    "        self.rnn1 = RNNode(input_size,hidden_size)\n",
    "        # Definimos la capa RNN2 (<-)\n",
    "        self.rnn2 = RNNode(input_size,hidden_size)\n",
    "\n",
    "        # Definimos la estructura ANN que toma la concatenación de las salidas de las capas RNN\n",
    "        \n",
    "        # Añadiendo más capas ANN para el procesamiento posterior\n",
    "        self.fc1 = nn.Linear(2*hidden_size, 2*hidden_size)  # Nueva capa lineal\n",
    "        self.relu1 = nn.ReLU()  # Función de activación ReLU\n",
    "        self.fc2 = nn.Linear(2*hidden_size, hidden_size)  # Otra capa lineal, reduce dimensiones\n",
    "        self.relu2 = nn.ReLU()  # Otra ReLU\n",
    "        self.f_sent = nn.Linear(hidden_size, output_size)  # Capa final ajustada después de nuevas capas\n",
    "\n",
    "    \n",
    "    def forward(self, secuencia ):\n",
    "        # Recorremos la secuencia de entrada en orden\n",
    "        h1,h2 = None, None\n",
    "        for x_input in secuencia:\n",
    "            h1 = self.rnn1(x_input,h1)\n",
    "        # Recorremos la secuencia de entrada en orden inverso\n",
    "        for x_input in reversed(secuencia):\n",
    "            h2 = self.rnn2(x_input,h2)\n",
    "        \n",
    "        # Concatenamos las salidas de las capas RNN\n",
    "        h = torch.cat((h1,h2),1)\n",
    "\n",
    "        # Pasamos la concatenación por la capa ANN\n",
    "        x = self.fc1(h)\n",
    "        x = self.relu1(x)\n",
    "        x = self.fc2(x)\n",
    "        x = self.relu2(x)\n",
    "       \n",
    "        output = self.f_sent(x)\n",
    "        output = torch.tanh(output)  # Manteniendo la función de activación tanh para la salida\n",
    "        output = output.squeeze()  # Eliminando dimensiones extra\n",
    "\n",
    "        return output\n",
    "\n",
    "\n",
    "class SentimentBidirectional_RNN(nn.Module):\n",
    "    def __init__(self, input_size, hidden_size, output_size, Preprocessor, dropout=0.5, lr=0.001):\n",
    "        super(SentimentBidirectional_RNN, self).__init__()\n",
    "        self.Preprocessor = Preprocessor\n",
    "        self.model = BidirectionalRNN_ANN(input_size, hidden_size, output_size)\n",
    "        self.loss = nn.MSELoss()\n",
    "        self.dropout = nn.Dropout(dropout)\n",
    "        self.optimizer = torch.optim.Adam(self.model.parameters(), lr=lr)\n",
    "\n",
    "    def train(self, X_train, y_train, epoch=10, batch_size=32):\n",
    "        loss_list = []\n",
    "        for e in range(epoch):\n",
    "            total_loss = 0\n",
    "            for i in range(0, len(X_train), batch_size):\n",
    "                X_batch = X_train[i:i+batch_size]\n",
    "                y_batch = y_train[i:i+batch_size]\n",
    "                self.optimizer.zero_grad()\n",
    "                outputs = []\n",
    "                for secuencia in X_batch:\n",
    "                    output = self.model(secuencia)\n",
    "                    outputs.append(output)\n",
    "\n",
    "                outputs = torch.stack(outputs).squeeze()\n",
    "                loss = self.loss(outputs, torch.tensor(y_batch))\n",
    "                \n",
    "                loss.backward()\n",
    "                self.optimizer.step()\n",
    "                total_loss += loss.item()\n",
    "                #\n",
    "            loss_list.append(total_loss)\n",
    "            print(f'Epoch {e+1} - Loss: {total_loss}')\n",
    "        self.loss_list = loss_list\n",
    "\n",
    "    def plot_loss(self):\n",
    "        plt.plot(self.loss_list)\n",
    "        plt.xlabel('Epoch')\n",
    "        plt.ylabel('Loss')\n",
    "        plt.show()\n",
    "\n",
    "    def evaluate(self, X_test, y_test):\n",
    "        with torch.no_grad():\n",
    "            total_loss = 0\n",
    "            outputs = []\n",
    "            for secuencia in X_test:\n",
    "                output = self.model(secuencia)\n",
    "                outputs.append(output)\n",
    "            outputs = torch.stack(outputs).squeeze()\n",
    "            total_loss = self.loss(outputs, torch.tensor(y_test)).item()\n",
    "            mse = total_loss / len(y_test)\n",
    "            print(f'MSE: {mse}')\n",
    "        return mse\n",
    "\n",
    "    def predict(self, texto):\n",
    "        secuencia = self.Preprocessor.get_embedding_texto(texto)\n",
    "        output = self.model(secuencia)\n",
    "        return output.item()\n",
    "\n",
    "        \n"
   ]
  },
  {
   "cell_type": "code",
   "execution_count": 51,
   "metadata": {},
   "outputs": [
    {
     "name": "stdout",
     "output_type": "stream",
     "text": [
      "Cargando GloVe...\n"
     ]
    }
   ],
   "source": [
    "# Crear el preprocesador\n",
    "preprocessor_train = Preprocessor('./train_data.txt', embedding_type='glove')"
   ]
  },
  {
   "cell_type": "code",
   "execution_count": 52,
   "metadata": {},
   "outputs": [],
   "source": [
    "# Crear el modelo\n",
    "model_bidirectional = SentimentBidirectional_RNN(input_size=100,\n",
    "                                                  hidden_size=300,\n",
    "                                                  output_size=1,\n",
    "                                                  Preprocessor=preprocessor_train)"
   ]
  },
  {
   "cell_type": "code",
   "execution_count": 53,
   "metadata": {},
   "outputs": [
    {
     "name": "stdout",
     "output_type": "stream",
     "text": [
      "Epoch 1 - Loss: 5.270338146947324\n",
      "Epoch 2 - Loss: 4.2198501424863935\n",
      "Epoch 3 - Loss: 3.8801436107605696\n",
      "Epoch 4 - Loss: 3.2594092562794685\n",
      "Epoch 5 - Loss: 2.163681320846081\n",
      "Epoch 6 - Loss: 1.665023073554039\n",
      "Epoch 7 - Loss: 1.6691101714968681\n",
      "Epoch 8 - Loss: 1.2608271706849337\n",
      "Epoch 9 - Loss: 1.007008995860815\n",
      "Epoch 10 - Loss: 0.7899975874461234\n",
      "Epoch 11 - Loss: 0.5812674178741872\n",
      "Epoch 12 - Loss: 0.48275620955973864\n",
      "Epoch 13 - Loss: 0.49916941579431295\n",
      "Epoch 14 - Loss: 0.291557592805475\n",
      "Epoch 15 - Loss: 0.20633077900856733\n",
      "Epoch 16 - Loss: 0.20602791523560882\n",
      "Epoch 17 - Loss: 0.14681741106323898\n",
      "Epoch 18 - Loss: 0.088183632818982\n",
      "Epoch 19 - Loss: 0.06950669747311622\n",
      "Epoch 20 - Loss: 0.03978548478335142\n",
      "Epoch 21 - Loss: 0.022213965261471458\n",
      "Epoch 22 - Loss: 0.010312491183867678\n",
      "Epoch 23 - Loss: 0.007893878806498833\n",
      "Epoch 24 - Loss: 0.006667118199402466\n",
      "Epoch 25 - Loss: 0.005468976465635933\n"
     ]
    }
   ],
   "source": [
    "# Entrenar el modelo\n",
    "model_bidirectional.train(preprocessor_train.X, preprocessor_train.y, epoch=25, batch_size=32)"
   ]
  },
  {
   "cell_type": "code",
   "execution_count": 54,
   "metadata": {},
   "outputs": [
    {
     "name": "stdout",
     "output_type": "stream",
     "text": [
      "Cargando GloVe...\n",
      "MSE: 0.04645632803440094\n"
     ]
    },
    {
     "data": {
      "text/plain": [
       "0.04645632803440094"
      ]
     },
     "execution_count": 54,
     "metadata": {},
     "output_type": "execute_result"
    }
   ],
   "source": [
    "# Evaluar el modelo\n",
    "preprocessor_test = Preprocessor('./test_data.txt', embedding_type='glove')\n",
    "model_bidirectional.evaluate(preprocessor_test.X, preprocessor_test.y)"
   ]
  },
  {
   "cell_type": "code",
   "execution_count": 55,
   "metadata": {},
   "outputs": [
    {
     "data": {
      "image/png": "[encoded data removed]",
      "text/plain": [
       "<Figure size 640x480 with 1 Axes>"
      ]
     },
     "metadata": {},
     "output_type": "display_data"
    }
   ],
   "source": [
    "# Ploteamos el modelo\n",
    "model_bidirectional.plot_loss()"
   ]
  },
  {
   "cell_type": "code",
   "execution_count": 57,
   "metadata": {},
   "outputs": [],
   "source": [
    "# Definimos las oraciones a evaluar\n",
    "sentences = [\n",
    "    'Hoy siento que tengo mucha energía y entusiasmo',\n",
    "    'La vida no siempre es fácil, pero hay que seguir adelante',\n",
    "    'Estoy cansado de todo, nada parece tener sentido',\n",
    "    'Hoy fue un día normal, sin muchas novedades',\n",
    "    'Me encanta pasar tiempo con mis amigos, me hace feliz',\n",
    "    'No soporto la forma en la que me tratan, me siento mal',\n",
    "    'Hoy fue uno de esos días en los que todo salió bien',\n",
    "    'A veces creo que no tengo claro hacia dónde voy',\n",
    "    'Hoy tuve una conversación inspiradora, me siento motivado'\n",
    "]\n",
    "\n",
    "# Definimos el valor de sentimiento esperado para cada oración\n",
    "target_sentiment = [0.9, 0.4, -0.7, 0.0, 0.8, -0.8, 0.9, -0.2, 0.7]"
   ]
  },
  {
   "cell_type": "code",
   "execution_count": 58,
   "metadata": {},
   "outputs": [],
   "source": [
    "import plotly.graph_objects as go\n",
    "\n",
    "def evaluate_model_bidirectional_plotly(model, sentences, target_sentiment):\n",
    "    # Obtener los sentimientos predichos\n",
    "    predicted_sentiment = [model.predict(sentence) for sentence in sentences]\n",
    "\n",
    "    # Imprimir la oracion, el sentimiento esperado y el sentimiento predicho\n",
    "    for i, (sentence, target, predicted) in enumerate(zip(sentences, target_sentiment, predicted_sentiment)):\n",
    "        print(f\"Oración {i+1}: {sentence}\")\n",
    "        print(f\"Sentimiento esperado: {target:.2f}\")\n",
    "        print(f\"Sentimiento predicho: {predicted:.2f}\")\n",
    "        print()\n",
    "    \n",
    "    # Crear etiquetas para el eje x\n",
    "    x_labels = [f\"Oración {i+1}\" for i in range(len(sentences))]\n",
    "    \n",
    "    # Crear el gráfico de barras agrupadas\n",
    "    fig = go.Figure()\n",
    "\n",
    "    # Sentimiento esperado\n",
    "    fig.add_trace(go.Bar(\n",
    "        x=x_labels,\n",
    "        y=target_sentiment,\n",
    "        name='Sentimiento esperado',\n",
    "        marker=dict(color='rgba(55, 128, 191, 0.7)'),\n",
    "    ))\n",
    "\n",
    "    # Sentimiento predicho\n",
    "    fig.add_trace(go.Bar(\n",
    "        x=x_labels,\n",
    "        y=predicted_sentiment,\n",
    "        name='Sentimiento predicho',\n",
    "        marker=dict(color='rgba(219, 64, 82, 0.7)'),\n",
    "    ))\n",
    "\n",
    "    # Personalizar el diseño del gráfico\n",
    "    fig.update_layout(\n",
    "        title=\"Comparación de Sentimiento Esperado vs. Sentimiento Predicho\",\n",
    "        xaxis_title=\"Oraciones\",\n",
    "        yaxis_title=\"Sentimiento\",\n",
    "        barmode='group',\n",
    "        xaxis_tickangle=-45,\n",
    "        template=\"plotly_white\",\n",
    "    )\n",
    "\n",
    "    # Mostrar el gráfico\n",
    "    fig.show()\n"
   ]
  },
  {
   "cell_type": "code",
   "execution_count": 59,
   "metadata": {},
   "outputs": [
    {
     "name": "stdout",
     "output_type": "stream",
     "text": [
      "Oración 1: Hoy siento que tengo mucha energía y entusiasmo\n",
      "Sentimiento esperado: 0.90\n",
      "Sentimiento predicho: 0.63\n",
      "\n",
      "Oración 2: La vida no siempre es fácil, pero hay que seguir adelante\n",
      "Sentimiento esperado: 0.40\n",
      "Sentimiento predicho: 0.38\n",
      "\n",
      "Oración 3: Estoy cansado de todo, nada parece tener sentido\n",
      "Sentimiento esperado: -0.70\n",
      "Sentimiento predicho: 0.44\n",
      "\n",
      "Oración 4: Hoy fue un día normal, sin muchas novedades\n",
      "Sentimiento esperado: 0.00\n",
      "Sentimiento predicho: 0.71\n",
      "\n",
      "Oración 5: Me encanta pasar tiempo con mis amigos, me hace feliz\n",
      "Sentimiento esperado: 0.80\n",
      "Sentimiento predicho: -0.01\n",
      "\n",
      "Oración 6: No soporto la forma en la que me tratan, me siento mal\n",
      "Sentimiento esperado: -0.80\n",
      "Sentimiento predicho: -0.20\n",
      "\n",
      "Oración 7: Hoy fue uno de esos días en los que todo salió bien\n",
      "Sentimiento esperado: 0.90\n",
      "Sentimiento predicho: 0.20\n",
      "\n",
      "Oración 8: A veces creo que no tengo claro hacia dónde voy\n",
      "Sentimiento esperado: -0.20\n",
      "Sentimiento predicho: 0.54\n",
      "\n",
      "Oración 9: Hoy tuve una conversación inspiradora, me siento motivado\n",
      "Sentimiento esperado: 0.70\n",
      "Sentimiento predicho: 0.61\n",
      "\n"
     ]
    },
    {
     "data": {
      "application/vnd.plotly.v1+json": {
       "config": {
        "plotlyServerURL": "https://plot.ly"
       },
       "data": [
        {
         "marker": {
          "color": "rgba(55, 128, 191, 0.7)"
         },
         "name": "Sentimiento esperado",
         "type": "bar",
         "x": [
          "Oración 1",
          "Oración 2",
          "Oración 3",
          "Oración 4",
          "Oración 5",
          "Oración 6",
          "Oración 7",
          "Oración 8",
          "Oración 9"
         ],
         "y": [
          0.9,
          0.4,
          -0.7,
          0,
          0.8,
          -0.8,
          0.9,
          -0.2,
          0.7
         ]
        },
        {
         "marker": {
          "color": "rgba(219, 64, 82, 0.7)"
         },
         "name": "Sentimiento predicho",
         "type": "bar",
         "x": [
          "Oración 1",
          "Oración 2",
          "Oración 3",
          "Oración 4",
          "Oración 5",
          "Oración 6",
          "Oración 7",
          "Oración 8",
          "Oración 9"
         ],
         "y": [
          0.6326623558998108,
          0.3829575479030609,
          0.4354029893875122,
          0.7081241607666016,
          -0.006546891760081053,
          -0.1985069364309311,
          0.19578300416469574,
          0.5377040505409241,
          0.6054568290710449
         ]
        }
       ],
       "layout": {
        "barmode": "group",
        "template": {
         "data": {
          "bar": [
           {
            "error_x": {
             "color": "#2a3f5f"
            },
            "error_y": {
             "color": "#2a3f5f"
            },
            "marker": {
             "line": {
              "color": "white",
              "width": 0.5
             },
             "pattern": {
              "fillmode": "overlay",
              "size": 10,
              "solidity": 0.2
             }
            },
            "type": "bar"
           }
          ],
          "barpolar": [
           {
            "marker": {
             "line": {
              "color": "white",
              "width": 0.5
             },
             "pattern": {
              "fillmode": "overlay",
              "size": 10,
              "solidity": 0.2
             }
            },
            "type": "barpolar"
           }
          ],
          "carpet": [
           {
            "aaxis": {
             "endlinecolor": "#2a3f5f",
             "gridcolor": "#C8D4E3",
             "linecolor": "#C8D4E3",
             "minorgridcolor": "#C8D4E3",
             "startlinecolor": "#2a3f5f"
            },
            "baxis": {
             "endlinecolor": "#2a3f5f",
             "gridcolor": "#C8D4E3",
             "linecolor": "#C8D4E3",
             "minorgridcolor": "#C8D4E3",
             "startlinecolor": "#2a3f5f"
            },
            "type": "carpet"
           }
          ],
          "choropleth": [
           {
            "colorbar": {
             "outlinewidth": 0,
             "ticks": ""
            },
            "type": "choropleth"
           }
          ],
          "contour": [
           {
            "colorbar": {
             "outlinewidth": 0,
             "ticks": ""
            },
            "colorscale": [
             [
              0,
              "#0d0887"
             ],
             [
              0.1111111111111111,
              "#46039f"
             ],
             [
              0.2222222222222222,
              "#7201a8"
             ],
             [
              0.3333333333333333,
              "#9c179e"
             ],
             [
              0.4444444444444444,
              "#bd3786"
             ],
             [
              0.5555555555555556,
              "#d8576b"
             ],
             [
              0.6666666666666666,
              "#ed7953"
             ],
             [
              0.7777777777777778,
              "#fb9f3a"
             ],
             [
              0.8888888888888888,
              "#fdca26"
             ],
             [
              1,
              "#f0f921"
             ]
            ],
            "type": "contour"
           }
          ],
          "contourcarpet": [
           {
            "colorbar": {
             "outlinewidth": 0,
             "ticks": ""
            },
            "type": "contourcarpet"
           }
          ],
          "heatmap": [
           {
            "colorbar": {
             "outlinewidth": 0,
             "ticks": ""
            },
            "colorscale": [
             [
              0,
              "#0d0887"
             ],
             [
              0.1111111111111111,
              "#46039f"
             ],
             [
              0.2222222222222222,
              "#7201a8"
             ],
             [
              0.3333333333333333,
              "#9c179e"
             ],
             [
              0.4444444444444444,
              "#bd3786"
             ],
             [
              0.5555555555555556,
              "#d8576b"
             ],
             [
              0.6666666666666666,
              "#ed7953"
             ],
             [
              0.7777777777777778,
              "#fb9f3a"
             ],
             [
              0.8888888888888888,
              "#fdca26"
             ],
             [
              1,
              "#f0f921"
             ]
            ],
            "type": "heatmap"
           }
          ],
          "heatmapgl": [
           {
            "colorbar": {
             "outlinewidth": 0,
             "ticks": ""
            },
            "colorscale": [
             [
              0,
              "#0d0887"
             ],
             [
              0.1111111111111111,
              "#46039f"
             ],
             [
              0.2222222222222222,
              "#7201a8"
             ],
             [
              0.3333333333333333,
              "#9c179e"
             ],
             [
              0.4444444444444444,
              "#bd3786"
             ],
             [
              0.5555555555555556,
              "#d8576b"
             ],
             [
              0.6666666666666666,
              "#ed7953"
             ],
             [
              0.7777777777777778,
              "#fb9f3a"
             ],
             [
              0.8888888888888888,
              "#fdca26"
             ],
             [
              1,
              "#f0f921"
             ]
            ],
            "type": "heatmapgl"
           }
          ],
          "histogram": [
           {
            "marker": {
             "pattern": {
              "fillmode": "overlay",
              "size": 10,
              "solidity": 0.2
             }
            },
            "type": "histogram"
           }
          ],
          "histogram2d": [
           {
            "colorbar": {
             "outlinewidth": 0,
             "ticks": ""
            },
            "colorscale": [
             [
              0,
              "#0d0887"
             ],
             [
              0.1111111111111111,
              "#46039f"
             ],
             [
              0.2222222222222222,
              "#7201a8"
             ],
             [
              0.3333333333333333,
              "#9c179e"
             ],
             [
              0.4444444444444444,
              "#bd3786"
             ],
             [
              0.5555555555555556,
              "#d8576b"
             ],
             [
              0.6666666666666666,
              "#ed7953"
             ],
             [
              0.7777777777777778,
              "#fb9f3a"
             ],
             [
              0.8888888888888888,
              "#fdca26"
             ],
             [
              1,
              "#f0f921"
             ]
            ],
            "type": "histogram2d"
           }
          ],
          "histogram2dcontour": [
           {
            "colorbar": {
             "outlinewidth": 0,
             "ticks": ""
            },
            "colorscale": [
             [
              0,
              "#0d0887"
             ],
             [
              0.1111111111111111,
              "#46039f"
             ],
             [
              0.2222222222222222,
              "#7201a8"
             ],
             [
              0.3333333333333333,
              "#9c179e"
             ],
             [
              0.4444444444444444,
              "#bd3786"
             ],
             [
              0.5555555555555556,
              "#d8576b"
             ],
             [
              0.6666666666666666,
              "#ed7953"
             ],
             [
              0.7777777777777778,
              "#fb9f3a"
             ],
             [
              0.8888888888888888,
              "#fdca26"
             ],
             [
              1,
              "#f0f921"
             ]
            ],
            "type": "histogram2dcontour"
           }
          ],
          "mesh3d": [
           {
            "colorbar": {
             "outlinewidth": 0,
             "ticks": ""
            },
            "type": "mesh3d"
           }
          ],
          "parcoords": [
           {
            "line": {
             "colorbar": {
              "outlinewidth": 0,
              "ticks": ""
             }
            },
            "type": "parcoords"
           }
          ],
          "pie": [
           {
            "automargin": true,
            "type": "pie"
           }
          ],
          "scatter": [
           {
            "fillpattern": {
             "fillmode": "overlay",
             "size": 10,
             "solidity": 0.2
            },
            "type": "scatter"
           }
          ],
          "scatter3d": [
           {
            "line": {
             "colorbar": {
              "outlinewidth": 0,
              "ticks": ""
             }
            },
            "marker": {
             "colorbar": {
              "outlinewidth": 0,
              "ticks": ""
             }
            },
            "type": "scatter3d"
           }
          ],
          "scattercarpet": [
           {
            "marker": {
             "colorbar": {
              "outlinewidth": 0,
              "ticks": ""
             }
            },
            "type": "scattercarpet"
           }
          ],
          "scattergeo": [
           {
            "marker": {
             "colorbar": {
              "outlinewidth": 0,
              "ticks": ""
             }
            },
            "type": "scattergeo"
           }
          ],
          "scattergl": [
           {
            "marker": {
             "colorbar": {
              "outlinewidth": 0,
              "ticks": ""
             }
            },
            "type": "scattergl"
           }
          ],
          "scattermapbox": [
           {
            "marker": {
             "colorbar": {
              "outlinewidth": 0,
              "ticks": ""
             }
            },
            "type": "scattermapbox"
           }
          ],
          "scatterpolar": [
           {
            "marker": {
             "colorbar": {
              "outlinewidth": 0,
              "ticks": ""
             }
            },
            "type": "scatterpolar"
           }
          ],
          "scatterpolargl": [
           {
            "marker": {
             "colorbar": {
              "outlinewidth": 0,
              "ticks": ""
             }
            },
            "type": "scatterpolargl"
           }
          ],
          "scatterternary": [
           {
            "marker": {
             "colorbar": {
              "outlinewidth": 0,
              "ticks": ""
             }
            },
            "type": "scatterternary"
           }
          ],
          "surface": [
           {
            "colorbar": {
             "outlinewidth": 0,
             "ticks": ""
            },
            "colorscale": [
             [
              0,
              "#0d0887"
             ],
             [
              0.1111111111111111,
              "#46039f"
             ],
             [
              0.2222222222222222,
              "#7201a8"
             ],
             [
              0.3333333333333333,
              "#9c179e"
             ],
             [
              0.4444444444444444,
              "#bd3786"
             ],
             [
              0.5555555555555556,
              "#d8576b"
             ],
             [
              0.6666666666666666,
              "#ed7953"
             ],
             [
              0.7777777777777778,
              "#fb9f3a"
             ],
             [
              0.8888888888888888,
              "#fdca26"
             ],
             [
              1,
              "#f0f921"
             ]
            ],
            "type": "surface"
           }
          ],
          "table": [
           {
            "cells": {
             "fill": {
              "color": "#EBF0F8"
             },
             "line": {
              "color": "white"
             }
            },
            "header": {
             "fill": {
              "color": "#C8D4E3"
             },
             "line": {
              "color": "white"
             }
            },
            "type": "table"
           }
          ]
         },
         "layout": {
          "annotationdefaults": {
           "arrowcolor": "#2a3f5f",
           "arrowhead": 0,
           "arrowwidth": 1
          },
          "autotypenumbers": "strict",
          "coloraxis": {
           "colorbar": {
            "outlinewidth": 0,
            "ticks": ""
           }
          },
          "colorscale": {
           "diverging": [
            [
             0,
             "#8e0152"
            ],
            [
             0.1,
             "#c51b7d"
            ],
            [
             0.2,
             "#de77ae"
            ],
            [
             0.3,
             "#f1b6da"
            ],
            [
             0.4,
             "#fde0ef"
            ],
            [
             0.5,
             "#f7f7f7"
            ],
            [
             0.6,
             "#e6f5d0"
            ],
            [
             0.7,
             "#b8e186"
            ],
            [
             0.8,
             "#7fbc41"
            ],
            [
             0.9,
             "#4d9221"
            ],
            [
             1,
             "#276419"
            ]
           ],
           "sequential": [
            [
             0,
             "#0d0887"
            ],
            [
             0.1111111111111111,
             "#46039f"
            ],
            [
             0.2222222222222222,
             "#7201a8"
            ],
            [
             0.3333333333333333,
             "#9c179e"
            ],
            [
             0.4444444444444444,
             "#bd3786"
            ],
            [
             0.5555555555555556,
             "#d8576b"
            ],
            [
             0.6666666666666666,
             "#ed7953"
            ],
            [
             0.7777777777777778,
             "#fb9f3a"
            ],
            [
             0.8888888888888888,
             "#fdca26"
            ],
            [
             1,
             "#f0f921"
            ]
           ],
           "sequentialminus": [
            [
             0,
             "#0d0887"
            ],
            [
             0.1111111111111111,
             "#46039f"
            ],
            [
             0.2222222222222222,
             "#7201a8"
            ],
            [
             0.3333333333333333,
             "#9c179e"
            ],
            [
             0.4444444444444444,
             "#bd3786"
            ],
            [
             0.5555555555555556,
             "#d8576b"
            ],
            [
             0.6666666666666666,
             "#ed7953"
            ],
            [
             0.7777777777777778,
             "#fb9f3a"
            ],
            [
             0.8888888888888888,
             "#fdca26"
            ],
            [
             1,
             "#f0f921"
            ]
           ]
          },
          "colorway": [
           "#636efa",
           "#EF553B",
           "#00cc96",
           "#ab63fa",
           "#FFA15A",
           "#19d3f3",
           "#FF6692",
           "#B6E880",
           "#FF97FF",
           "#FECB52"
          ],
          "font": {
           "color": "#2a3f5f"
          },
          "geo": {
           "bgcolor": "white",
           "lakecolor": "white",
           "landcolor": "white",
           "showlakes": true,
           "showland": true,
           "subunitcolor": "#C8D4E3"
          },
          "hoverlabel": {
           "align": "left"
          },
          "hovermode": "closest",
          "mapbox": {
           "style": "light"
          },
          "paper_bgcolor": "white",
          "plot_bgcolor": "white",
          "polar": {
           "angularaxis": {
            "gridcolor": "#EBF0F8",
            "linecolor": "#EBF0F8",
            "ticks": ""
           },
           "bgcolor": "white",
           "radialaxis": {
            "gridcolor": "#EBF0F8",
            "linecolor": "#EBF0F8",
            "ticks": ""
           }
          },
          "scene": {
           "xaxis": {
            "backgroundcolor": "white",
            "gridcolor": "#DFE8F3",
            "gridwidth": 2,
            "linecolor": "#EBF0F8",
            "showbackground": true,
            "ticks": "",
            "zerolinecolor": "#EBF0F8"
           },
           "yaxis": {
            "backgroundcolor": "white",
            "gridcolor": "#DFE8F3",
            "gridwidth": 2,
            "linecolor": "#EBF0F8",
            "showbackground": true,
            "ticks": "",
            "zerolinecolor": "#EBF0F8"
           },
           "zaxis": {
            "backgroundcolor": "white",
            "gridcolor": "#DFE8F3",
            "gridwidth": 2,
            "linecolor": "#EBF0F8",
            "showbackground": true,
            "ticks": "",
            "zerolinecolor": "#EBF0F8"
           }
          },
          "shapedefaults": {
           "line": {
            "color": "#2a3f5f"
           }
          },
          "ternary": {
           "aaxis": {
            "gridcolor": "#DFE8F3",
            "linecolor": "#A2B1C6",
            "ticks": ""
           },
           "baxis": {
            "gridcolor": "#DFE8F3",
            "linecolor": "#A2B1C6",
            "ticks": ""
           },
           "bgcolor": "white",
           "caxis": {
            "gridcolor": "#DFE8F3",
            "linecolor": "#A2B1C6",
            "ticks": ""
           }
          },
          "title": {
           "x": 0.05
          },
          "xaxis": {
           "automargin": true,
           "gridcolor": "#EBF0F8",
           "linecolor": "#EBF0F8",
           "ticks": "",
           "title": {
            "standoff": 15
           },
           "zerolinecolor": "#EBF0F8",
           "zerolinewidth": 2
          },
          "yaxis": {
           "automargin": true,
           "gridcolor": "#EBF0F8",
           "linecolor": "#EBF0F8",
           "ticks": "",
           "title": {
            "standoff": 15
           },
           "zerolinecolor": "#EBF0F8",
           "zerolinewidth": 2
          }
         }
        },
        "title": {
         "text": "Comparación de Sentimiento Esperado vs. Sentimiento Predicho"
        },
        "xaxis": {
         "tickangle": -45,
         "title": {
          "text": "Oraciones"
         }
        },
        "yaxis": {
         "title": {
          "text": "Sentimiento"
         }
        }
       }
      }
     },
     "metadata": {},
     "output_type": "display_data"
    }
   ],
   "source": [
    "# Evaluar el modelo\n",
    "evaluate_model_bidirectional_plotly(model_bidirectional, sentences, target_sentiment)"
   ]
  },
  {
   "cell_type": "markdown",
   "metadata": {},
   "source": [
    "# Evaluar un texto personalizado"
   ]
  },
  {
   "cell_type": "code",
   "execution_count": 40,
   "metadata": {},
   "outputs": [],
   "source": [
    "# Guardar el modelo\n",
    "torch.save(model_bidirectional, 'model_bidirectional.pth')"
   ]
  },
  {
   "cell_type": "code",
   "execution_count": 47,
   "metadata": {},
   "outputs": [
    {
     "name": "stdout",
     "output_type": "stream",
     "text": [
      "Sentimiento del texto: 0.85\n"
     ]
    }
   ],
   "source": [
    "# Definimos un texto\n",
    "texto = 'Hoy fue un día muy productivo, logré hacer muchas cosas'\n",
    "\n",
    "# Predecir el sentimiento del texto\n",
    "sentimiento = model_bidirectional.predict(texto)\n",
    "print(f'Sentimiento del texto: {sentimiento:.2f}')"
   ]
  },
  {
   "cell_type": "code",
   "execution_count": 48,
   "metadata": {},
   "outputs": [
    {
     "name": "stdout",
     "output_type": "stream",
     "text": [
      "Sentimiento del texto: -0.04\n"
     ]
    }
   ],
   "source": [
    "# Definimos un texto\n",
    "texto = 'No me siento bien, todo parece ir mal'\n",
    "\n",
    "# Predecir el sentimiento del texto\n",
    "sentimiento = model_bidirectional.predict(texto)\n",
    "print(f'Sentimiento del texto: {sentimiento:.2f}')"
   ]
  },
  {
   "cell_type": "markdown",
   "metadata": {},
   "source": [
    "# Configurando el Preprocesor - Sentence Embedings"
   ]
  },
  {
   "cell_type": "code",
   "execution_count": 157,
   "metadata": {},
   "outputs": [],
   "source": [
    "import re\n",
    "import pandas as pd\n",
    "import numpy as np\n",
    "import pickle\n",
    "\n",
    "# Creamos una clase para preprocesar los datos\n",
    "class Preprocessor:    \n",
    "    def __init__(self, path: str, embedding_type='glove') -> None:\n",
    "        # Atributo (str) path de la clase\n",
    "        self.path = path\n",
    "        # Leemos el archivo\n",
    "        self.text = self.read_path(self.path)\n",
    "        # Creamos un diccionario de parrafos y sentimientos\n",
    "        self.data = self.create_data(self.text)\n",
    "        #print(self.data)\n",
    "        # Creamos un dataframe\n",
    "        self.df = self.create_df(self.data)\n",
    "        # Creamos un df de palabras y sentimientos\n",
    "        self.df_words = self.create_df_words(self.df)\n",
    "        \n",
    "        # Cargar modelo de embeddings\n",
    "        self.embedding_type = embedding_type\n",
    "        if embedding_type == 'glove':\n",
    "            print(\"Cargando GloVe...\")\n",
    "            # extraemos el archivo pickle\n",
    "            self.embedding_model = pickle.load(open(\"glove_model.pkl\", 'rb'))\n",
    "            self.embedding_dim = 100\n",
    "        elif embedding_type == 'word2vec':\n",
    "            print(\"Cargando Word2Vec...\")\n",
    "            self.embedding_model = pickle.load(open(\"word2vec_model.pkl\", 'rb'))\n",
    "            self.embedding_dim = 300\n",
    "        else:\n",
    "            raise ValueError(\"Tipo de embedding no soportado. Usa 'glove' o 'word2vec'.\")\n",
    "\n",
    "        # Creamos una lista de tensores de secuencias y sus targets\n",
    "        self.X, self.y = self.create_X_y_words(self.df_words)\n",
    "    \n",
    "    def get_embedding_texto(self, texto: str) -> list:\n",
    "        ''' Método que obtiene los embeddings de un texto '''\n",
    "        texto = re.findall(r'\\w+', texto.lower())\n",
    "        embeddings = [self.embedding_model[word] for word in texto if word in self.embedding_model]\n",
    "        # Convertimos la lista de embeddings a un tensor\n",
    "        if embeddings:\n",
    "                # convertimos la lista de embeddings a un tensor\n",
    "            embeddings = [torch.tensor(embedding) for embedding in embeddings]\n",
    "        else:\n",
    "            embeddings = np.zeros(self.embedding_dim)  # Vector de ceros si no se encuentran palabras válidas\n",
    "\n",
    "        return embeddings\n",
    "    \n",
    "    def get_embedding_parrafo(self, parrafo: str) -> torch.Tensor:\n",
    "        ''' Método que obtiene el embedding promedio de un párrafo '''\n",
    "        parrafo = re.findall(r'\\w+', parrafo.lower())\n",
    "        embeddings = [self.embedding_model[word] for word in parrafo if word in self.embedding_model]\n",
    "        if embeddings:\n",
    "            # Calculamos el promedio de los embeddings\n",
    "            paragraph_embedding = torch.tensor(embeddings).mean(dim=0)\n",
    "            # Reshape del tensor\n",
    "            paragraph_embedding = paragraph_embedding.view(1,-1)\n",
    "        else:\n",
    "            paragraph_embedding = np.zeros(self.embedding_dim)\n",
    "        \n",
    "        return paragraph_embedding\n",
    "    \n",
    "    def create_X_y_text(self, df: str) -> torch.Tensor:\n",
    "        X = []\n",
    "        y = []\n",
    "        for parrafo,sentimiento in zip(df['parrafos'],df['sentimientos']):\n",
    "            embeddings = [self.embedding_model[word] for word in parrafo if word in self.embedding_model]\n",
    "            if embeddings:\n",
    "                # Calculamos el promedio de los embeddings\n",
    "                paragraph_embedding = torch.tensor(embeddings).mean(dim=0)\n",
    "                # Reshape del tensor\n",
    "                paragraph_embedding = paragraph_embedding.view(1,-1)\n",
    "            else:\n",
    "                paragraph_embedding = np.zeros(self.embedding_dim)  # Vector de ceros si no se encuentran palabras válidas\n",
    "            X.append(paragraph_embedding)\n",
    "            # Convertimos el sentimiento a tensor\n",
    "            sentimiento = torch.tensor(sentimiento)\n",
    "            y.append(sentimiento)\n",
    "        \n",
    "        # Convertimos las listas a tensores\n",
    "        X = torch.stack(X)\n",
    "        \n",
    "        return X,y\n",
    "    \n",
    "    def create_X_y_words(self, df: pd.DataFrame) -> list:\n",
    "        ''' Método que crea una lista de embeddings de secuencias '''\n",
    "        X = []\n",
    "        y = []\n",
    "        for parrafo,sentimiento in zip(df['parrafos'],df['sentimientos']):\n",
    "            embeddings = [self.embedding_model[word] for word in parrafo if word in self.embedding_model]\n",
    "            if embeddings:\n",
    "                # convertimos la lista de embeddings a un tensor\n",
    "                paragraph_embedding = [torch.tensor(embedding) for embedding in embeddings]\n",
    "            else:\n",
    "                paragraph_embedding = np.zeros(self.embedding_dim)  # Vector de ceros si no se encuentran palabras válidas\n",
    "            X.append(paragraph_embedding)\n",
    "            # Convertimos el sentimiento a tensor\n",
    "            sentimiento = torch.tensor(sentimiento)\n",
    "            y.append(sentimiento)\n",
    "    \n",
    "        return X, y\n",
    "    \n",
    "    def create_df_words(self, df: pd.DataFrame) -> pd.DataFrame:\n",
    "        ''' Método que crea un dataframe de palabras y sentimientos '''\n",
    "        df_words = df.copy()\n",
    "        df_words['parrafos'] = df['parrafos'].apply(lambda x: re.findall(r'\\w+', x.lower()))\n",
    "        return df_words\n",
    "    \n",
    "    def create_df(self, data: dict) -> pd.DataFrame:\n",
    "        ''' Método que crea un dataframe a partir de un diccionario de parrafos y sentimientos '''\n",
    "        df = pd.DataFrame(data)\n",
    "        return df\n",
    "    \n",
    "    def create_data(self, text: str) -> dict:\n",
    "        ''' Método que crea un diccionario de parrafos y sentimientos '''\n",
    "        parrafos = re.findall(r'Parrafo_\\d+:\\n(.*?)\\nsentimiento_\\d+:\\n', text, re.DOTALL)\n",
    "        sentimientos = re.findall(r'sentimiento_\\d+:\\n(.*?)(?:\\n|$)', text, re.DOTALL)\n",
    "        # Convertimos los sentimientos a float\n",
    "        sentimientos = [float(sentimiento) for sentimiento in sentimientos]\n",
    "        data = {'parrafos': parrafos, 'sentimientos': sentimientos }\n",
    "        return data\n",
    "    \n",
    "    def read_path(self, path: str) -> str:\n",
    "        ''' Método que lee un archivo de texto y retorna el texto '''\n",
    "        with open(path, 'r', encoding='utf-8') as file:\n",
    "            text = file.read()\n",
    "        return text"
   ]
  },
  {
   "cell_type": "code",
   "execution_count": 158,
   "metadata": {},
   "outputs": [],
   "source": [
    "import torch\n",
    "import torch.nn as nn\n",
    "import matplotlib.pyplot as plt\n",
    "\n",
    "class BidirectionalRNN_ANN(nn.Module):\n",
    "    def __init__(self, input_size, hidden_size, output_size=1):\n",
    "        super(BidirectionalRNN_ANN, self).__init__()\n",
    "\n",
    "        # Definimos la capa RNN1 (->)\n",
    "        self.rnn1 = RNNode(input_size,hidden_size)\n",
    "        # Definimos la capa RNN2 (<-)\n",
    "        self.rnn2 = RNNode(input_size,hidden_size)\n",
    "\n",
    "        # Definimos la estructura ANN que toma la concatenación de las salidas de las capas RNN\n",
    "        \n",
    "        # Añadiendo más capas ANN para el procesamiento posterior\n",
    "        self.fc1 = nn.Linear(2*hidden_size, 2*hidden_size)  # Nueva capa lineal\n",
    "        self.relu1 = nn.ReLU()  # Función de activación ReLU\n",
    "        self.fc2 = nn.Linear(2*hidden_size, hidden_size)  # Otra capa lineal, reduce dimensiones\n",
    "        self.relu2 = nn.ReLU()  # Otra ReLU\n",
    "        self.f_sent = nn.Linear(hidden_size, output_size)  # Capa final ajustada después de nuevas capas\n",
    "\n",
    "    \n",
    "    def forward(self, secuencia ):\n",
    "        # Recorremos la secuencia de entrada en orden\n",
    "        h1,h2 = None, None\n",
    "        for x_input in secuencia:\n",
    "            h1 = self.rnn1(x_input,h1)\n",
    "        # Recorremos la secuencia de entrada en orden inverso\n",
    "        for x_input in reversed(secuencia):\n",
    "            h2 = self.rnn2(x_input,h2)\n",
    "        \n",
    "        # Concatenamos las salidas de las capas RNN\n",
    "        h = torch.cat((h1,h2),1)\n",
    "\n",
    "        # Pasamos la concatenación por la capa ANN\n",
    "        x = self.fc1(h)\n",
    "        x = self.relu1(x)\n",
    "        x = self.fc2(x)\n",
    "        x = self.relu2(x)\n",
    "       \n",
    "        output = self.f_sent(x)\n",
    "        output = torch.tanh(output)  # Manteniendo la función de activación tanh para la salida\n",
    "        output = output.squeeze()  # Eliminando dimensiones extra\n",
    "\n",
    "        return output\n",
    "\n",
    "\n",
    "class SentimentBidirectional_RNN(nn.Module):\n",
    "    def __init__(self, input_size, hidden_size, output_size, Preprocessor, dropout=0.5, lr=0.001):\n",
    "        super(SentimentBidirectional_RNN, self).__init__()\n",
    "        self.Preprocessor = Preprocessor\n",
    "        self.model = BidirectionalRNN_ANN(input_size, hidden_size, output_size)\n",
    "        self.loss = nn.MSELoss()\n",
    "        self.dropout = nn.Dropout(dropout)\n",
    "        self.optimizer = torch.optim.Adam(self.model.parameters(), lr=lr)\n",
    "\n",
    "    def train(self, X_train, y_train, epoch=10, batch_size=32):\n",
    "        loss_list = []\n",
    "        for e in range(epoch):\n",
    "            total_loss = 0\n",
    "            for i in range(0, len(X_train), batch_size):\n",
    "                X_batch = X_train[i:i+batch_size]\n",
    "                y_batch = y_train[i:i+batch_size]\n",
    "                self.optimizer.zero_grad()\n",
    "                outputs = []\n",
    "                for secuencia in X_batch:\n",
    "                    output = self.model(secuencia)\n",
    "                    outputs.append(output)\n",
    "\n",
    "                outputs = torch.stack(outputs).squeeze()\n",
    "                loss = self.loss(outputs, torch.tensor(y_batch))\n",
    "                \n",
    "                loss.backward()\n",
    "                self.optimizer.step()\n",
    "                total_loss += loss.item()\n",
    "                #\n",
    "            loss_list.append(total_loss)\n",
    "            print(f'Epoch {e+1} - Loss: {total_loss}')\n",
    "        self.loss_list = loss_list\n",
    "\n",
    "    def plot_loss(self):\n",
    "        plt.plot(self.loss_list)\n",
    "        plt.xlabel('Epoch')\n",
    "        plt.ylabel('Loss')\n",
    "        plt.show()\n",
    "\n",
    "    def evaluate(self, X_test, y_test):\n",
    "        with torch.no_grad():\n",
    "            total_loss = 0\n",
    "            outputs = []\n",
    "            for secuencia in X_test:\n",
    "                output = self.model(secuencia)\n",
    "                outputs.append(output)\n",
    "            outputs = torch.stack(outputs).squeeze()\n",
    "            total_loss = self.loss(outputs, torch.tensor(y_test)).item()\n",
    "            mse = total_loss / len(y_test)\n",
    "            print(f'MSE: {mse}')\n",
    "        return mse\n",
    "    \n",
    "    def predict_sentence_embeding(self, texto):\n",
    "        secuencia = self.Preprocessor.get_embedding_parrafo(texto)\n",
    "        output = self.model(secuencia)\n",
    "        return output.item()\n",
    "\n",
    "    def predict(self, texto):\n",
    "        secuencia = self.Preprocessor.get_embedding_texto(texto)\n",
    "        output = self.model(secuencia)\n",
    "        return output.item()\n",
    "\n",
    "        \n"
   ]
  },
  {
   "cell_type": "code",
   "execution_count": 159,
   "metadata": {},
   "outputs": [
    {
     "name": "stdout",
     "output_type": "stream",
     "text": [
      "Cargando GloVe...\n"
     ]
    }
   ],
   "source": [
    "# Crear el preprocesador\n",
    "preprocessor_train = Preprocessor('./train_data.txt', embedding_type='glove')"
   ]
  },
  {
   "cell_type": "code",
   "execution_count": 160,
   "metadata": {},
   "outputs": [
    {
     "data": {
      "text/html": [
       "<div>\n",
       "<style scoped>\n",
       "    .dataframe tbody tr th:only-of-type {\n",
       "        vertical-align: middle;\n",
       "    }\n",
       "\n",
       "    .dataframe tbody tr th {\n",
       "        vertical-align: top;\n",
       "    }\n",
       "\n",
       "    .dataframe thead th {\n",
       "        text-align: right;\n",
       "    }\n",
       "</style>\n",
       "<table border=\"1\" class=\"dataframe\">\n",
       "  <thead>\n",
       "    <tr style=\"text-align: right;\">\n",
       "      <th></th>\n",
       "      <th>parrafos</th>\n",
       "      <th>sentimientos</th>\n",
       "    </tr>\n",
       "  </thead>\n",
       "  <tbody>\n",
       "    <tr>\n",
       "      <th>0</th>\n",
       "      <td>[me, siento, extremadamente, feliz, hoy, todo,...</td>\n",
       "      <td>0.9</td>\n",
       "    </tr>\n",
       "    <tr>\n",
       "      <th>1</th>\n",
       "      <td>[hoy, ha, sido, un, día, difícil, las, cosas, ...</td>\n",
       "      <td>0.2</td>\n",
       "    </tr>\n",
       "    <tr>\n",
       "      <th>2</th>\n",
       "      <td>[no, puedo, evitar, sentir, una, tristeza, pro...</td>\n",
       "      <td>-0.8</td>\n",
       "    </tr>\n",
       "    <tr>\n",
       "      <th>3</th>\n",
       "      <td>[logré, finalizar, mi, proyecto, a, tiempo, me...</td>\n",
       "      <td>0.8</td>\n",
       "    </tr>\n",
       "    <tr>\n",
       "      <th>4</th>\n",
       "      <td>[la, reunión, fue, larga, y, tediosa, y, no, l...</td>\n",
       "      <td>-0.3</td>\n",
       "    </tr>\n",
       "  </tbody>\n",
       "</table>\n",
       "</div>"
      ],
      "text/plain": [
       "                                            parrafos  sentimientos\n",
       "0  [me, siento, extremadamente, feliz, hoy, todo,...           0.9\n",
       "1  [hoy, ha, sido, un, día, difícil, las, cosas, ...           0.2\n",
       "2  [no, puedo, evitar, sentir, una, tristeza, pro...          -0.8\n",
       "3  [logré, finalizar, mi, proyecto, a, tiempo, me...           0.8\n",
       "4  [la, reunión, fue, larga, y, tediosa, y, no, l...          -0.3"
      ]
     },
     "execution_count": 160,
     "metadata": {},
     "output_type": "execute_result"
    }
   ],
   "source": [
    "preprocessor_train.df_words.head()"
   ]
  },
  {
   "cell_type": "code",
   "execution_count": 161,
   "metadata": {},
   "outputs": [
    {
     "data": {
      "text/plain": [
       "[tensor([ 0.2120, -0.4785,  0.0175, -0.9623, -0.1658, -0.3880, -0.0924,  0.9250,\n",
       "          0.3415, -0.2823,  0.6151,  1.2250, -0.0645, -0.1184, -0.0989, -1.0229,\n",
       "          0.0122, -0.8100,  0.1316, -0.5833,  0.6365, -0.0291, -0.1544,  0.7454,\n",
       "          1.1623,  0.2079,  0.2648, -0.3717,  0.3943, -0.6704, -0.5284, -0.3105,\n",
       "         -0.3235,  0.4100,  0.4654, -0.2087, -0.0717,  0.5075, -1.0289,  0.0804,\n",
       "          0.1129,  0.7994, -0.5947, -0.2727, -0.6343,  0.4719,  0.0835, -1.0384,\n",
       "         -0.5627,  0.4020, -0.6206,  1.0848, -0.1655, -0.2742, -0.1495, -0.1555,\n",
       "         -0.1225,  0.3447, -0.4095,  0.3291, -0.0726, -0.4725, -0.3836, -0.6020,\n",
       "          0.5390, -0.5714, -0.0571,  0.1444, -0.4999,  0.5038, -0.2771,  0.9899,\n",
       "          0.0461, -0.1297,  0.6349, -0.4320,  0.6402, -0.2450, -0.5174, -0.5844,\n",
       "          0.3660, -0.8020,  0.1696,  0.2262,  0.5918,  0.0444, -0.6855, -0.0278,\n",
       "          0.1420, -0.4672, -0.0492,  0.2285,  1.4805, -0.1819,  0.2035,  0.3405,\n",
       "         -1.1690, -0.6087, -0.3266,  0.4838]),\n",
       " tensor([-0.2157,  0.2123,  0.1725,  0.5220, -0.5487, -0.0967,  0.5439,  0.9376,\n",
       "          1.2568,  0.5532,  0.7829,  0.7520,  0.0038, -0.1045,  1.2246, -0.8782,\n",
       "          0.5593,  0.3728,  0.0582, -0.0246,  1.3820,  1.2649, -0.7976,  0.1903,\n",
       "          0.4232,  0.3238,  0.4040, -0.2634, -0.2332, -0.1509, -0.7121,  0.0977,\n",
       "          1.0384,  0.3150, -0.2307,  0.2184,  0.7831,  0.4752, -0.5391,  0.2962,\n",
       "          0.2614, -0.0511, -0.1568, -0.0828,  1.3629, -0.2290, -1.1811, -0.6593,\n",
       "         -1.0497, -0.5645, -1.1406, -0.2830,  0.3153,  0.2952, -0.6914,  0.1848,\n",
       "          0.0285,  0.2326,  0.3446, -0.5928, -0.1629,  0.8213, -0.1374, -1.0789,\n",
       "          0.6815, -0.5450,  0.7976, -0.0486,  0.6974,  0.2720,  0.8391,  0.7391,\n",
       "          0.2181, -0.8062, -0.1150, -0.6366, -0.3399,  0.2455, -0.2719,  0.5978,\n",
       "          0.6074, -0.5288, -0.4227, -0.9667, -0.1652,  0.5306, -0.3101, -0.0778,\n",
       "          1.1803,  0.8719,  0.9105,  0.0521,  0.2332,  0.3241, -0.6564,  0.4624,\n",
       "         -0.8067, -0.8730, -0.1901, -0.5575]),\n",
       " tensor([ 0.3119, -0.4430,  0.3604,  0.2428, -0.2148, -0.2650,  0.4312,  0.6434,\n",
       "          1.2137,  0.7314, -0.0220,  0.9477,  0.1772, -0.5067,  1.1037, -0.4461,\n",
       "          0.3419, -0.1689,  0.0440, -0.4737, -0.5411,  0.5474, -1.2488,  0.1239,\n",
       "          0.4297,  0.3836,  0.1168, -0.2978,  0.5652, -0.4511, -0.2914, -0.3271,\n",
       "          0.3918,  0.1837,  0.2704, -0.1167,  1.1641, -0.3042, -0.2734,  0.1440,\n",
       "          0.3155,  0.6663,  0.2961,  0.1848,  1.2317, -0.6021, -0.7776,  0.4129,\n",
       "         -1.0381,  0.2269, -0.2279,  0.3246, -0.6403, -0.5418, -0.2678,  0.7597,\n",
       "          0.3252,  0.3056, -0.5559,  0.2823, -0.5569, -0.1699, -0.3444, -1.0257,\n",
       "          0.1809, -1.1490,  0.3996, -0.1812,  0.1281,  0.5228,  0.3664,  0.4610,\n",
       "          0.8217,  0.0866, -0.0447, -0.2012, -0.4642, -0.7709,  0.2090,  0.3802,\n",
       "          0.4845, -0.1249,  0.1153, -0.3299, -0.2725,  0.6850,  0.0890, -0.6224,\n",
       "         -0.0077,  0.1950,  0.8027, -0.8283,  1.1770,  0.1416,  0.2766,  0.1724,\n",
       "         -1.1309, -0.0750,  0.3393,  0.1336]),\n",
       " tensor([-0.4471,  0.0675,  1.0588,  0.4331,  0.0471, -0.0029,  0.2996,  1.3082,\n",
       "          1.1576,  0.0655, -0.1455, -0.7336,  0.4689,  0.1741, -0.1371,  0.4848,\n",
       "         -0.1663, -0.7983, -1.0714, -0.2609,  0.4810, -0.0915,  0.1074,  0.1356,\n",
       "          0.1741, -0.0829, -0.5402, -0.6420,  0.2128,  0.1276, -0.1085, -1.2910,\n",
       "         -0.7324,  0.8907, -0.0707,  0.0560,  1.2329,  0.0997, -0.1872,  0.4247,\n",
       "         -1.3748,  0.5904,  0.6285, -0.0948,  1.2940, -0.3767, -1.7371, -0.2655,\n",
       "         -1.5369, -0.7467,  0.2261,  0.4140, -0.8684,  0.5428, -0.7148, -1.8543,\n",
       "          0.1269, -0.0430,  1.2337, -0.6143, -0.0307, -0.5065, -0.6487, -0.5882,\n",
       "          0.4587, -0.6286, -1.1846,  0.5217, -0.3078,  0.6042,  1.5746, -0.2917,\n",
       "         -0.6474, -1.0664,  0.5495, -0.1451, -0.6691,  0.3412, -1.3613, -0.2433,\n",
       "          1.3005, -0.1602,  0.3404,  0.0360, -1.3150,  0.6363,  0.5675, -0.0393,\n",
       "          0.4545, -0.6204, -0.1734,  0.3982,  0.2892,  0.4156,  0.0585,  0.7719,\n",
       "         -0.6776,  0.0958,  0.5134,  0.1466]),\n",
       " tensor([-0.0146, -1.3722, -0.0350,  0.6192,  0.1092,  0.4004,  1.0480,  1.2840,\n",
       "          0.5225, -0.5276, -0.2322, -1.0584,  0.2141,  0.0500, -0.5903, -0.5590,\n",
       "         -0.1663, -0.6924,  0.5160,  0.4700,  1.0800, -0.7818, -1.3744, -0.1118,\n",
       "          0.6377, -0.0400,  0.0222, -0.1525,  0.4475,  0.0919, -0.0448, -0.8153,\n",
       "         -0.2117,  1.0622, -0.5575,  0.1828,  0.3048, -0.1145,  0.7038, -0.1395,\n",
       "         -0.0207,  0.3814, -0.0493,  0.0756,  0.1401,  0.2355, -0.7783, -0.1036,\n",
       "         -0.9538, -0.0511,  0.1402,  0.2497,  0.2943,  0.0045, -0.8481,  0.1165,\n",
       "          0.7217,  0.5756, -0.2898, -0.3060, -0.0832,  0.1203, -0.6131, -1.7525,\n",
       "         -0.4641,  0.7649, -0.1427, -0.6887,  0.9157,  0.0757,  0.8154,  0.0771,\n",
       "          0.3101,  0.3900,  0.0343,  0.6842,  0.0621,  0.4707,  0.0219,  0.2609,\n",
       "         -0.7279, -0.5161,  0.0916,  0.6713,  0.5477,  0.3026, -0.3269, -0.1202,\n",
       "          0.1816,  0.0245, -0.6211,  0.1669,  0.5428, -0.0528, -0.1981,  0.2578,\n",
       "          0.1622, -0.8335, -0.2920,  0.1822]),\n",
       " tensor([ 6.1769e-01, -1.1543e+00,  5.8617e-01, -3.8913e-01,  5.7023e-01,\n",
       "          2.4967e-01,  2.3251e-01,  9.8535e-01,  6.7580e-01, -5.6434e-01,\n",
       "          4.7051e-01, -2.5156e-01, -4.7231e-01, -9.0634e-01,  4.7206e-01,\n",
       "         -6.9059e-01,  6.6174e-01,  5.6398e-01, -1.1283e-01, -2.9894e-03,\n",
       "          1.1036e+00,  5.2701e-03, -8.6371e-01,  3.8124e-01, -4.3153e-01,\n",
       "         -2.6985e-01,  6.6370e-01, -1.4050e+00,  8.0704e-03, -7.2252e-01,\n",
       "         -6.7991e-01, -8.2139e-01,  1.8842e-01,  4.7814e-01,  5.7027e-01,\n",
       "          7.0274e-01,  9.6251e-02,  7.4792e-02,  2.5484e-01,  8.5408e-02,\n",
       "          2.7591e-01, -4.7140e-01, -7.9480e-02, -8.3912e-01, -1.4128e-01,\n",
       "         -1.2471e-01, -8.6599e-01,  7.4663e-02, -3.2702e-01, -1.9622e-02,\n",
       "         -1.7473e+00,  3.8869e-01,  6.0844e-02, -7.1488e-01,  2.6723e-01,\n",
       "         -1.8418e+00, -2.6985e-01, -1.7727e-01,  1.0132e+00,  6.6844e-01,\n",
       "         -1.1809e+00,  7.6271e-01, -2.9156e-02, -1.7553e+00, -5.0754e-01,\n",
       "         -7.9110e-01,  4.3514e-01, -6.1259e-01, -4.3300e-01,  9.2311e-01,\n",
       "         -9.3490e-02,  1.2787e-01, -5.5095e-01,  2.5195e-01, -6.6622e-01,\n",
       "         -9.1081e-01,  6.4263e-01, -5.5282e-01, -3.5814e-01,  7.0478e-01,\n",
       "          5.4934e-01, -9.8923e-01,  2.8539e-01, -2.7589e-01, -3.1325e-01,\n",
       "          7.9316e-02, -1.7409e-01, -5.8811e-01, -1.4499e-02, -7.2503e-01,\n",
       "         -1.6694e-03, -5.4782e-01,  7.2139e-01,  3.5425e-01, -3.5457e-02,\n",
       "          5.9555e-01, -8.3792e-01, -8.3584e-02,  9.8772e-01, -3.9105e-01]),\n",
       " tensor([ 0.3275, -0.9253,  1.0013, -0.2666, -0.4863,  0.3011,  0.2342,  0.7226,\n",
       "          1.4350, -0.6152, -0.3473,  0.3665, -0.9301, -0.0186,  1.0674, -0.5918,\n",
       "          0.1013, -0.0242, -0.9334,  0.5925,  0.2374, -0.2315, -0.0775, -0.0859,\n",
       "          0.0406, -0.2333,  0.1369, -0.6113, -0.4162, -0.4850, -0.2365, -1.1694,\n",
       "          0.6379, -0.0878,  0.7705,  0.4657,  0.4952, -0.3273, -0.0191,  0.1227,\n",
       "          0.3104,  0.9171,  0.1436, -1.0886, -0.5225, -1.1806, -0.7995,  0.7888,\n",
       "         -1.1703,  0.0067, -0.9329,  0.2702, -0.3737, -1.2871,  0.5193, -0.0512,\n",
       "          0.8185,  0.2678,  0.2921,  0.2848, -0.2160, -0.0578, -0.3268, -0.8476,\n",
       "          0.2144, -0.2053, -0.2410, -0.7855, -0.4013,  0.4782, -0.0034,  0.9561,\n",
       "          0.1265, -0.2068, -0.3501,  0.0784,  0.2471, -0.2243,  0.2976, -0.1319,\n",
       "          0.7022, -0.7197,  0.8821,  0.1268,  0.7993,  0.3766, -0.0380, -1.3630,\n",
       "         -0.2221, -0.0396,  0.2093, -0.8626,  0.6702,  0.2186,  0.3345,  0.0930,\n",
       "         -0.4530, -0.8965, -0.4630, -0.2402]),\n",
       " tensor([-0.0138,  0.3325,  0.5990, -0.5156, -0.5620,  0.1233, -0.1342,  0.2601,\n",
       "          0.6512,  0.0246,  0.3199,  0.4912,  0.3076,  0.5333,  0.6801, -0.2542,\n",
       "         -0.0681,  0.2639, -0.3596,  0.4758,  0.3639,  0.2368, -0.2431, -0.5268,\n",
       "          0.1531,  0.0321, -0.1105, -0.7164, -0.0264, -0.4187,  0.1822,  0.0841,\n",
       "         -0.1888,  0.2290,  0.3049,  0.4534,  0.2787,  0.0549, -0.0463,  0.1431,\n",
       "         -0.4834,  0.2765,  0.5385, -0.6688,  0.1357, -0.4566,  0.2060, -0.6706,\n",
       "         -0.6593, -1.0911,  0.2456, -0.1421,  0.0864,  0.8584, -0.0161, -2.7815,\n",
       "          0.4061, -0.0945,  1.7776,  0.8503, -0.3422,  0.3977, -0.8397,  0.1361,\n",
       "          1.1896, -0.1733,  0.7185,  0.0428, -0.2402,  0.0714, -0.4163, -0.3924,\n",
       "          0.2579, -0.6480,  0.6485,  0.4734,  0.0360, -0.3908, -1.3795, -0.0841,\n",
       "          0.8197, -0.7009, -0.2285,  0.2351, -1.5969, -0.1932,  0.4004, -0.0505,\n",
       "          0.0813, -0.3257,  0.1183, -0.5149, -0.0621,  0.0413, -0.4917, -0.0571,\n",
       "         -0.6048, -0.6743,  0.5149,  0.3429]),\n",
       " tensor([ 0.2763, -0.2268,  0.4848,  0.2996,  0.0302,  0.4609,  0.5003, -0.1559,\n",
       "          1.3610,  0.0921, -0.6566,  0.8529,  0.5972, -0.1264,  0.1791, -1.1979,\n",
       "         -0.0447, -0.4609, -0.8375, -0.7472,  1.3200, -0.1026, -0.6009,  0.9434,\n",
       "         -0.4036, -0.1179,  0.1820, -0.1484,  0.2575, -0.8125, -0.5988,  0.1106,\n",
       "          0.0873, -0.3177,  0.0667, -0.5736,  0.3755,  0.4988, -0.6811, -0.0940,\n",
       "         -0.9348, -0.1698, -0.4360,  0.2493,  0.8529, -0.7126, -0.8532, -0.2334,\n",
       "          0.1742,  0.2409, -0.7805,  0.1010, -0.0234, -0.3483, -0.2227, -0.6796,\n",
       "         -0.5719,  0.2932,  0.4484,  0.2228, -0.5725, -0.0747,  0.3471,  0.3571,\n",
       "          0.4474, -0.1269,  0.9231,  0.0330, -0.6381,  0.9888,  0.3681,  0.3408,\n",
       "         -0.3441, -0.7022, -0.0574,  0.0430, -1.0223,  0.0188, -0.2303, -0.3267,\n",
       "          0.8792, -0.2027,  0.1181, -0.4428, -0.8022,  0.9009, -1.1746, -0.8392,\n",
       "          0.5656,  0.2666,  0.8872, -0.2353,  0.2245,  0.0422, -0.2887, -0.5273,\n",
       "         -1.4231, -1.1851, -0.4544, -0.5841]),\n",
       " tensor([ 0.4753, -0.5922,  0.0339,  0.3195, -0.1301, -0.1040,  0.3451,  0.3210,\n",
       "          0.2321, -0.0877, -0.0793,  0.6023, -0.2733, -0.6709,  0.4266, -0.2068,\n",
       "         -0.0918,  0.5514,  0.2914, -0.1702, -0.3515,  0.0155, -0.4024,  0.2827,\n",
       "         -0.3628,  0.2856, -0.0026,  0.0288, -0.1210,  0.1907, -0.4499, -0.5911,\n",
       "         -0.0166,  0.2309, -0.0107, -0.2970,  0.0551,  0.0462, -0.2405,  0.6789,\n",
       "          0.1149,  0.3399, -0.0629,  0.1837,  0.2182,  0.2071, -0.5458,  0.3724,\n",
       "          0.2511,  0.0768, -0.1447,  0.3007, -0.2846, -0.1160,  0.3200,  0.8004,\n",
       "         -0.3292,  0.1109, -0.1331, -0.3020, -0.2013, -0.8570, -0.1303, -0.2885,\n",
       "         -0.1078,  0.1131,  0.0529, -0.1262, -0.5695,  0.1189,  0.5079,  0.2049,\n",
       "          0.2024,  0.2094,  0.1394,  0.0733, -1.1228, -0.2905,  0.0914,  0.3315,\n",
       "         -0.5886, -0.3075, -0.1409,  0.0919,  0.3564,  0.2589, -0.1877,  0.2660,\n",
       "         -0.0821,  0.2057,  0.0914, -0.5163,  0.7324, -0.1060,  0.0429,  0.1713,\n",
       "         -0.2300,  0.2865, -0.5271,  0.2714]),\n",
       " tensor([ 2.4106e-01, -3.4430e-01,  1.1517e+00,  4.2486e-01,  3.6528e-02,\n",
       "          2.5910e-02,  1.3765e+00, -1.9822e-02,  1.5100e+00, -5.5160e-02,\n",
       "         -2.0938e-02, -3.4712e-01, -5.8095e-01,  8.0053e-01,  9.7463e-01,\n",
       "         -5.0703e-01,  1.0901e+00, -1.3349e+00, -3.2773e-01, -1.5793e-01,\n",
       "          3.3237e-01,  2.2211e-01, -4.3306e-01,  6.2653e-01,  3.8747e-01,\n",
       "         -1.3387e-01, -2.8912e-01, -1.4707e-01, -2.7414e-01, -7.9076e-01,\n",
       "         -8.3934e-01, -7.0719e-01,  5.3343e-01,  1.3816e+00,  1.7637e-01,\n",
       "          7.9100e-01,  9.0714e-01, -2.5139e-02, -8.5817e-04,  2.1163e-01,\n",
       "          2.4169e-01,  1.0907e-01, -3.3933e-01, -6.4898e-01,  4.4448e-01,\n",
       "         -9.0785e-02, -3.6731e-01, -3.8183e-01, -8.0929e-01, -5.9010e-01,\n",
       "         -1.3430e+00,  8.1407e-01, -4.6406e-01, -8.2466e-01, -5.2542e-01,\n",
       "         -8.1633e-01,  6.5130e-02, -2.1086e-01, -9.5065e-01, -1.5858e-01,\n",
       "         -1.2945e+00,  2.5332e-01, -6.6312e-01, -9.5105e-01,  1.9796e-02,\n",
       "         -5.4083e-01,  5.3751e-01, -4.4646e-01, -4.9864e-01,  8.6874e-01,\n",
       "          2.7281e-01,  5.7484e-01, -1.2913e-01, -5.5433e-01,  2.4207e-01,\n",
       "         -7.9762e-01,  5.6675e-02, -4.6139e-02, -6.7861e-02,  8.0701e-02,\n",
       "          6.3465e-01, -9.5120e-01, -5.9747e-04, -1.3334e-01,  2.4442e-01,\n",
       "          1.7777e-01, -1.0392e+00,  8.9003e-02,  2.4299e-01,  1.2014e-01,\n",
       "         -4.0746e-01,  2.0085e-01,  7.7037e-01, -8.1698e-02, -1.3372e-01,\n",
       "         -6.3505e-02, -1.1092e+00, -9.8976e-02, -2.0500e-02, -2.6239e-01]),\n",
       " tensor([ 0.2919,  0.0566, -0.3760,  0.3088,  0.1026, -0.1031,  0.4235, -0.5126,\n",
       "          0.7868, -0.5074, -0.3520,  0.5201, -0.2186,  0.0857,  0.0155,  0.0361,\n",
       "         -0.4717, -0.0083, -0.0900,  0.0449,  0.3318,  0.1762, -0.1611, -0.6039,\n",
       "          0.2374, -0.0071, -0.2396, -0.0170,  0.1357, -0.0712, -0.0331, -0.4462,\n",
       "          0.4951,  0.2979, -0.2942,  0.2383, -0.0242, -0.6357, -0.1407,  0.0807,\n",
       "          0.3395,  0.2588, -0.0918, -0.1284,  0.2837,  0.2307, -0.2696,  0.0306,\n",
       "         -0.2783, -0.1522,  0.3819,  0.3975, -0.4437, -0.3100,  0.6754,  0.5028,\n",
       "          0.0891,  0.4129, -0.4266, -0.2687,  0.0997, -0.7808, -0.0605, -0.4047,\n",
       "         -0.1879, -0.4114, -0.2245, -0.1209, -0.2807,  0.1319,  0.2588,  0.5417,\n",
       "          0.0102, -0.2278, -0.2609, -0.1162,  0.1091, -0.5400,  0.5435, -0.1608,\n",
       "         -0.2212, -0.2284,  0.3693, -0.3073,  0.5409, -0.1502,  0.2107, -0.1873,\n",
       "         -0.2155,  0.2451,  0.0117, -0.0877,  0.2515, -0.2479,  0.0120,  0.2716,\n",
       "         -0.0755,  0.1211, -0.3007,  0.0320]),\n",
       " tensor([-0.4751, -0.2069,  0.8361, -0.5068, -0.4858, -0.3781,  0.6163,  0.4315,\n",
       "          2.2626,  0.5250, -0.0494,  0.1448, -0.3805,  0.1083,  0.6617, -0.9732,\n",
       "         -0.4699,  0.1714, -0.5893,  0.5315,  0.4724, -0.2013, -0.6487, -0.0089,\n",
       "          0.9050,  0.1537,  0.1357, -0.6930,  0.0454, -0.6711,  0.0909, -0.7153,\n",
       "          0.2995,  0.1393,  0.0373,  0.7267,  1.1828,  0.1030,  0.1678,  0.0796,\n",
       "          0.5685,  0.5604, -0.0370, -0.6560,  0.9322, -0.6545,  0.0120, -0.6909,\n",
       "         -1.5070, -0.0840, -0.6417,  0.8942, -0.1674, -1.1510,  0.2740, -0.3571,\n",
       "          0.8225,  0.5885, -0.5656,  0.4931, -0.3866, -0.3966, -0.3996, -1.1780,\n",
       "          0.2361, -0.9274,  0.4081, -0.6350,  0.0310,  1.6561,  0.0422,  0.6379,\n",
       "         -0.1679, -0.6297,  0.0269, -0.5608, -0.0294, -0.5485, -0.1031,  0.0524,\n",
       "          0.7635, -0.3859,  0.3396,  0.1576,  0.8578,  0.5014, -0.2560, -0.0697,\n",
       "         -0.0134, -0.2147,  0.3872, -0.4867,  0.4241, -0.1391,  0.1276,  0.4643,\n",
       "         -0.6250, -0.7583, -0.5304, -0.3501]),\n",
       " tensor([ 0.3656, -0.2995, -0.4116,  0.4973, -0.5692, -0.4321,  0.4217,  0.2328,\n",
       "          0.3257, -0.1114, -0.0782,  0.4893, -0.3337,  0.0771,  0.1681,  0.2121,\n",
       "         -0.4928,  0.0518,  0.2644,  0.2792, -0.2483, -0.4164, -0.7719, -0.7867,\n",
       "         -0.5561,  0.2580,  0.2588, -0.2910,  0.0318, -0.1448,  0.2984, -0.1408,\n",
       "          0.6377,  0.4073, -0.1572, -0.5880,  0.4937, -0.7442, -0.0740, -0.7901,\n",
       "          0.0146, -0.0741, -0.2089,  0.5089, -0.7717, -0.7133,  0.0664, -0.1432,\n",
       "         -0.4457,  0.3372, -0.8272,  0.2954, -0.3042, -0.9261,  0.3032,  0.7943,\n",
       "          0.8807,  0.2206,  0.0849,  0.0920, -0.0450, -0.4009, -0.4309,  0.1199,\n",
       "          0.1273,  0.0238,  0.0225, -0.6985,  0.4741,  0.3398,  0.1666,  0.1691,\n",
       "         -0.3213,  0.2170, -0.0903, -0.3600,  0.0657, -0.3875,  0.6311, -0.2709,\n",
       "         -0.3836, -0.6944, -0.0816,  0.2654,  0.5829, -0.5201, -0.4175,  0.1471,\n",
       "         -0.1490,  0.1404, -0.4502, -0.0534,  0.5095,  0.1123,  0.1438, -0.5724,\n",
       "          0.5527, -0.0881, -1.0213, -0.2422]),\n",
       " tensor([ 6.2187e-02, -5.3535e-01,  5.4249e-02,  2.2180e-01, -2.6610e-01,\n",
       "         -4.9695e-01,  2.3211e-01,  3.4425e-01,  6.3772e-01, -1.0482e-01,\n",
       "          2.1408e-01,  4.9142e-01, -4.8655e-01, -7.7029e-02, -3.9422e-01,\n",
       "          5.8932e-02, -4.9693e-01,  2.8837e-01,  2.1379e-01,  4.0282e-01,\n",
       "         -5.8672e-02, -2.6601e-02, -5.9047e-01, -2.7199e-01, -1.8631e-01,\n",
       "          4.4184e-01,  1.6798e-02,  3.7775e-03,  2.9765e-01,  1.4513e-01,\n",
       "         -1.0239e-01, -7.3093e-01,  1.4246e-01, -6.3459e-04,  4.3895e-01,\n",
       "         -6.8314e-02,  2.2672e-01, -1.3271e-01, -3.6935e-01, -3.0864e-02,\n",
       "          2.7561e-01,  2.1320e-01, -2.4865e-01, -2.8997e-01, -7.0313e-02,\n",
       "         -2.3323e-02,  1.6753e-01,  5.2469e-01, -3.0362e-01, -5.1925e-02,\n",
       "          4.1948e-02,  3.0922e-01, -5.3238e-01, -4.0412e-01,  1.7629e-01,\n",
       "          8.6864e-01,  2.5430e-01,  4.8977e-01, -7.7351e-01, -7.0936e-01,\n",
       "         -5.5728e-01, -3.4489e-02,  1.4899e-01, -8.2465e-01, -1.1182e-01,\n",
       "         -2.7376e-01, -6.2450e-01, -5.2385e-01,  2.0284e-01,  2.8334e-01,\n",
       "          4.6944e-01,  2.5240e-01,  9.0102e-02,  1.7989e-01, -1.9447e-01,\n",
       "          1.3733e-02,  4.0083e-01,  1.5555e-01,  1.2453e-01, -5.9727e-02,\n",
       "         -1.5237e-01, -3.5869e-01,  6.5337e-02, -3.3805e-01,  3.0192e-01,\n",
       "          2.7610e-01,  2.8994e-01, -3.3524e-01, -4.3351e-04,  4.0137e-01,\n",
       "         -4.3831e-02, -3.5295e-02,  1.7640e-01, -4.3029e-02,  4.9691e-01,\n",
       "          4.5849e-01,  3.1141e-01,  1.1842e-01, -2.0478e-01,  3.2665e-01]),\n",
       " tensor([-0.2709,  0.0440, -0.0203, -0.1740,  0.6444,  0.7121,  0.3551,  0.4714,\n",
       "         -0.2964,  0.5443, -0.7229, -0.0048,  0.0406,  0.0432,  0.2973,  0.1072,\n",
       "          0.4016, -0.5366,  0.0334,  0.0674,  0.6456, -0.0855,  0.1410,  0.0945,\n",
       "          0.7495, -0.1940, -0.6874, -0.4174, -0.2281,  0.1200, -0.4900,  0.8094,\n",
       "          0.0451, -0.1190,  0.2016,  0.3928, -0.2012,  0.3135,  0.7530,  0.2591,\n",
       "         -0.1157, -0.0293,  0.9350, -0.3607,  0.5242,  0.2371,  0.5271,  0.2287,\n",
       "         -0.5196, -0.7935, -0.2037, -0.5019,  0.1875,  0.9428, -0.4483, -3.6792,\n",
       "          0.0442, -0.2675,  2.1997,  0.2410, -0.0334,  0.6955, -0.6447, -0.0072,\n",
       "          0.8957,  0.2001,  0.4649,  0.6193, -0.1066,  0.0869, -0.4623,  0.1826,\n",
       "         -0.1585,  0.0208,  0.1937,  0.0634, -0.3167, -0.4818, -1.3848,  0.1367,\n",
       "          0.9686,  0.0500, -0.2738, -0.0357, -1.0577, -0.2447,  0.9037, -0.1244,\n",
       "          0.0808, -0.8340,  0.5720,  0.0889, -0.4253, -0.0183, -0.0800, -0.2858,\n",
       "         -0.0109, -0.4923,  0.6369,  0.2364]),\n",
       " tensor([ 0.1814,  0.4140,  0.0440, -0.3002, -0.6292, -0.0697,  1.1853,  1.0110,\n",
       "          1.6505,  0.4003, -0.1579,  0.1252, -0.3457, -0.7661,  0.7873, -0.5616,\n",
       "         -1.2165,  0.1907, -0.4310,  0.4510,  0.3069, -0.2359, -0.5136, -0.4837,\n",
       "          0.9140, -0.1575, -0.5225, -0.6070, -0.1475,  0.1075, -0.3664, -0.8050,\n",
       "          0.3245, -0.5531,  1.0561,  0.8981,  0.7161, -0.4547,  0.7802,  0.3102,\n",
       "          0.8913,  0.7226,  0.8726, -0.1257,  0.3076, -0.7929,  0.0537,  0.7553,\n",
       "         -1.0212, -0.0696, -0.4981,  0.0195,  0.1679, -0.8393,  0.1779, -0.1415,\n",
       "          1.2493,  0.3527, -0.0161, -0.4362, -0.5006, -0.6540, -0.5772, -1.2815,\n",
       "         -0.2695, -0.1814, -0.1952, -0.4991, -0.0430,  0.3506, -0.1952,  0.9393,\n",
       "          0.4041,  0.1110,  0.0448, -0.2850,  0.4103, -0.7081,  0.2769,  0.0927,\n",
       "          0.3541, -1.2020, -0.1083, -0.5475,  0.5251,  0.8511,  0.4863, -0.2208,\n",
       "          0.1919, -0.0395,  1.1947, -0.2781,  0.5556, -0.0802, -0.7495,  0.2543,\n",
       "         -0.8237,  0.0177, -0.3698, -0.1115]),\n",
       " tensor([ 0.1840, -0.0179, -0.1589,  0.1907, -0.6246, -0.2150,  0.3074,  0.4820,\n",
       "          1.1858, -0.2644,  0.1030,  0.5872,  0.0966,  0.5291,  0.1485, -0.1585,\n",
       "         -0.5443,  0.0162, -0.4010,  0.8301, -0.0116,  0.2132, -0.6582,  0.1303,\n",
       "          0.1835,  0.4851, -0.3761, -0.2736, -0.0130,  0.3018,  0.1175, -0.4093,\n",
       "          0.4967,  0.3418,  0.1725,  0.3107,  0.6994, -0.9732,  0.5098, -0.1521,\n",
       "          0.6680,  0.6093, -0.1126, -0.3758,  0.1493, -1.1502,  0.0048,  0.1229,\n",
       "         -0.9649,  0.0501, -0.1251,  0.0321, -0.3368, -0.7046,  0.3458,  0.3442,\n",
       "          0.8277,  1.1785, -0.2304, -0.0539, -0.8130,  0.1450, -1.0219, -0.8154,\n",
       "         -0.2188, -0.0590, -0.1178, -0.1696,  0.0505,  0.2112, -0.0324,  0.8247,\n",
       "          0.5021, -0.0176,  0.2102,  0.1457,  0.3767, -0.7773, -0.0425, -0.1027,\n",
       "         -0.3649, -0.6052,  0.4019,  0.8716,  0.2278, -0.1862,  0.1520, -0.3131,\n",
       "          0.1751,  0.1755,  0.2096, -0.1986,  0.3150,  0.3271,  0.2796,  0.0343,\n",
       "         -0.6197, -0.2557, -0.8190,  0.0678]),\n",
       " tensor([-0.0138,  0.3325,  0.5990, -0.5156, -0.5620,  0.1233, -0.1342,  0.2601,\n",
       "          0.6512,  0.0246,  0.3199,  0.4912,  0.3076,  0.5333,  0.6801, -0.2542,\n",
       "         -0.0681,  0.2639, -0.3596,  0.4758,  0.3639,  0.2368, -0.2431, -0.5268,\n",
       "          0.1531,  0.0321, -0.1105, -0.7164, -0.0264, -0.4187,  0.1822,  0.0841,\n",
       "         -0.1888,  0.2290,  0.3049,  0.4534,  0.2787,  0.0549, -0.0463,  0.1431,\n",
       "         -0.4834,  0.2765,  0.5385, -0.6688,  0.1357, -0.4566,  0.2060, -0.6706,\n",
       "         -0.6593, -1.0911,  0.2456, -0.1421,  0.0864,  0.8584, -0.0161, -2.7815,\n",
       "          0.4061, -0.0945,  1.7776,  0.8503, -0.3422,  0.3977, -0.8397,  0.1361,\n",
       "          1.1896, -0.1733,  0.7185,  0.0428, -0.2402,  0.0714, -0.4163, -0.3924,\n",
       "          0.2579, -0.6480,  0.6485,  0.4734,  0.0360, -0.3908, -1.3795, -0.0841,\n",
       "          0.8197, -0.7009, -0.2285,  0.2351, -1.5969, -0.1932,  0.4004, -0.0505,\n",
       "          0.0813, -0.3257,  0.1183, -0.5149, -0.0621,  0.0413, -0.4917, -0.0571,\n",
       "         -0.6048, -0.6743,  0.5149,  0.3429]),\n",
       " tensor([-0.9127, -0.1589,  0.1878, -0.2490, -0.0538, -0.1114,  1.1199,  0.7185,\n",
       "          1.2743,  0.1313,  0.0951,  0.8470, -0.3764,  1.0366,  0.3993, -0.8963,\n",
       "          0.0102, -0.0539,  0.1706,  0.5844,  0.9388, -0.1126, -0.0534,  0.6268,\n",
       "          0.5727,  0.2652,  0.4850, -0.7269,  0.5497, -0.2586, -0.0784, -0.4940,\n",
       "          0.1553,  1.3414, -0.1255,  0.7580,  0.7964,  0.5205,  0.1060,  0.5031,\n",
       "          0.4596, -0.2763, -0.5387, -0.3693,  0.8927, -0.4081,  0.0602, -0.2956,\n",
       "         -1.4141, -0.3602, -1.3998,  0.6241, -0.2837, -0.2930, -1.0636, -0.0527,\n",
       "         -0.0564,  0.4864, -0.0216,  0.1746, -1.1565,  0.0282, -0.9442, -1.2466,\n",
       "          0.1164, -0.4294, -0.2372, -0.2525, -0.0045,  0.7485,  0.3628,  0.0864,\n",
       "         -0.4469, -1.4859,  0.3502,  0.0253,  1.0301, -0.5509, -0.9780, -0.3458,\n",
       "          0.4079, -0.0375, -0.0393, -0.4602, -0.2016,  1.1160, -0.1328, -0.5956,\n",
       "          0.1186, -0.3171,  0.3808,  0.5018,  0.4358,  0.5514,  0.6857,  1.3437,\n",
       "         -0.6801, -0.6476,  0.8078,  0.4862])]"
      ]
     },
     "execution_count": 161,
     "metadata": {},
     "output_type": "execute_result"
    }
   ],
   "source": [
    "preprocessor_train.X[1]"
   ]
  },
  {
   "cell_type": "code",
   "execution_count": 162,
   "metadata": {},
   "outputs": [],
   "source": [
    "X,y = preprocessor_train.create_X_y_text(preprocessor_train.df_words)"
   ]
  },
  {
   "cell_type": "code",
   "execution_count": 163,
   "metadata": {},
   "outputs": [
    {
     "name": "stdout",
     "output_type": "stream",
     "text": [
      "torch.Size([1, 100])\n"
     ]
    }
   ],
   "source": [
    "print(X[0].shape)"
   ]
  },
  {
   "cell_type": "code",
   "execution_count": 164,
   "metadata": {},
   "outputs": [],
   "source": [
    "# Crear el modelo\n",
    "model_bidirectional_sentence_embeding = SentimentBidirectional_RNN(input_size=100,\n",
    "                                                  hidden_size=300,\n",
    "                                                  output_size=1,\n",
    "                                                  Preprocessor=preprocessor_train)"
   ]
  },
  {
   "cell_type": "code",
   "execution_count": 165,
   "metadata": {},
   "outputs": [
    {
     "name": "stdout",
     "output_type": "stream",
     "text": [
      "Epoch 1 - Loss: 4.962772552331444\n",
      "Epoch 2 - Loss: 4.268688027455937\n",
      "Epoch 3 - Loss: 4.189283765794244\n",
      "Epoch 4 - Loss: 4.129148545733187\n",
      "Epoch 5 - Loss: 4.061162742204033\n",
      "Epoch 6 - Loss: 3.948851764667779\n",
      "Epoch 7 - Loss: 3.7976060430519283\n",
      "Epoch 8 - Loss: 3.5814668610692024\n",
      "Epoch 9 - Loss: 3.346159879118204\n",
      "Epoch 10 - Loss: 3.1061256546527147\n",
      "Epoch 11 - Loss: 2.7640993278473616\n",
      "Epoch 12 - Loss: 2.5544859543442726\n",
      "Epoch 13 - Loss: 2.555253464728594\n",
      "Epoch 14 - Loss: 2.3873656932264566\n",
      "Epoch 15 - Loss: 2.1175117045640945\n",
      "Epoch 16 - Loss: 2.09609492495656\n",
      "Epoch 17 - Loss: 2.299026943743229\n",
      "Epoch 18 - Loss: 2.4242391735315323\n",
      "Epoch 19 - Loss: 2.190802939236164\n",
      "Epoch 20 - Loss: 2.2213279381394386\n",
      "Epoch 21 - Loss: 2.8879820816218853\n",
      "Epoch 22 - Loss: 2.7266617584973574\n",
      "Epoch 23 - Loss: 2.453529082238674\n",
      "Epoch 24 - Loss: 2.07149756886065\n",
      "Epoch 25 - Loss: 2.7604225063696504\n",
      "Epoch 26 - Loss: 2.2507133092731237\n",
      "Epoch 27 - Loss: 1.839688453823328\n",
      "Epoch 28 - Loss: 2.0570149160921574\n",
      "Epoch 29 - Loss: 1.90105739235878\n",
      "Epoch 30 - Loss: 1.833347212523222\n",
      "Epoch 31 - Loss: 1.5907046031206846\n",
      "Epoch 32 - Loss: 1.302601353265345\n",
      "Epoch 33 - Loss: 1.0796752031892538\n",
      "Epoch 34 - Loss: 0.8161960183642805\n",
      "Epoch 35 - Loss: 0.6272387646604329\n",
      "Epoch 36 - Loss: 0.6438704309985042\n",
      "Epoch 37 - Loss: 0.5975958909839392\n",
      "Epoch 38 - Loss: 0.5692532589891925\n",
      "Epoch 39 - Loss: 0.5806331464555115\n",
      "Epoch 40 - Loss: 0.5397632934618741\n",
      "Epoch 41 - Loss: 0.4960045451298356\n",
      "Epoch 42 - Loss: 0.5540221873670816\n",
      "Epoch 43 - Loss: 0.4366917125880718\n",
      "Epoch 44 - Loss: 0.36220139905344695\n",
      "Epoch 45 - Loss: 0.3139809479471296\n",
      "Epoch 46 - Loss: 0.2714551310054958\n",
      "Epoch 47 - Loss: 0.19860850076656789\n",
      "Epoch 48 - Loss: 0.15061874088132754\n",
      "Epoch 49 - Loss: 0.15029546502046287\n",
      "Epoch 50 - Loss: 0.09822011284995824\n",
      "Epoch 51 - Loss: 0.07567407767055556\n",
      "Epoch 52 - Loss: 0.05941931490087882\n",
      "Epoch 53 - Loss: 0.055295326572377235\n",
      "Epoch 54 - Loss: 0.055237601860426366\n",
      "Epoch 55 - Loss: 0.05814357753843069\n",
      "Epoch 56 - Loss: 0.06848082478973083\n",
      "Epoch 57 - Loss: 0.07751335832290351\n",
      "Epoch 58 - Loss: 0.09384374681394547\n",
      "Epoch 59 - Loss: 0.13627689168788493\n",
      "Epoch 60 - Loss: 0.21736985436291434\n",
      "Epoch 61 - Loss: 0.18783507298212498\n",
      "Epoch 62 - Loss: 0.13341591029893607\n",
      "Epoch 63 - Loss: 0.13967762683751062\n",
      "Epoch 64 - Loss: 0.14605694508645684\n",
      "Epoch 65 - Loss: 0.10914187761954963\n",
      "Epoch 66 - Loss: 0.09671866882126778\n",
      "Epoch 67 - Loss: 0.0927244639606215\n",
      "Epoch 68 - Loss: 0.06587520189350471\n",
      "Epoch 69 - Loss: 0.07060126075521111\n",
      "Epoch 70 - Loss: 0.07554556895047426\n",
      "Epoch 71 - Loss: 0.07617266272427514\n",
      "Epoch 72 - Loss: 0.14311935828300193\n",
      "Epoch 73 - Loss: 0.14747955423081294\n",
      "Epoch 74 - Loss: 0.09271309222094715\n",
      "Epoch 75 - Loss: 0.06968467653496191\n",
      "Epoch 76 - Loss: 0.05526153859682381\n",
      "Epoch 77 - Loss: 0.050742628052830696\n",
      "Epoch 78 - Loss: 0.03982039749098476\n",
      "Epoch 79 - Loss: 0.05037103165523149\n",
      "Epoch 80 - Loss: 0.06450610741740093\n",
      "Epoch 81 - Loss: 0.07541494649194647\n",
      "Epoch 82 - Loss: 0.07701562930014916\n",
      "Epoch 83 - Loss: 0.10382180544547737\n",
      "Epoch 84 - Loss: 0.10187456510902848\n",
      "Epoch 85 - Loss: 0.07879602260072716\n",
      "Epoch 86 - Loss: 0.09534131840337068\n",
      "Epoch 87 - Loss: 0.09178143844474107\n",
      "Epoch 88 - Loss: 0.09452669642632827\n",
      "Epoch 89 - Loss: 0.10076028323965147\n",
      "Epoch 90 - Loss: 0.11359905803692527\n",
      "Epoch 91 - Loss: 0.10202275516348891\n",
      "Epoch 92 - Loss: 0.08319601602852345\n",
      "Epoch 93 - Loss: 0.07778098502603825\n",
      "Epoch 94 - Loss: 0.06530487279815134\n",
      "Epoch 95 - Loss: 0.05456770665477961\n",
      "Epoch 96 - Loss: 0.05747619543399196\n",
      "Epoch 97 - Loss: 0.06125452040578239\n",
      "Epoch 98 - Loss: 0.07653933993424289\n",
      "Epoch 99 - Loss: 0.08675181347643957\n",
      "Epoch 100 - Loss: 0.0794341561559122\n"
     ]
    }
   ],
   "source": [
    "# Entrenamos el modelo\n",
    "model_bidirectional_sentence_embeding.train(X, y, epoch=100, batch_size=32)"
   ]
  },
  {
   "cell_type": "code",
   "execution_count": 166,
   "metadata": {},
   "outputs": [
    {
     "data": {
      "image/png": "[encoded data removed]",
      "text/plain": [
       "<Figure size 640x480 with 1 Axes>"
      ]
     },
     "metadata": {},
     "output_type": "display_data"
    }
   ],
   "source": [
    "# Ploteamos el error\n",
    "model_bidirectional_sentence_embeding.plot_loss()"
   ]
  },
  {
   "cell_type": "code",
   "execution_count": 167,
   "metadata": {},
   "outputs": [
    {
     "name": "stdout",
     "output_type": "stream",
     "text": [
      "Oración 1: Hoy siento que tengo mucha energía y entusiasmo\n",
      "Sentimiento esperado: 0.90\n",
      "Sentimiento predicho: 0.79\n",
      "\n",
      "Oración 2: La vida no siempre es fácil, pero hay que seguir adelante\n",
      "Sentimiento esperado: 0.40\n",
      "Sentimiento predicho: 0.46\n",
      "\n",
      "Oración 3: Estoy cansado de todo, nada parece tener sentido\n",
      "Sentimiento esperado: -0.70\n",
      "Sentimiento predicho: -0.03\n",
      "\n",
      "Oración 4: Hoy fue un día normal, sin muchas novedades\n",
      "Sentimiento esperado: 0.00\n",
      "Sentimiento predicho: 0.14\n",
      "\n",
      "Oración 5: Me encanta pasar tiempo con mis amigos, me hace feliz\n",
      "Sentimiento esperado: 0.80\n",
      "Sentimiento predicho: 0.37\n",
      "\n",
      "Oración 6: No soporto la forma en la que me tratan, me siento mal\n",
      "Sentimiento esperado: -0.80\n",
      "Sentimiento predicho: -0.19\n",
      "\n",
      "Oración 7: Hoy fue uno de esos días en los que todo salió bien\n",
      "Sentimiento esperado: 0.90\n",
      "Sentimiento predicho: -0.12\n",
      "\n",
      "Oración 8: A veces creo que no tengo claro hacia dónde voy\n",
      "Sentimiento esperado: -0.20\n",
      "Sentimiento predicho: 0.11\n",
      "\n",
      "Oración 9: Hoy tuve una conversación inspiradora, me siento motivado\n",
      "Sentimiento esperado: 0.70\n",
      "Sentimiento predicho: 0.24\n",
      "\n"
     ]
    },
    {
     "data": {
      "application/vnd.plotly.v1+json": {
       "config": {
        "plotlyServerURL": "https://plot.ly"
       },
       "data": [
        {
         "marker": {
          "color": "rgba(55, 128, 191, 0.7)"
         },
         "name": "Sentimiento esperado",
         "type": "bar",
         "x": [
          "Oración 1",
          "Oración 2",
          "Oración 3",
          "Oración 4",
          "Oración 5",
          "Oración 6",
          "Oración 7",
          "Oración 8",
          "Oración 9"
         ],
         "y": [
          0.9,
          0.4,
          -0.7,
          0,
          0.8,
          -0.8,
          0.9,
          -0.2,
          0.7
         ]
        },
        {
         "marker": {
          "color": "rgba(219, 64, 82, 0.7)"
         },
         "name": "Sentimiento predicho",
         "type": "bar",
         "x": [
          "Oración 1",
          "Oración 2",
          "Oración 3",
          "Oración 4",
          "Oración 5",
          "Oración 6",
          "Oración 7",
          "Oración 8",
          "Oración 9"
         ],
         "y": [
          0.7920633554458618,
          0.4551998972892761,
          -0.026487676426768303,
          0.13802661001682281,
          0.37463298439979553,
          -0.19148188829421997,
          -0.1151132583618164,
          0.11049661040306091,
          0.2361319661140442
         ]
        }
       ],
       "layout": {
        "barmode": "group",
        "template": {
         "data": {
          "bar": [
           {
            "error_x": {
             "color": "#2a3f5f"
            },
            "error_y": {
             "color": "#2a3f5f"
            },
            "marker": {
             "line": {
              "color": "white",
              "width": 0.5
             },
             "pattern": {
              "fillmode": "overlay",
              "size": 10,
              "solidity": 0.2
             }
            },
            "type": "bar"
           }
          ],
          "barpolar": [
           {
            "marker": {
             "line": {
              "color": "white",
              "width": 0.5
             },
             "pattern": {
              "fillmode": "overlay",
              "size": 10,
              "solidity": 0.2
             }
            },
            "type": "barpolar"
           }
          ],
          "carpet": [
           {
            "aaxis": {
             "endlinecolor": "#2a3f5f",
             "gridcolor": "#C8D4E3",
             "linecolor": "#C8D4E3",
             "minorgridcolor": "#C8D4E3",
             "startlinecolor": "#2a3f5f"
            },
            "baxis": {
             "endlinecolor": "#2a3f5f",
             "gridcolor": "#C8D4E3",
             "linecolor": "#C8D4E3",
             "minorgridcolor": "#C8D4E3",
             "startlinecolor": "#2a3f5f"
            },
            "type": "carpet"
           }
          ],
          "choropleth": [
           {
            "colorbar": {
             "outlinewidth": 0,
             "ticks": ""
            },
            "type": "choropleth"
           }
          ],
          "contour": [
           {
            "colorbar": {
             "outlinewidth": 0,
             "ticks": ""
            },
            "colorscale": [
             [
              0,
              "#0d0887"
             ],
             [
              0.1111111111111111,
              "#46039f"
             ],
             [
              0.2222222222222222,
              "#7201a8"
             ],
             [
              0.3333333333333333,
              "#9c179e"
             ],
             [
              0.4444444444444444,
              "#bd3786"
             ],
             [
              0.5555555555555556,
              "#d8576b"
             ],
             [
              0.6666666666666666,
              "#ed7953"
             ],
             [
              0.7777777777777778,
              "#fb9f3a"
             ],
             [
              0.8888888888888888,
              "#fdca26"
             ],
             [
              1,
              "#f0f921"
             ]
            ],
            "type": "contour"
           }
          ],
          "contourcarpet": [
           {
            "colorbar": {
             "outlinewidth": 0,
             "ticks": ""
            },
            "type": "contourcarpet"
           }
          ],
          "heatmap": [
           {
            "colorbar": {
             "outlinewidth": 0,
             "ticks": ""
            },
            "colorscale": [
             [
              0,
              "#0d0887"
             ],
             [
              0.1111111111111111,
              "#46039f"
             ],
             [
              0.2222222222222222,
              "#7201a8"
             ],
             [
              0.3333333333333333,
              "#9c179e"
             ],
             [
              0.4444444444444444,
              "#bd3786"
             ],
             [
              0.5555555555555556,
              "#d8576b"
             ],
             [
              0.6666666666666666,
              "#ed7953"
             ],
             [
              0.7777777777777778,
              "#fb9f3a"
             ],
             [
              0.8888888888888888,
              "#fdca26"
             ],
             [
              1,
              "#f0f921"
             ]
            ],
            "type": "heatmap"
           }
          ],
          "heatmapgl": [
           {
            "colorbar": {
             "outlinewidth": 0,
             "ticks": ""
            },
            "colorscale": [
             [
              0,
              "#0d0887"
             ],
             [
              0.1111111111111111,
              "#46039f"
             ],
             [
              0.2222222222222222,
              "#7201a8"
             ],
             [
              0.3333333333333333,
              "#9c179e"
             ],
             [
              0.4444444444444444,
              "#bd3786"
             ],
             [
              0.5555555555555556,
              "#d8576b"
             ],
             [
              0.6666666666666666,
              "#ed7953"
             ],
             [
              0.7777777777777778,
              "#fb9f3a"
             ],
             [
              0.8888888888888888,
              "#fdca26"
             ],
             [
              1,
              "#f0f921"
             ]
            ],
            "type": "heatmapgl"
           }
          ],
          "histogram": [
           {
            "marker": {
             "pattern": {
              "fillmode": "overlay",
              "size": 10,
              "solidity": 0.2
             }
            },
            "type": "histogram"
           }
          ],
          "histogram2d": [
           {
            "colorbar": {
             "outlinewidth": 0,
             "ticks": ""
            },
            "colorscale": [
             [
              0,
              "#0d0887"
             ],
             [
              0.1111111111111111,
              "#46039f"
             ],
             [
              0.2222222222222222,
              "#7201a8"
             ],
             [
              0.3333333333333333,
              "#9c179e"
             ],
             [
              0.4444444444444444,
              "#bd3786"
             ],
             [
              0.5555555555555556,
              "#d8576b"
             ],
             [
              0.6666666666666666,
              "#ed7953"
             ],
             [
              0.7777777777777778,
              "#fb9f3a"
             ],
             [
              0.8888888888888888,
              "#fdca26"
             ],
             [
              1,
              "#f0f921"
             ]
            ],
            "type": "histogram2d"
           }
          ],
          "histogram2dcontour": [
           {
            "colorbar": {
             "outlinewidth": 0,
             "ticks": ""
            },
            "colorscale": [
             [
              0,
              "#0d0887"
             ],
             [
              0.1111111111111111,
              "#46039f"
             ],
             [
              0.2222222222222222,
              "#7201a8"
             ],
             [
              0.3333333333333333,
              "#9c179e"
             ],
             [
              0.4444444444444444,
              "#bd3786"
             ],
             [
              0.5555555555555556,
              "#d8576b"
             ],
             [
              0.6666666666666666,
              "#ed7953"
             ],
             [
              0.7777777777777778,
              "#fb9f3a"
             ],
             [
              0.8888888888888888,
              "#fdca26"
             ],
             [
              1,
              "#f0f921"
             ]
            ],
            "type": "histogram2dcontour"
           }
          ],
          "mesh3d": [
           {
            "colorbar": {
             "outlinewidth": 0,
             "ticks": ""
            },
            "type": "mesh3d"
           }
          ],
          "parcoords": [
           {
            "line": {
             "colorbar": {
              "outlinewidth": 0,
              "ticks": ""
             }
            },
            "type": "parcoords"
           }
          ],
          "pie": [
           {
            "automargin": true,
            "type": "pie"
           }
          ],
          "scatter": [
           {
            "fillpattern": {
             "fillmode": "overlay",
             "size": 10,
             "solidity": 0.2
            },
            "type": "scatter"
           }
          ],
          "scatter3d": [
           {
            "line": {
             "colorbar": {
              "outlinewidth": 0,
              "ticks": ""
             }
            },
            "marker": {
             "colorbar": {
              "outlinewidth": 0,
              "ticks": ""
             }
            },
            "type": "scatter3d"
           }
          ],
          "scattercarpet": [
           {
            "marker": {
             "colorbar": {
              "outlinewidth": 0,
              "ticks": ""
             }
            },
            "type": "scattercarpet"
           }
          ],
          "scattergeo": [
           {
            "marker": {
             "colorbar": {
              "outlinewidth": 0,
              "ticks": ""
             }
            },
            "type": "scattergeo"
           }
          ],
          "scattergl": [
           {
            "marker": {
             "colorbar": {
              "outlinewidth": 0,
              "ticks": ""
             }
            },
            "type": "scattergl"
           }
          ],
          "scattermapbox": [
           {
            "marker": {
             "colorbar": {
              "outlinewidth": 0,
              "ticks": ""
             }
            },
            "type": "scattermapbox"
           }
          ],
          "scatterpolar": [
           {
            "marker": {
             "colorbar": {
              "outlinewidth": 0,
              "ticks": ""
             }
            },
            "type": "scatterpolar"
           }
          ],
          "scatterpolargl": [
           {
            "marker": {
             "colorbar": {
              "outlinewidth": 0,
              "ticks": ""
             }
            },
            "type": "scatterpolargl"
           }
          ],
          "scatterternary": [
           {
            "marker": {
             "colorbar": {
              "outlinewidth": 0,
              "ticks": ""
             }
            },
            "type": "scatterternary"
           }
          ],
          "surface": [
           {
            "colorbar": {
             "outlinewidth": 0,
             "ticks": ""
            },
            "colorscale": [
             [
              0,
              "#0d0887"
             ],
             [
              0.1111111111111111,
              "#46039f"
             ],
             [
              0.2222222222222222,
              "#7201a8"
             ],
             [
              0.3333333333333333,
              "#9c179e"
             ],
             [
              0.4444444444444444,
              "#bd3786"
             ],
             [
              0.5555555555555556,
              "#d8576b"
             ],
             [
              0.6666666666666666,
              "#ed7953"
             ],
             [
              0.7777777777777778,
              "#fb9f3a"
             ],
             [
              0.8888888888888888,
              "#fdca26"
             ],
             [
              1,
              "#f0f921"
             ]
            ],
            "type": "surface"
           }
          ],
          "table": [
           {
            "cells": {
             "fill": {
              "color": "#EBF0F8"
             },
             "line": {
              "color": "white"
             }
            },
            "header": {
             "fill": {
              "color": "#C8D4E3"
             },
             "line": {
              "color": "white"
             }
            },
            "type": "table"
           }
          ]
         },
         "layout": {
          "annotationdefaults": {
           "arrowcolor": "#2a3f5f",
           "arrowhead": 0,
           "arrowwidth": 1
          },
          "autotypenumbers": "strict",
          "coloraxis": {
           "colorbar": {
            "outlinewidth": 0,
            "ticks": ""
           }
          },
          "colorscale": {
           "diverging": [
            [
             0,
             "#8e0152"
            ],
            [
             0.1,
             "#c51b7d"
            ],
            [
             0.2,
             "#de77ae"
            ],
            [
             0.3,
             "#f1b6da"
            ],
            [
             0.4,
             "#fde0ef"
            ],
            [
             0.5,
             "#f7f7f7"
            ],
            [
             0.6,
             "#e6f5d0"
            ],
            [
             0.7,
             "#b8e186"
            ],
            [
             0.8,
             "#7fbc41"
            ],
            [
             0.9,
             "#4d9221"
            ],
            [
             1,
             "#276419"
            ]
           ],
           "sequential": [
            [
             0,
             "#0d0887"
            ],
            [
             0.1111111111111111,
             "#46039f"
            ],
            [
             0.2222222222222222,
             "#7201a8"
            ],
            [
             0.3333333333333333,
             "#9c179e"
            ],
            [
             0.4444444444444444,
             "#bd3786"
            ],
            [
             0.5555555555555556,
             "#d8576b"
            ],
            [
             0.6666666666666666,
             "#ed7953"
            ],
            [
             0.7777777777777778,
             "#fb9f3a"
            ],
            [
             0.8888888888888888,
             "#fdca26"
            ],
            [
             1,
             "#f0f921"
            ]
           ],
           "sequentialminus": [
            [
             0,
             "#0d0887"
            ],
            [
             0.1111111111111111,
             "#46039f"
            ],
            [
             0.2222222222222222,
             "#7201a8"
            ],
            [
             0.3333333333333333,
             "#9c179e"
            ],
            [
             0.4444444444444444,
             "#bd3786"
            ],
            [
             0.5555555555555556,
             "#d8576b"
            ],
            [
             0.6666666666666666,
             "#ed7953"
            ],
            [
             0.7777777777777778,
             "#fb9f3a"
            ],
            [
             0.8888888888888888,
             "#fdca26"
            ],
            [
             1,
             "#f0f921"
            ]
           ]
          },
          "colorway": [
           "#636efa",
           "#EF553B",
           "#00cc96",
           "#ab63fa",
           "#FFA15A",
           "#19d3f3",
           "#FF6692",
           "#B6E880",
           "#FF97FF",
           "#FECB52"
          ],
          "font": {
           "color": "#2a3f5f"
          },
          "geo": {
           "bgcolor": "white",
           "lakecolor": "white",
           "landcolor": "white",
           "showlakes": true,
           "showland": true,
           "subunitcolor": "#C8D4E3"
          },
          "hoverlabel": {
           "align": "left"
          },
          "hovermode": "closest",
          "mapbox": {
           "style": "light"
          },
          "paper_bgcolor": "white",
          "plot_bgcolor": "white",
          "polar": {
           "angularaxis": {
            "gridcolor": "#EBF0F8",
            "linecolor": "#EBF0F8",
            "ticks": ""
           },
           "bgcolor": "white",
           "radialaxis": {
            "gridcolor": "#EBF0F8",
            "linecolor": "#EBF0F8",
            "ticks": ""
           }
          },
          "scene": {
           "xaxis": {
            "backgroundcolor": "white",
            "gridcolor": "#DFE8F3",
            "gridwidth": 2,
            "linecolor": "#EBF0F8",
            "showbackground": true,
            "ticks": "",
            "zerolinecolor": "#EBF0F8"
           },
           "yaxis": {
            "backgroundcolor": "white",
            "gridcolor": "#DFE8F3",
            "gridwidth": 2,
            "linecolor": "#EBF0F8",
            "showbackground": true,
            "ticks": "",
            "zerolinecolor": "#EBF0F8"
           },
           "zaxis": {
            "backgroundcolor": "white",
            "gridcolor": "#DFE8F3",
            "gridwidth": 2,
            "linecolor": "#EBF0F8",
            "showbackground": true,
            "ticks": "",
            "zerolinecolor": "#EBF0F8"
           }
          },
          "shapedefaults": {
           "line": {
            "color": "#2a3f5f"
           }
          },
          "ternary": {
           "aaxis": {
            "gridcolor": "#DFE8F3",
            "linecolor": "#A2B1C6",
            "ticks": ""
           },
           "baxis": {
            "gridcolor": "#DFE8F3",
            "linecolor": "#A2B1C6",
            "ticks": ""
           },
           "bgcolor": "white",
           "caxis": {
            "gridcolor": "#DFE8F3",
            "linecolor": "#A2B1C6",
            "ticks": ""
           }
          },
          "title": {
           "x": 0.05
          },
          "xaxis": {
           "automargin": true,
           "gridcolor": "#EBF0F8",
           "linecolor": "#EBF0F8",
           "ticks": "",
           "title": {
            "standoff": 15
           },
           "zerolinecolor": "#EBF0F8",
           "zerolinewidth": 2
          },
          "yaxis": {
           "automargin": true,
           "gridcolor": "#EBF0F8",
           "linecolor": "#EBF0F8",
           "ticks": "",
           "title": {
            "standoff": 15
           },
           "zerolinecolor": "#EBF0F8",
           "zerolinewidth": 2
          }
         }
        },
        "title": {
         "text": "Comparación de Sentimiento Esperado vs. Sentimiento Predicho"
        },
        "xaxis": {
         "tickangle": -45,
         "title": {
          "text": "Oraciones"
         }
        },
        "yaxis": {
         "title": {
          "text": "Sentimiento"
         }
        }
       }
      }
     },
     "metadata": {},
     "output_type": "display_data"
    }
   ],
   "source": [
    "import plotly.graph_objects as go\n",
    "\n",
    "def evaluate_model_bidirectional_plotly(model, sentences, target_sentiment):\n",
    "    # Obtener los sentimientos predichos\n",
    "    predicted_sentiment = [model.predict_sentence_embeding(sentence) for sentence in sentences]\n",
    "\n",
    "    # Imprimir la oracion, el sentimiento esperado y el sentimiento predicho\n",
    "    for i, (sentence, target, predicted) in enumerate(zip(sentences, target_sentiment, predicted_sentiment)):\n",
    "        print(f\"Oración {i+1}: {sentence}\")\n",
    "        print(f\"Sentimiento esperado: {target:.2f}\")\n",
    "        print(f\"Sentimiento predicho: {predicted:.2f}\")\n",
    "        print()\n",
    "    \n",
    "    # Crear etiquetas para el eje x\n",
    "    x_labels = [f\"Oración {i+1}\" for i in range(len(sentences))]\n",
    "    \n",
    "    # Crear el gráfico de barras agrupadas\n",
    "    fig = go.Figure()\n",
    "\n",
    "    # Sentimiento esperado\n",
    "    fig.add_trace(go.Bar(\n",
    "        x=x_labels,\n",
    "        y=target_sentiment,\n",
    "        name='Sentimiento esperado',\n",
    "        marker=dict(color='rgba(55, 128, 191, 0.7)'),\n",
    "    ))\n",
    "\n",
    "    # Sentimiento predicho\n",
    "    fig.add_trace(go.Bar(\n",
    "        x=x_labels,\n",
    "        y=predicted_sentiment,\n",
    "        name='Sentimiento predicho',\n",
    "        marker=dict(color='rgba(219, 64, 82, 0.7)'),\n",
    "    ))\n",
    "\n",
    "    # Personalizar el diseño del gráfico\n",
    "    fig.update_layout(\n",
    "        title=\"Comparación de Sentimiento Esperado vs. Sentimiento Predicho\",\n",
    "        xaxis_title=\"Oraciones\",\n",
    "        yaxis_title=\"Sentimiento\",\n",
    "        barmode='group',\n",
    "        xaxis_tickangle=-45,\n",
    "        template=\"plotly_white\",\n",
    "    )\n",
    "\n",
    "    # Mostrar el gráfico\n",
    "    fig.show()\n",
    "\n",
    "# Evaluar el modelo\n",
    "evaluate_model_bidirectional_plotly(model_bidirectional_sentence_embeding, sentences, target_sentiment)"
   ]
  }
 ],
 "metadata": {
  "kernelspec": {
   "display_name": "Python 3",
   "language": "python",
   "name": "python3"
  },
  "language_info": {
   "codemirror_mode": {
    "name": "ipython",
    "version": 3
   },
   "file_extension": ".py",
   "mimetype": "text/x-python",
   "name": "python",
   "nbconvert_exporter": "python",
   "pygments_lexer": "ipython3",
   "version": "3.10.0"
  }
 },
 "nbformat": 4,
 "nbformat_minor": 2
}
