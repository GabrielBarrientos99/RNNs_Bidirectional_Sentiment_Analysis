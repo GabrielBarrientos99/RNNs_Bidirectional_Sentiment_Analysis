{
 "cells": [
  {
   "cell_type": "markdown",
   "metadata": {},
   "source": [
    "### Usando nn.Embedings en lugar de glove o word2vec preentrenados"
   ]
  },
  {
   "cell_type": "code",
   "execution_count": 112,
   "metadata": {},
   "outputs": [],
   "source": [
    "import torch\n",
    "import torch.nn as nn\n",
    "import matplotlib.pyplot as plt\n",
    "import re\n",
    "import pandas as pd\n",
    "import numpy as np\n",
    "import plotly.graph_objects as go\n",
    "\n",
    "# Clase del modelo simplificada para procesar embeddings promedio\n",
    "class SentimentANN(nn.Module):\n",
    "    def __init__(self, input_size, hidden_size, output_size=1):\n",
    "        super(SentimentANN, self).__init__()\n",
    "        \n",
    "        # Red neuronal para procesar el embedding promedio\n",
    "        self.fc1 = nn.Linear(input_size, hidden_size)\n",
    "        self.relu1 = nn.ReLU()\n",
    "        self.fc2 = nn.Linear(hidden_size, hidden_size)\n",
    "        self.relu2 = nn.ReLU()\n",
    "        self.f_sent = nn.Linear(hidden_size, output_size)\n",
    "    \n",
    "    def forward(self, embedding_avg):\n",
    "        x = self.fc1(embedding_avg)\n",
    "        x = self.relu1(x)\n",
    "        x = self.fc2(x)\n",
    "        x = self.relu2(x)\n",
    "        output = self.f_sent(x)\n",
    "        output = torch.tanh(output)\n",
    "        return output.squeeze()\n",
    "\n",
    "class SentimentModel:\n",
    "    def __init__(self, vocab_size, embedding_dim, hidden_size, preprocessor, dropout=0.5, lr=0.001):\n",
    "        self.Preprocessor = preprocessor\n",
    "        self.embedding = nn.Embedding(vocab_size, embedding_dim)\n",
    "        self.model = SentimentANN(input_size=embedding_dim, hidden_size=hidden_size, output_size=1)\n",
    "        self.loss = nn.MSELoss()\n",
    "        self.dropout = nn.Dropout(dropout)\n",
    "        self.optimizer = torch.optim.Adam(self.model.parameters(), lr=lr)\n",
    "\n",
    "    def train(self, X_train, y_train, epoch=10, batch_size=32):\n",
    "        loss_list = []\n",
    "        for e in range(epoch):\n",
    "            total_loss = 0\n",
    "            for i in range(0, len(X_train), batch_size):\n",
    "                X_batch = X_train[i:i+batch_size]\n",
    "                y_batch = y_train[i:i+batch_size]\n",
    "                \n",
    "                # Promediar los embeddings en batch\n",
    "                self.optimizer.zero_grad()\n",
    "                outputs = self.model(X_batch)\n",
    "                \n",
    "                loss = self.loss(outputs, y_batch)\n",
    "                loss.backward()\n",
    "                self.optimizer.step()\n",
    "                total_loss += loss.item()\n",
    "                \n",
    "            loss_list.append(total_loss)\n",
    "            print(f'Epoch {e+1} - Loss: {total_loss}')\n",
    "        self.loss_list = loss_list\n",
    "\n",
    "    def plot_loss(self):\n",
    "        plt.plot(self.loss_list)\n",
    "        plt.xlabel('Epoch')\n",
    "        plt.ylabel('Loss')\n",
    "        plt.show()\n",
    "\n",
    "    def evaluate(self, X_test, y_test):\n",
    "        with torch.no_grad():\n",
    "            outputs = self.model(X_test)\n",
    "            total_loss = self.loss(outputs, y_test).item()\n",
    "            mse = total_loss / len(y_test)\n",
    "            print(f'MSE: {mse}')\n",
    "        return mse\n",
    "\n",
    "    def predict(self, texto):\n",
    "        embedding_avg = self.Preprocessor.get_embedding_parrafo(texto)\n",
    "        with torch.no_grad():\n",
    "            output = self.model(embedding_avg)\n",
    "        return output.item()\n",
    "\n",
    "class Preprocessor:\n",
    "    def __init__(self, path, embedding_dim):\n",
    "        self.path = path\n",
    "        self.embedding_dim = embedding_dim\n",
    "        self.vocab, self.data = self._load_and_process_data()\n",
    "        self.vocab_size = len(self.vocab)\n",
    "        self.embedding_layer = nn.Embedding(self.vocab_size, embedding_dim)\n",
    "        \n",
    "    def _load_and_process_data(self):\n",
    "        \"\"\"Load text data and create vocabulary.\"\"\"\n",
    "        with open(self.path, 'r', encoding='utf-8') as file:\n",
    "            text = file.read()\n",
    "        \n",
    "        # Tokenize and create a list of unique words (vocabulary)\n",
    "        tokens = re.findall(r'\\w+', text.lower())\n",
    "        vocab = {word: idx for idx, word in enumerate(set(tokens))}\n",
    "        \n",
    "        # Process the data to create sequences of token indices for model training\n",
    "        data = [{'text': re.findall(r'\\w+', para.lower()), 'sentiment': float(sent)} \n",
    "                for para, sent in zip(\n",
    "                    re.findall(r'Parrafo_\\d+:\\n(.*?)\\nsentimiento_\\d+:\\n', text, re.DOTALL),\n",
    "                    re.findall(r'sentimiento_\\d+:\\n(.*?)(?:\\n|$)', text, re.DOTALL)\n",
    "                )]\n",
    "        \n",
    "        return vocab, data\n",
    "\n",
    "    def get_embedding_texto(self, texto):\n",
    "        tokens = [self.vocab.get(word, 0) for word in re.findall(r'\\w+', texto.lower())]\n",
    "        embeddings = self.embedding_layer(torch.tensor(tokens))\n",
    "        return embeddings\n",
    "\n",
    "    def get_embedding_parrafo(self, parrafo):\n",
    "        embeddings = self.get_embedding_texto(parrafo)\n",
    "        if embeddings.size(0) > 0:\n",
    "            return embeddings.mean(dim=0).view(1, -1)\n",
    "        else:\n",
    "            return torch.zeros((1, self.embedding_dim))\n",
    "\n",
    "\n",
    "\n",
    "\n"
   ]
  },
  {
   "cell_type": "code",
   "execution_count": 113,
   "metadata": {},
   "outputs": [],
   "source": [
    "# Inicializar el preprocesador para cargar los datos y crear el vocabulario\n",
    "preprocessor = Preprocessor(path=\"./train_data.txt\", embedding_dim=100)"
   ]
  },
  {
   "cell_type": "code",
   "execution_count": 119,
   "metadata": {},
   "outputs": [],
   "source": [
    "# Crear el dataset con embeddings promedio\n",
    "def create_dataset(preprocessor):\n",
    "    X = []\n",
    "    y = []\n",
    "    for item in preprocessor.data:\n",
    "        parrafo = item['text']\n",
    "        sentimiento = item['sentiment']\n",
    "        \n",
    "        # Obtener el embedding promedio para el párrafo\n",
    "        embedding_avg = preprocessor.get_embedding_parrafo(\" \".join(parrafo))\n",
    "        if embedding_avg.size(0) > 0:\n",
    "            X.append(embedding_avg)  # Embedding promedio del párrafo\n",
    "            y.append(sentimiento)  # Sentimiento correspondiente\n",
    "        \n",
    "    return torch.stack(X), torch.tensor(y, dtype=torch.float32)\n"
   ]
  },
  {
   "cell_type": "code",
   "execution_count": 120,
   "metadata": {},
   "outputs": [],
   "source": [
    "# Crear el dataset\n",
    "X_train, y_train = create_dataset(preprocessor)\n",
    "\n"
   ]
  },
  {
   "cell_type": "code",
   "execution_count": 121,
   "metadata": {},
   "outputs": [
    {
     "data": {
      "text/plain": [
       "torch.Size([1, 100])"
      ]
     },
     "execution_count": 121,
     "metadata": {},
     "output_type": "execute_result"
    }
   ],
   "source": [
    "X_train[0].shape"
   ]
  },
  {
   "cell_type": "code",
   "execution_count": 122,
   "metadata": {},
   "outputs": [],
   "source": [
    "# Definir los parámetros del modelo\n",
    "vocab_size = preprocessor.vocab_size\n",
    "embedding_dim = 100\n",
    "hidden_size = 64  # Puedes ajustar este tamaño\n",
    "output_size = 1   # Salida de un solo valor para el sentimiento\n",
    "\n",
    "# Crear el modelo de sentimiento bidireccional\n",
    "model = SentimentBidirectional_RNN(\n",
    "    vocab_size=vocab_size,\n",
    "    embedding_dim=embedding_dim,\n",
    "    hidden_size=hidden_size,\n",
    "    output_size=output_size,\n",
    "    Preprocessor=preprocessor,\n",
    "    dropout=0.5,\n",
    "    lr=0.001\n",
    ")"
   ]
  },
  {
   "cell_type": "code",
   "execution_count": 123,
   "metadata": {},
   "outputs": [
    {
     "name": "stdout",
     "output_type": "stream",
     "text": [
      "Epoch 1 - Loss: 4.193001211329829\n",
      "Epoch 2 - Loss: 3.8597140121273696\n",
      "Epoch 3 - Loss: 3.590032996609807\n",
      "Epoch 4 - Loss: 3.284985238686204\n",
      "Epoch 5 - Loss: 3.0171355130150914\n",
      "Epoch 6 - Loss: 2.7518680803477764\n",
      "Epoch 7 - Loss: 2.467034636065364\n",
      "Epoch 8 - Loss: 2.1478677168488503\n",
      "Epoch 9 - Loss: 1.8077735751867294\n",
      "Epoch 10 - Loss: 1.4782107528299093\n",
      "Epoch 11 - Loss: 1.1623254688456655\n",
      "Epoch 12 - Loss: 0.8973540458828211\n",
      "Epoch 13 - Loss: 0.6642204988747835\n",
      "Epoch 14 - Loss: 0.4932378185912967\n",
      "Epoch 15 - Loss: 0.37704243464395404\n",
      "Epoch 16 - Loss: 0.29618777986615896\n",
      "Epoch 17 - Loss: 0.249496687669307\n",
      "Epoch 18 - Loss: 0.34816262125968933\n",
      "Epoch 19 - Loss: 0.581011975184083\n",
      "Epoch 20 - Loss: 1.1390722412616014\n",
      "Epoch 21 - Loss: 1.1787369577214122\n",
      "Epoch 22 - Loss: 0.7438931949436665\n",
      "Epoch 23 - Loss: 0.4441917883232236\n",
      "Epoch 24 - Loss: 0.2815160402096808\n",
      "Epoch 25 - Loss: 0.20566638140007854\n",
      "Epoch 26 - Loss: 0.22992257378064096\n",
      "Epoch 27 - Loss: 0.2146006803959608\n",
      "Epoch 28 - Loss: 0.16620735498145223\n",
      "Epoch 29 - Loss: 0.21453269920311868\n",
      "Epoch 30 - Loss: 0.209925199393183\n",
      "Epoch 31 - Loss: 0.16007347917184234\n",
      "Epoch 32 - Loss: 0.21720765996724367\n",
      "Epoch 33 - Loss: 0.20339041971601546\n",
      "Epoch 34 - Loss: 0.15078958356752992\n",
      "Epoch 35 - Loss: 0.180742705357261\n",
      "Epoch 36 - Loss: 0.16740529402159154\n",
      "Epoch 37 - Loss: 0.12969533225987107\n",
      "Epoch 38 - Loss: 0.13838715653400868\n",
      "Epoch 39 - Loss: 0.126357305329293\n",
      "Epoch 40 - Loss: 0.10614408971741796\n",
      "Epoch 41 - Loss: 0.1010334175080061\n",
      "Epoch 42 - Loss: 0.0935944119701162\n",
      "Epoch 43 - Loss: 0.08914964471478015\n",
      "Epoch 44 - Loss: 0.07862801081500947\n",
      "Epoch 45 - Loss: 0.07378867676015943\n",
      "Epoch 46 - Loss: 0.0752564380527474\n",
      "Epoch 47 - Loss: 0.06484650855418295\n",
      "Epoch 48 - Loss: 0.06339171482250094\n",
      "Epoch 49 - Loss: 0.07170036935713142\n",
      "Epoch 50 - Loss: 0.06293827504850924\n",
      "Epoch 51 - Loss: 0.061966790119186044\n",
      "Epoch 52 - Loss: 0.0765414799680002\n",
      "Epoch 53 - Loss: 0.07089378125965595\n",
      "Epoch 54 - Loss: 0.07023067423142493\n",
      "Epoch 55 - Loss: 0.08856112149078399\n",
      "Epoch 56 - Loss: 0.08131239202339202\n",
      "Epoch 57 - Loss: 0.07910525088664144\n",
      "Epoch 58 - Loss: 0.09971869376022369\n",
      "Epoch 59 - Loss: 0.09313294640742242\n",
      "Epoch 60 - Loss: 0.08632407599361613\n",
      "Epoch 61 - Loss: 0.10106415650807321\n",
      "Epoch 62 - Loss: 0.08446955389808863\n",
      "Epoch 63 - Loss: 0.07192825543461367\n",
      "Epoch 64 - Loss: 0.07763418916147202\n",
      "Epoch 65 - Loss: 0.06262250564759597\n",
      "Epoch 66 - Loss: 0.05395436065737158\n",
      "Epoch 67 - Loss: 0.05510747304651886\n",
      "Epoch 68 - Loss: 0.04506452032364905\n",
      "Epoch 69 - Loss: 0.03763240302214399\n",
      "Epoch 70 - Loss: 0.036344043677672744\n",
      "Epoch 71 - Loss: 0.033578384056454524\n",
      "Epoch 72 - Loss: 0.031255196110578254\n",
      "Epoch 73 - Loss: 0.029621634108480066\n",
      "Epoch 74 - Loss: 0.030736703280126676\n",
      "Epoch 75 - Loss: 0.0307642305851914\n",
      "Epoch 76 - Loss: 0.02834641153458506\n",
      "Epoch 77 - Loss: 0.030980663374066353\n",
      "Epoch 78 - Loss: 0.033515245508169755\n",
      "Epoch 79 - Loss: 0.03187779022846371\n",
      "Epoch 80 - Loss: 0.036061489838175476\n",
      "Epoch 81 - Loss: 0.041250485577620566\n",
      "Epoch 82 - Loss: 0.039049345534294844\n",
      "Epoch 83 - Loss: 0.04402415355434641\n",
      "Epoch 84 - Loss: 0.052447004563873634\n",
      "Epoch 85 - Loss: 0.054715401434805244\n",
      "Epoch 86 - Loss: 0.06190952245378867\n",
      "Epoch 87 - Loss: 0.07123549334937707\n",
      "Epoch 88 - Loss: 0.06903604016406462\n",
      "Epoch 89 - Loss: 0.0741672629956156\n",
      "Epoch 90 - Loss: 0.08149943736498244\n",
      "Epoch 91 - Loss: 0.07757035945542157\n",
      "Epoch 92 - Loss: 0.08537450700532645\n",
      "Epoch 93 - Loss: 0.08349192884634249\n",
      "Epoch 94 - Loss: 0.06186496210284531\n",
      "Epoch 95 - Loss: 0.05746705280034803\n",
      "Epoch 96 - Loss: 0.060848125256597996\n",
      "Epoch 97 - Loss: 0.05294924427289516\n",
      "Epoch 98 - Loss: 0.05183731694705784\n",
      "Epoch 99 - Loss: 0.05528206849703565\n",
      "Epoch 100 - Loss: 0.0467346194491256\n"
     ]
    }
   ],
   "source": [
    "# Entrenar el modelo\n",
    "model.train(X_train, y_train, epoch=100, batch_size=32)"
   ]
  },
  {
   "cell_type": "code",
   "execution_count": 124,
   "metadata": {},
   "outputs": [
    {
     "data": {
      "image/png": "[encoded data removed]",
      "text/plain": [
       "<Figure size 640x480 with 1 Axes>"
      ]
     },
     "metadata": {},
     "output_type": "display_data"
    }
   ],
   "source": [
    "# Graficar la pérdida durante el entrenamiento\n",
    "model.plot_loss()"
   ]
  },
  {
   "cell_type": "code",
   "execution_count": 137,
   "metadata": {},
   "outputs": [
    {
     "name": "stdout",
     "output_type": "stream",
     "text": [
      "Sentimiento: -0.5955748558044434\n"
     ]
    }
   ],
   "source": [
    "# Predecir el sentimiento de un texto\n",
    "texto = '''\n",
    "Últimamente siento que nada tiene sentido. Cada vez que trato de avanzar, parece que algo se interpone y todo el esfuerzo se vuelve inútil.\n",
    "A veces me pregunto para qué me esfuerzo tanto si al final siempre termino decepcionado.\n",
    "Las cosas no mejoran, y cuando creo que hay una pequeña esperanza, algo sucede y todo vuelve a la oscuridad.\n",
    "No importa cuánto lo intente, simplemente no veo un final positivo a todo esto. Siento que estoy atrapado en un ciclo sin salida.\n",
    "'''\n",
    "sentimiento = model.predict(texto)\n",
    "print(f'Sentimiento: {sentimiento}')\n"
   ]
  },
  {
   "cell_type": "code",
   "execution_count": 126,
   "metadata": {},
   "outputs": [],
   "source": [
    "# Definimos las oraciones a evaluar\n",
    "sentences = [\n",
    "    'Hoy siento que tengo mucha energía y entusiasmo',\n",
    "    'La vida no siempre es fácil, pero hay que seguir adelante',\n",
    "    'Estoy cansado de todo, nada parece tener sentido',\n",
    "    'Hoy fue un día normal, sin muchas novedades',\n",
    "    'Me encanta pasar tiempo con mis amigos, me hace feliz',\n",
    "    'No soporto la forma en la que me tratan, me siento mal',\n",
    "    'Hoy fue uno de esos días en los que todo salió bien',\n",
    "    'A veces creo que no tengo claro hacia dónde voy',\n",
    "    'Hoy tuve una conversación inspiradora, me siento motivado'\n",
    "]\n",
    "\n",
    "# Definimos el valor de sentimiento esperado para cada oración\n",
    "target_sentiment = [0.9, 0.4, -0.7, 0.0, 0.8, -0.8, 0.9, -0.2, 0.7]"
   ]
  },
  {
   "cell_type": "code",
   "execution_count": 127,
   "metadata": {},
   "outputs": [],
   "source": [
    "import plotly.graph_objects as go\n",
    "\n",
    "def evaluate_model_bidirectional_plotly(model, sentences, target_sentiment):\n",
    "    # Obtener los sentimientos predichos\n",
    "    predicted_sentiment = [model.predict(sentence) for sentence in sentences]\n",
    "\n",
    "    # Imprimir la oracion, el sentimiento esperado y el sentimiento predicho\n",
    "    for i, (sentence, target, predicted) in enumerate(zip(sentences, target_sentiment, predicted_sentiment)):\n",
    "        print(f\"Oración {i+1}: {sentence}\")\n",
    "        print(f\"Sentimiento esperado: {target:.2f}\")\n",
    "        print(f\"Sentimiento predicho: {predicted:.2f}\")\n",
    "        print()\n",
    "    \n",
    "    # Crear etiquetas para el eje x\n",
    "    x_labels = [f\"Oración {i+1}\" for i in range(len(sentences))]\n",
    "    \n",
    "    # Crear el gráfico de barras agrupadas\n",
    "    fig = go.Figure()\n",
    "\n",
    "    # Sentimiento esperado\n",
    "    fig.add_trace(go.Bar(\n",
    "        x=x_labels,\n",
    "        y=target_sentiment,\n",
    "        name='Sentimiento esperado',\n",
    "        marker=dict(color='rgba(55, 128, 191, 0.7)'),\n",
    "    ))\n",
    "\n",
    "    # Sentimiento predicho\n",
    "    fig.add_trace(go.Bar(\n",
    "        x=x_labels,\n",
    "        y=predicted_sentiment,\n",
    "        name='Sentimiento predicho',\n",
    "        marker=dict(color='rgba(219, 64, 82, 0.7)'),\n",
    "    ))\n",
    "\n",
    "    # Personalizar el diseño del gráfico\n",
    "    fig.update_layout(\n",
    "        title=\"Comparación de Sentimiento Esperado vs. Sentimiento Predicho\",\n",
    "        xaxis_title=\"Oraciones\",\n",
    "        yaxis_title=\"Sentimiento\",\n",
    "        barmode='group',\n",
    "        xaxis_tickangle=-45,\n",
    "        template=\"plotly_white\",\n",
    "    )\n",
    "\n",
    "    # Mostrar el gráfico\n",
    "    fig.show()\n"
   ]
  },
  {
   "cell_type": "code",
   "execution_count": 128,
   "metadata": {},
   "outputs": [
    {
     "name": "stdout",
     "output_type": "stream",
     "text": [
      "Oración 1: Hoy siento que tengo mucha energía y entusiasmo\n",
      "Sentimiento esperado: 0.90\n",
      "Sentimiento predicho: 0.68\n",
      "\n",
      "Oración 2: La vida no siempre es fácil, pero hay que seguir adelante\n",
      "Sentimiento esperado: 0.40\n",
      "Sentimiento predicho: 0.42\n",
      "\n",
      "Oración 3: Estoy cansado de todo, nada parece tener sentido\n",
      "Sentimiento esperado: -0.70\n",
      "Sentimiento predicho: -0.37\n",
      "\n",
      "Oración 4: Hoy fue un día normal, sin muchas novedades\n",
      "Sentimiento esperado: 0.00\n",
      "Sentimiento predicho: 0.04\n",
      "\n",
      "Oración 5: Me encanta pasar tiempo con mis amigos, me hace feliz\n",
      "Sentimiento esperado: 0.80\n",
      "Sentimiento predicho: 0.69\n",
      "\n",
      "Oración 6: No soporto la forma en la que me tratan, me siento mal\n",
      "Sentimiento esperado: -0.80\n",
      "Sentimiento predicho: -0.34\n",
      "\n",
      "Oración 7: Hoy fue uno de esos días en los que todo salió bien\n",
      "Sentimiento esperado: 0.90\n",
      "Sentimiento predicho: 0.08\n",
      "\n",
      "Oración 8: A veces creo que no tengo claro hacia dónde voy\n",
      "Sentimiento esperado: -0.20\n",
      "Sentimiento predicho: -0.50\n",
      "\n",
      "Oración 9: Hoy tuve una conversación inspiradora, me siento motivado\n",
      "Sentimiento esperado: 0.70\n",
      "Sentimiento predicho: 0.22\n",
      "\n"
     ]
    },
    {
     "data": {
      "application/vnd.plotly.v1+json": {
       "config": {
        "plotlyServerURL": "https://plot.ly"
       },
       "data": [
        {
         "marker": {
          "color": "rgba(55, 128, 191, 0.7)"
         },
         "name": "Sentimiento esperado",
         "type": "bar",
         "x": [
          "Oración 1",
          "Oración 2",
          "Oración 3",
          "Oración 4",
          "Oración 5",
          "Oración 6",
          "Oración 7",
          "Oración 8",
          "Oración 9"
         ],
         "y": [
          0.9,
          0.4,
          -0.7,
          0,
          0.8,
          -0.8,
          0.9,
          -0.2,
          0.7
         ]
        },
        {
         "marker": {
          "color": "rgba(219, 64, 82, 0.7)"
         },
         "name": "Sentimiento predicho",
         "type": "bar",
         "x": [
          "Oración 1",
          "Oración 2",
          "Oración 3",
          "Oración 4",
          "Oración 5",
          "Oración 6",
          "Oración 7",
          "Oración 8",
          "Oración 9"
         ],
         "y": [
          0.6759925484657288,
          0.42035117745399475,
          -0.3655398488044739,
          0.03924795985221863,
          0.6915627121925354,
          -0.3377358019351959,
          0.07956379652023315,
          -0.49668237566947937,
          0.22439002990722656
         ]
        }
       ],
       "layout": {
        "barmode": "group",
        "template": {
         "data": {
          "bar": [
           {
            "error_x": {
             "color": "#2a3f5f"
            },
            "error_y": {
             "color": "#2a3f5f"
            },
            "marker": {
             "line": {
              "color": "white",
              "width": 0.5
             },
             "pattern": {
              "fillmode": "overlay",
              "size": 10,
              "solidity": 0.2
             }
            },
            "type": "bar"
           }
          ],
          "barpolar": [
           {
            "marker": {
             "line": {
              "color": "white",
              "width": 0.5
             },
             "pattern": {
              "fillmode": "overlay",
              "size": 10,
              "solidity": 0.2
             }
            },
            "type": "barpolar"
           }
          ],
          "carpet": [
           {
            "aaxis": {
             "endlinecolor": "#2a3f5f",
             "gridcolor": "#C8D4E3",
             "linecolor": "#C8D4E3",
             "minorgridcolor": "#C8D4E3",
             "startlinecolor": "#2a3f5f"
            },
            "baxis": {
             "endlinecolor": "#2a3f5f",
             "gridcolor": "#C8D4E3",
             "linecolor": "#C8D4E3",
             "minorgridcolor": "#C8D4E3",
             "startlinecolor": "#2a3f5f"
            },
            "type": "carpet"
           }
          ],
          "choropleth": [
           {
            "colorbar": {
             "outlinewidth": 0,
             "ticks": ""
            },
            "type": "choropleth"
           }
          ],
          "contour": [
           {
            "colorbar": {
             "outlinewidth": 0,
             "ticks": ""
            },
            "colorscale": [
             [
              0,
              "#0d0887"
             ],
             [
              0.1111111111111111,
              "#46039f"
             ],
             [
              0.2222222222222222,
              "#7201a8"
             ],
             [
              0.3333333333333333,
              "#9c179e"
             ],
             [
              0.4444444444444444,
              "#bd3786"
             ],
             [
              0.5555555555555556,
              "#d8576b"
             ],
             [
              0.6666666666666666,
              "#ed7953"
             ],
             [
              0.7777777777777778,
              "#fb9f3a"
             ],
             [
              0.8888888888888888,
              "#fdca26"
             ],
             [
              1,
              "#f0f921"
             ]
            ],
            "type": "contour"
           }
          ],
          "contourcarpet": [
           {
            "colorbar": {
             "outlinewidth": 0,
             "ticks": ""
            },
            "type": "contourcarpet"
           }
          ],
          "heatmap": [
           {
            "colorbar": {
             "outlinewidth": 0,
             "ticks": ""
            },
            "colorscale": [
             [
              0,
              "#0d0887"
             ],
             [
              0.1111111111111111,
              "#46039f"
             ],
             [
              0.2222222222222222,
              "#7201a8"
             ],
             [
              0.3333333333333333,
              "#9c179e"
             ],
             [
              0.4444444444444444,
              "#bd3786"
             ],
             [
              0.5555555555555556,
              "#d8576b"
             ],
             [
              0.6666666666666666,
              "#ed7953"
             ],
             [
              0.7777777777777778,
              "#fb9f3a"
             ],
             [
              0.8888888888888888,
              "#fdca26"
             ],
             [
              1,
              "#f0f921"
             ]
            ],
            "type": "heatmap"
           }
          ],
          "heatmapgl": [
           {
            "colorbar": {
             "outlinewidth": 0,
             "ticks": ""
            },
            "colorscale": [
             [
              0,
              "#0d0887"
             ],
             [
              0.1111111111111111,
              "#46039f"
             ],
             [
              0.2222222222222222,
              "#7201a8"
             ],
             [
              0.3333333333333333,
              "#9c179e"
             ],
             [
              0.4444444444444444,
              "#bd3786"
             ],
             [
              0.5555555555555556,
              "#d8576b"
             ],
             [
              0.6666666666666666,
              "#ed7953"
             ],
             [
              0.7777777777777778,
              "#fb9f3a"
             ],
             [
              0.8888888888888888,
              "#fdca26"
             ],
             [
              1,
              "#f0f921"
             ]
            ],
            "type": "heatmapgl"
           }
          ],
          "histogram": [
           {
            "marker": {
             "pattern": {
              "fillmode": "overlay",
              "size": 10,
              "solidity": 0.2
             }
            },
            "type": "histogram"
           }
          ],
          "histogram2d": [
           {
            "colorbar": {
             "outlinewidth": 0,
             "ticks": ""
            },
            "colorscale": [
             [
              0,
              "#0d0887"
             ],
             [
              0.1111111111111111,
              "#46039f"
             ],
             [
              0.2222222222222222,
              "#7201a8"
             ],
             [
              0.3333333333333333,
              "#9c179e"
             ],
             [
              0.4444444444444444,
              "#bd3786"
             ],
             [
              0.5555555555555556,
              "#d8576b"
             ],
             [
              0.6666666666666666,
              "#ed7953"
             ],
             [
              0.7777777777777778,
              "#fb9f3a"
             ],
             [
              0.8888888888888888,
              "#fdca26"
             ],
             [
              1,
              "#f0f921"
             ]
            ],
            "type": "histogram2d"
           }
          ],
          "histogram2dcontour": [
           {
            "colorbar": {
             "outlinewidth": 0,
             "ticks": ""
            },
            "colorscale": [
             [
              0,
              "#0d0887"
             ],
             [
              0.1111111111111111,
              "#46039f"
             ],
             [
              0.2222222222222222,
              "#7201a8"
             ],
             [
              0.3333333333333333,
              "#9c179e"
             ],
             [
              0.4444444444444444,
              "#bd3786"
             ],
             [
              0.5555555555555556,
              "#d8576b"
             ],
             [
              0.6666666666666666,
              "#ed7953"
             ],
             [
              0.7777777777777778,
              "#fb9f3a"
             ],
             [
              0.8888888888888888,
              "#fdca26"
             ],
             [
              1,
              "#f0f921"
             ]
            ],
            "type": "histogram2dcontour"
           }
          ],
          "mesh3d": [
           {
            "colorbar": {
             "outlinewidth": 0,
             "ticks": ""
            },
            "type": "mesh3d"
           }
          ],
          "parcoords": [
           {
            "line": {
             "colorbar": {
              "outlinewidth": 0,
              "ticks": ""
             }
            },
            "type": "parcoords"
           }
          ],
          "pie": [
           {
            "automargin": true,
            "type": "pie"
           }
          ],
          "scatter": [
           {
            "fillpattern": {
             "fillmode": "overlay",
             "size": 10,
             "solidity": 0.2
            },
            "type": "scatter"
           }
          ],
          "scatter3d": [
           {
            "line": {
             "colorbar": {
              "outlinewidth": 0,
              "ticks": ""
             }
            },
            "marker": {
             "colorbar": {
              "outlinewidth": 0,
              "ticks": ""
             }
            },
            "type": "scatter3d"
           }
          ],
          "scattercarpet": [
           {
            "marker": {
             "colorbar": {
              "outlinewidth": 0,
              "ticks": ""
             }
            },
            "type": "scattercarpet"
           }
          ],
          "scattergeo": [
           {
            "marker": {
             "colorbar": {
              "outlinewidth": 0,
              "ticks": ""
             }
            },
            "type": "scattergeo"
           }
          ],
          "scattergl": [
           {
            "marker": {
             "colorbar": {
              "outlinewidth": 0,
              "ticks": ""
             }
            },
            "type": "scattergl"
           }
          ],
          "scattermapbox": [
           {
            "marker": {
             "colorbar": {
              "outlinewidth": 0,
              "ticks": ""
             }
            },
            "type": "scattermapbox"
           }
          ],
          "scatterpolar": [
           {
            "marker": {
             "colorbar": {
              "outlinewidth": 0,
              "ticks": ""
             }
            },
            "type": "scatterpolar"
           }
          ],
          "scatterpolargl": [
           {
            "marker": {
             "colorbar": {
              "outlinewidth": 0,
              "ticks": ""
             }
            },
            "type": "scatterpolargl"
           }
          ],
          "scatterternary": [
           {
            "marker": {
             "colorbar": {
              "outlinewidth": 0,
              "ticks": ""
             }
            },
            "type": "scatterternary"
           }
          ],
          "surface": [
           {
            "colorbar": {
             "outlinewidth": 0,
             "ticks": ""
            },
            "colorscale": [
             [
              0,
              "#0d0887"
             ],
             [
              0.1111111111111111,
              "#46039f"
             ],
             [
              0.2222222222222222,
              "#7201a8"
             ],
             [
              0.3333333333333333,
              "#9c179e"
             ],
             [
              0.4444444444444444,
              "#bd3786"
             ],
             [
              0.5555555555555556,
              "#d8576b"
             ],
             [
              0.6666666666666666,
              "#ed7953"
             ],
             [
              0.7777777777777778,
              "#fb9f3a"
             ],
             [
              0.8888888888888888,
              "#fdca26"
             ],
             [
              1,
              "#f0f921"
             ]
            ],
            "type": "surface"
           }
          ],
          "table": [
           {
            "cells": {
             "fill": {
              "color": "#EBF0F8"
             },
             "line": {
              "color": "white"
             }
            },
            "header": {
             "fill": {
              "color": "#C8D4E3"
             },
             "line": {
              "color": "white"
             }
            },
            "type": "table"
           }
          ]
         },
         "layout": {
          "annotationdefaults": {
           "arrowcolor": "#2a3f5f",
           "arrowhead": 0,
           "arrowwidth": 1
          },
          "autotypenumbers": "strict",
          "coloraxis": {
           "colorbar": {
            "outlinewidth": 0,
            "ticks": ""
           }
          },
          "colorscale": {
           "diverging": [
            [
             0,
             "#8e0152"
            ],
            [
             0.1,
             "#c51b7d"
            ],
            [
             0.2,
             "#de77ae"
            ],
            [
             0.3,
             "#f1b6da"
            ],
            [
             0.4,
             "#fde0ef"
            ],
            [
             0.5,
             "#f7f7f7"
            ],
            [
             0.6,
             "#e6f5d0"
            ],
            [
             0.7,
             "#b8e186"
            ],
            [
             0.8,
             "#7fbc41"
            ],
            [
             0.9,
             "#4d9221"
            ],
            [
             1,
             "#276419"
            ]
           ],
           "sequential": [
            [
             0,
             "#0d0887"
            ],
            [
             0.1111111111111111,
             "#46039f"
            ],
            [
             0.2222222222222222,
             "#7201a8"
            ],
            [
             0.3333333333333333,
             "#9c179e"
            ],
            [
             0.4444444444444444,
             "#bd3786"
            ],
            [
             0.5555555555555556,
             "#d8576b"
            ],
            [
             0.6666666666666666,
             "#ed7953"
            ],
            [
             0.7777777777777778,
             "#fb9f3a"
            ],
            [
             0.8888888888888888,
             "#fdca26"
            ],
            [
             1,
             "#f0f921"
            ]
           ],
           "sequentialminus": [
            [
             0,
             "#0d0887"
            ],
            [
             0.1111111111111111,
             "#46039f"
            ],
            [
             0.2222222222222222,
             "#7201a8"
            ],
            [
             0.3333333333333333,
             "#9c179e"
            ],
            [
             0.4444444444444444,
             "#bd3786"
            ],
            [
             0.5555555555555556,
             "#d8576b"
            ],
            [
             0.6666666666666666,
             "#ed7953"
            ],
            [
             0.7777777777777778,
             "#fb9f3a"
            ],
            [
             0.8888888888888888,
             "#fdca26"
            ],
            [
             1,
             "#f0f921"
            ]
           ]
          },
          "colorway": [
           "#636efa",
           "#EF553B",
           "#00cc96",
           "#ab63fa",
           "#FFA15A",
           "#19d3f3",
           "#FF6692",
           "#B6E880",
           "#FF97FF",
           "#FECB52"
          ],
          "font": {
           "color": "#2a3f5f"
          },
          "geo": {
           "bgcolor": "white",
           "lakecolor": "white",
           "landcolor": "white",
           "showlakes": true,
           "showland": true,
           "subunitcolor": "#C8D4E3"
          },
          "hoverlabel": {
           "align": "left"
          },
          "hovermode": "closest",
          "mapbox": {
           "style": "light"
          },
          "paper_bgcolor": "white",
          "plot_bgcolor": "white",
          "polar": {
           "angularaxis": {
            "gridcolor": "#EBF0F8",
            "linecolor": "#EBF0F8",
            "ticks": ""
           },
           "bgcolor": "white",
           "radialaxis": {
            "gridcolor": "#EBF0F8",
            "linecolor": "#EBF0F8",
            "ticks": ""
           }
          },
          "scene": {
           "xaxis": {
            "backgroundcolor": "white",
            "gridcolor": "#DFE8F3",
            "gridwidth": 2,
            "linecolor": "#EBF0F8",
            "showbackground": true,
            "ticks": "",
            "zerolinecolor": "#EBF0F8"
           },
           "yaxis": {
            "backgroundcolor": "white",
            "gridcolor": "#DFE8F3",
            "gridwidth": 2,
            "linecolor": "#EBF0F8",
            "showbackground": true,
            "ticks": "",
            "zerolinecolor": "#EBF0F8"
           },
           "zaxis": {
            "backgroundcolor": "white",
            "gridcolor": "#DFE8F3",
            "gridwidth": 2,
            "linecolor": "#EBF0F8",
            "showbackground": true,
            "ticks": "",
            "zerolinecolor": "#EBF0F8"
           }
          },
          "shapedefaults": {
           "line": {
            "color": "#2a3f5f"
           }
          },
          "ternary": {
           "aaxis": {
            "gridcolor": "#DFE8F3",
            "linecolor": "#A2B1C6",
            "ticks": ""
           },
           "baxis": {
            "gridcolor": "#DFE8F3",
            "linecolor": "#A2B1C6",
            "ticks": ""
           },
           "bgcolor": "white",
           "caxis": {
            "gridcolor": "#DFE8F3",
            "linecolor": "#A2B1C6",
            "ticks": ""
           }
          },
          "title": {
           "x": 0.05
          },
          "xaxis": {
           "automargin": true,
           "gridcolor": "#EBF0F8",
           "linecolor": "#EBF0F8",
           "ticks": "",
           "title": {
            "standoff": 15
           },
           "zerolinecolor": "#EBF0F8",
           "zerolinewidth": 2
          },
          "yaxis": {
           "automargin": true,
           "gridcolor": "#EBF0F8",
           "linecolor": "#EBF0F8",
           "ticks": "",
           "title": {
            "standoff": 15
           },
           "zerolinecolor": "#EBF0F8",
           "zerolinewidth": 2
          }
         }
        },
        "title": {
         "text": "Comparación de Sentimiento Esperado vs. Sentimiento Predicho"
        },
        "xaxis": {
         "tickangle": -45,
         "title": {
          "text": "Oraciones"
         }
        },
        "yaxis": {
         "title": {
          "text": "Sentimiento"
         }
        }
       }
      }
     },
     "metadata": {},
     "output_type": "display_data"
    }
   ],
   "source": [
    "# Evaluar el modelo\n",
    "evaluate_model_bidirectional_plotly(model, sentences, target_sentiment)"
   ]
  }
 ],
 "metadata": {
  "kernelspec": {
   "display_name": "Python 3",
   "language": "python",
   "name": "python3"
  },
  "language_info": {
   "codemirror_mode": {
    "name": "ipython",
    "version": 3
   },
   "file_extension": ".py",
   "mimetype": "text/x-python",
   "name": "python",
   "nbconvert_exporter": "python",
   "pygments_lexer": "ipython3",
   "version": "3.10.0"
  }
 },
 "nbformat": 4,
 "nbformat_minor": 2
}
