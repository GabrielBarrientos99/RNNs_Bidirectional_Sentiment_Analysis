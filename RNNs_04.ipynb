{
 "cells": [
  {
   "cell_type": "markdown",
   "metadata": {},
   "source": [
    "### Usando nn.Embedings en lugar de glove o word2vec preentrenados"
   ]
  },
  {
   "cell_type": "code",
   "execution_count": 1,
   "metadata": {},
   "outputs": [],
   "source": [
    "from RNNs_sentimiento03 import BidirectionalRNN_ANN\n"
   ]
  },
  {
   "cell_type": "code",
   "execution_count": null,
   "metadata": {},
   "outputs": [],
   "source": [
    "import torch\n",
    "import torch.nn as nn\n",
    "import re\n",
    "import pandas as pd\n",
    "import matplotlib.pyplot as plt\n",
    "\n",
    "class Preprocessor:    \n",
    "    def __init__(self, path: str, embedding_dim=100) -> None:\n",
    "        # Inicialización básica\n",
    "        self.path = path\n",
    "        self.text = self.read_path(self.path)  # Leer el archivo de texto\n",
    "        self.data = self.create_data(self.text)  # Crear diccionario de párrafos y sentimientos\n",
    "        self.df = self.create_df(self.data)  # Crear DataFrame con los datos\n",
    "        self.df_words = self.create_df_words(self.df)  # DataFrame con cada palabra del texto\n",
    "        \n",
    "        # Construir vocabulario y asignar índices\n",
    "        self.build_vocabulary(self.df_words)\n",
    "        self.embedding_dim = embedding_dim\n",
    "        self.embedding_layer = nn.Embedding(len(self.vocab), embedding_dim)\n",
    "\n",
    "        # Crear listas de tensores de secuencias y targets\n",
    "        self.X, self.y = self.create_X_y_words(self.df_words)  # Para entrenamiento con secuencia de embeddings\n",
    "        self.X_se, self.y_se = self.create_X_y_sentence_embedding(self.data)  # Para entrenamiento con embedding promedio de cada párrafo\n",
    "    \n",
    "    def read_path(self, path: str) -> str:\n",
    "        ''' Método que lee un archivo de texto y retorna el texto '''\n",
    "        with open(path, 'r', encoding='utf-8') as file:\n",
    "            text = file.read()\n",
    "        return text\n",
    "    \n",
    "    def build_vocabulary(self, df):\n",
    "        ''' Construir vocabulario a partir de las palabras en el DataFrame '''\n",
    "        words = set()\n",
    "        for parrafo in df['parrafos']:\n",
    "            words.update(parrafo)\n",
    "        self.vocab = {word: idx for idx, word in enumerate(words)}  # Asignar índice único a cada palabra\n",
    "    \n",
    "    def get_embedding_words(self, texto: str) -> torch.Tensor:\n",
    "        ''' Método que obtiene los embeddings de un texto usando nn.Embedding '''\n",
    "        texto = re.findall(r'\\w+', texto.lower())\n",
    "        indices = [self.vocab[word] for word in texto if word in self.vocab]\n",
    "        if indices:\n",
    "            embeddings = self.embedding_layer(torch.tensor(indices))\n",
    "        else:\n",
    "            embeddings = torch.zeros(self.embedding_dim)  # Vector de ceros si no se encuentran palabras válidas\n",
    "        return embeddings\n",
    "\n",
    "    def get_embedding_sentence(self, parrafo: str) -> torch.Tensor:\n",
    "        ''' Método que obtiene el embedding promedio de un párrafo '''\n",
    "        parrafo = re.findall(r'\\w+', parrafo.lower())\n",
    "        indices = [self.vocab[word] for word in parrafo if word in self.vocab]\n",
    "        if indices:\n",
    "            embeddings = self.embedding_layer(torch.tensor(indices)).mean(dim=0)\n",
    "            embeddings = embeddings.view(1, -1)  # Reshape\n",
    "        else:\n",
    "            embeddings = torch.zeros(self.embedding_dim)\n",
    "        return embeddings\n",
    "\n",
    "    def create_data(self, text: str) -> dict:\n",
    "        ''' Método que crea un diccionario de párrafos y sentimientos '''\n",
    "        parrafos = re.findall(r'Parrafo_\\d+:\\n(.*?)\\nsentimiento_\\d+:\\n', text, re.DOTALL)\n",
    "        sentimientos = re.findall(r'sentimiento_\\d+:\\n(.*?)(?:\\n|$)', text, re.DOTALL)\n",
    "        sentimientos = [float(sentimiento) for sentimiento in sentimientos]\n",
    "        data = {'parrafos': parrafos, 'sentimientos': sentimientos}\n",
    "        return data\n",
    "    \n",
    "    def create_df(self, data: dict) -> pd.DataFrame:\n",
    "        ''' Método que crea un DataFrame a partir del diccionario de párrafos y sentimientos '''\n",
    "        df = pd.DataFrame(data)\n",
    "        return df\n",
    "    \n",
    "    def create_df_words(self, df: pd.DataFrame) -> pd.DataFrame:\n",
    "        ''' Método que crea un DataFrame de palabras individuales y sentimientos '''\n",
    "        df_words = df.copy()\n",
    "        df_words['parrafos'] = df['parrafos'].apply(lambda x: re.findall(r'\\w+', x.lower()))\n",
    "        return df_words\n",
    "    \n",
    "    def create_X_y_words(self, df: pd.DataFrame) -> list:\n",
    "        ''' Método que crea listas de embeddings de secuencias y etiquetas de sentimientos '''\n",
    "        X = []\n",
    "        y = []\n",
    "        for parrafo, sentimiento in zip(df['parrafos'], df['sentimientos']):\n",
    "            indices = [self.vocab[word] for word in parrafo if word in self.vocab]\n",
    "            if indices:\n",
    "                paragraph_embedding = [self.embedding_layer(torch.tensor([idx])) for idx in indices]\n",
    "            else:\n",
    "                paragraph_embedding = [torch.zeros(self.embedding_dim)]\n",
    "            X.append(torch.cat(paragraph_embedding))\n",
    "            y.append(torch.tensor(sentimiento, dtype=torch.float32))\n",
    "        return X, y\n",
    "\n",
    "    def create_X_y_sentence_embedding(self, df: dict) -> list:\n",
    "        X = []\n",
    "        y = []\n",
    "        for parrafo, sentimiento in zip(df['parrafos'], df['sentimientos']):\n",
    "            paragraph_embedding = self.get_embedding_sentence(parrafo)\n",
    "            X.append(paragraph_embedding)\n",
    "            y.append(torch.tensor(sentimiento, dtype=torch.float32))\n",
    "        return X, y\n",
    "\n",
    "\n",
    "class SentimentBidirectional_RNN(nn.Module):\n",
    "    def __init__(self, input_size, hidden_size, output_size, Preprocessor, dropout=0.5, lr=0.001):\n",
    "        super(SentimentBidirectional_RNN, self).__init__()\n",
    "        self.Preprocessor = Preprocessor\n",
    "        self.embedding_layer = Preprocessor.embedding_layer  # Capa de embeddings\n",
    "        self.model = BidirectionalRNN_ANN(input_size, hidden_size, output_size)\n",
    "        self.loss = nn.MSELoss()\n",
    "        self.dropout = nn.Dropout(dropout)\n",
    "        self.optimizer = torch.optim.Adam(self.model.parameters(), lr=lr)\n",
    "\n",
    "    def train(self, X_train, y_train, epoch=10, batch_size=32):\n",
    "        self.embedding_layer.requires_grad = True  # Permitir que los embeddings se entrenen\n",
    "        loss_list = []\n",
    "        \n",
    "        y_train = torch.stack(y_train)  # Combina y_train en un solo tensor para cada batch\n",
    "\n",
    "        for e in range(epoch):\n",
    "            total_loss = 0\n",
    "            for i in range(0, len(X_train), batch_size):\n",
    "                X_batch = X_train[i:i+batch_size]\n",
    "                y_batch = y_train[i:i+batch_size]\n",
    "                \n",
    "                self.optimizer.zero_grad()\n",
    "                outputs = []\n",
    "                \n",
    "                for secuencia in X_batch:\n",
    "                    output = self.model(secuencia)\n",
    "                    outputs.append(output)\n",
    "\n",
    "                # Convertir outputs a un tensor de la misma dimensión que y_batch\n",
    "                outputs = torch.cat(outputs).squeeze()\n",
    "                \n",
    "                # Calcular la pérdida\n",
    "                loss = self.loss(outputs, y_batch)\n",
    "                \n",
    "                loss.backward()\n",
    "                self.optimizer.step()\n",
    "                total_loss += loss.item()\n",
    "                \n",
    "            loss_list.append(total_loss)\n",
    "            print(f'Epoch {e+1} - Loss: {total_loss}')\n",
    "        self.loss_list = loss_list\n",
    "\n",
    "    def predict(self, texto):\n",
    "        \"\"\"\n",
    "        Método para predecir el sentimiento de un texto dado.\n",
    "        Convierte el texto en embeddings y calcula el sentimiento usando el modelo entrenado.\n",
    "        \"\"\"\n",
    "        # Obtener el embedding promedio del párrafo usando el preprocesador\n",
    "        secuencia = self.Preprocessor.get_embedding_sentence(texto)\n",
    "        \n",
    "        # Verificar si el embedding del párrafo es válido\n",
    "        if secuencia is None or len(secuencia) == 0:\n",
    "            print(\"No se encontraron palabras válidas en el vocabulario para esta oración.\")\n",
    "            return None\n",
    "        \n",
    "        # Obtener la predicción pasando el embedding promedio al modelo\n",
    "        with torch.no_grad():  # Desactivamos el cálculo de gradientes para la predicción\n",
    "            output = self.model(secuencia)\n",
    "            output = output.squeeze().item()  # Convertir el tensor a un valor escalar\n",
    "        \n",
    "        return output\n",
    "\n",
    "# Ploteo de la pérdida\n",
    "def plot_loss(loss_list):\n",
    "    plt.plot(loss_list)\n",
    "    plt.xlabel('Epoch')\n",
    "    plt.ylabel('Loss')\n",
    "    plt.title('Loss vs Epoch')\n",
    "    plt.show()\n"
   ]
  },
  {
   "cell_type": "code",
   "execution_count": 42,
   "metadata": {},
   "outputs": [],
   "source": [
    "# Inicializar el preprocesador para cargar los datos y crear el vocabulario\n",
    "preprocessor = Preprocessor(path=\"./train_data.txt\", embedding_dim=100)"
   ]
  },
  {
   "cell_type": "code",
   "execution_count": 44,
   "metadata": {},
   "outputs": [
    {
     "data": {
      "text/plain": [
       "[]"
      ]
     },
     "execution_count": 44,
     "metadata": {},
     "output_type": "execute_result"
    }
   ],
   "source": [
    "preprocessor.X_se"
   ]
  },
  {
   "cell_type": "code",
   "execution_count": 37,
   "metadata": {},
   "outputs": [
    {
     "data": {
      "text/plain": [
       "tensor(0.9000)"
      ]
     },
     "execution_count": 37,
     "metadata": {},
     "output_type": "execute_result"
    }
   ],
   "source": [
    "preprocessor.y[0]"
   ]
  },
  {
   "cell_type": "code",
   "execution_count": 38,
   "metadata": {},
   "outputs": [],
   "source": [
    "X_train, y_train = preprocessor.X_se, preprocessor.y_se  \n",
    "\n"
   ]
  },
  {
   "cell_type": "code",
   "execution_count": null,
   "metadata": {},
   "outputs": [],
   "source": [
    "# Parámetros del modelo\n",
    "input_size = preprocessor.embedding_dim\n",
    "hidden_size =  300 # tamaño de la capa oculta, ajustable según necesidad\n",
    "output_size = 1   # salida para una tarea de regresión de sentimiento\n",
    "dropout = 0.5\n",
    "learning_rate = 0.001\n",
    "epoch = 100        # número de épocas para entrenamiento\n",
    "\n",
    "# Crear el modelo\n",
    "model = SentimentBidirectional_RNN(\n",
    "    input_size=input_size,\n",
    "    hidden_size=hidden_size,\n",
    "    output_size=output_size,\n",
    "    Preprocessor=preprocessor,\n",
    "    dropout=dropout,\n",
    "    lr=learning_rate\n",
    ")\n"
   ]
  },
  {
   "cell_type": "code",
   "execution_count": null,
   "metadata": {},
   "outputs": [
    {
     "ename": "RuntimeError",
     "evalue": "both arguments to linear need to be at least 1D, but they are 0D and 2D",
     "output_type": "error",
     "traceback": [
      "\u001b[1;31m---------------------------------------------------------------------------\u001b[0m",
      "\u001b[1;31mRuntimeError\u001b[0m                              Traceback (most recent call last)",
      "Cell \u001b[1;32mIn [40], line 2\u001b[0m\n\u001b[0;32m      1\u001b[0m \u001b[38;5;66;03m# Entrenar el modelo\u001b[39;00m\n\u001b[1;32m----> 2\u001b[0m model\u001b[38;5;241m.\u001b[39mtrain(X_train, y_train, epoch\u001b[38;5;241m=\u001b[39mepoch, batch_size\u001b[38;5;241m=\u001b[39m\u001b[38;5;241m32\u001b[39m)\n",
      "Cell \u001b[1;32mIn [34], line 128\u001b[0m, in \u001b[0;36mSentimentBidirectional_RNN.train\u001b[1;34m(self, X_train, y_train, epoch, batch_size)\u001b[0m\n\u001b[0;32m    125\u001b[0m outputs \u001b[38;5;241m=\u001b[39m []\n\u001b[0;32m    127\u001b[0m \u001b[38;5;28;01mfor\u001b[39;00m secuencia \u001b[38;5;129;01min\u001b[39;00m X_batch:\n\u001b[1;32m--> 128\u001b[0m     output \u001b[38;5;241m=\u001b[39m \u001b[38;5;28;43mself\u001b[39;49m\u001b[38;5;241;43m.\u001b[39;49m\u001b[43mmodel\u001b[49m\u001b[43m(\u001b[49m\u001b[43msecuencia\u001b[49m\u001b[43m)\u001b[49m\n\u001b[0;32m    129\u001b[0m     outputs\u001b[38;5;241m.\u001b[39mappend(output)\n\u001b[0;32m    131\u001b[0m \u001b[38;5;66;03m# Convertir outputs a un tensor de la misma dimensión que y_batch\u001b[39;00m\n",
      "File \u001b[1;32mc:\\Users\\Computer\\AppData\\Local\\Programs\\Python\\Python310\\lib\\site-packages\\torch\\nn\\modules\\module.py:1736\u001b[0m, in \u001b[0;36mModule._wrapped_call_impl\u001b[1;34m(self, *args, **kwargs)\u001b[0m\n\u001b[0;32m   1734\u001b[0m     \u001b[38;5;28;01mreturn\u001b[39;00m \u001b[38;5;28mself\u001b[39m\u001b[38;5;241m.\u001b[39m_compiled_call_impl(\u001b[38;5;241m*\u001b[39margs, \u001b[38;5;241m*\u001b[39m\u001b[38;5;241m*\u001b[39mkwargs)  \u001b[38;5;66;03m# type: ignore[misc]\u001b[39;00m\n\u001b[0;32m   1735\u001b[0m \u001b[38;5;28;01melse\u001b[39;00m:\n\u001b[1;32m-> 1736\u001b[0m     \u001b[38;5;28;01mreturn\u001b[39;00m \u001b[38;5;28mself\u001b[39m\u001b[38;5;241m.\u001b[39m_call_impl(\u001b[38;5;241m*\u001b[39margs, \u001b[38;5;241m*\u001b[39m\u001b[38;5;241m*\u001b[39mkwargs)\n",
      "File \u001b[1;32mc:\\Users\\Computer\\AppData\\Local\\Programs\\Python\\Python310\\lib\\site-packages\\torch\\nn\\modules\\module.py:1747\u001b[0m, in \u001b[0;36mModule._call_impl\u001b[1;34m(self, *args, **kwargs)\u001b[0m\n\u001b[0;32m   1742\u001b[0m \u001b[38;5;66;03m# If we don't have any hooks, we want to skip the rest of the logic in\u001b[39;00m\n\u001b[0;32m   1743\u001b[0m \u001b[38;5;66;03m# this function, and just call forward.\u001b[39;00m\n\u001b[0;32m   1744\u001b[0m \u001b[38;5;28;01mif\u001b[39;00m \u001b[38;5;129;01mnot\u001b[39;00m (\u001b[38;5;28mself\u001b[39m\u001b[38;5;241m.\u001b[39m_backward_hooks \u001b[38;5;129;01mor\u001b[39;00m \u001b[38;5;28mself\u001b[39m\u001b[38;5;241m.\u001b[39m_backward_pre_hooks \u001b[38;5;129;01mor\u001b[39;00m \u001b[38;5;28mself\u001b[39m\u001b[38;5;241m.\u001b[39m_forward_hooks \u001b[38;5;129;01mor\u001b[39;00m \u001b[38;5;28mself\u001b[39m\u001b[38;5;241m.\u001b[39m_forward_pre_hooks\n\u001b[0;32m   1745\u001b[0m         \u001b[38;5;129;01mor\u001b[39;00m _global_backward_pre_hooks \u001b[38;5;129;01mor\u001b[39;00m _global_backward_hooks\n\u001b[0;32m   1746\u001b[0m         \u001b[38;5;129;01mor\u001b[39;00m _global_forward_hooks \u001b[38;5;129;01mor\u001b[39;00m _global_forward_pre_hooks):\n\u001b[1;32m-> 1747\u001b[0m     \u001b[38;5;28;01mreturn\u001b[39;00m forward_call(\u001b[38;5;241m*\u001b[39margs, \u001b[38;5;241m*\u001b[39m\u001b[38;5;241m*\u001b[39mkwargs)\n\u001b[0;32m   1749\u001b[0m result \u001b[38;5;241m=\u001b[39m \u001b[38;5;28;01mNone\u001b[39;00m\n\u001b[0;32m   1750\u001b[0m called_always_called_hooks \u001b[38;5;241m=\u001b[39m \u001b[38;5;28mset\u001b[39m()\n",
      "File \u001b[1;32me:\\NLP_proyectos\\pc3\\RNNs_sentimiento03.py:37\u001b[0m, in \u001b[0;36mBidirectionalRNN_ANN.forward\u001b[1;34m(self, secuencia)\u001b[0m\n\u001b[0;32m     35\u001b[0m h1,h2 \u001b[38;5;241m=\u001b[39m \u001b[38;5;28;01mNone\u001b[39;00m, \u001b[38;5;28;01mNone\u001b[39;00m\n\u001b[0;32m     36\u001b[0m \u001b[38;5;28;01mfor\u001b[39;00m x_input \u001b[38;5;129;01min\u001b[39;00m secuencia:\n\u001b[1;32m---> 37\u001b[0m     h1 \u001b[38;5;241m=\u001b[39m \u001b[38;5;28;43mself\u001b[39;49m\u001b[38;5;241;43m.\u001b[39;49m\u001b[43mrnn1\u001b[49m\u001b[43m(\u001b[49m\u001b[43mx_input\u001b[49m\u001b[43m,\u001b[49m\u001b[43mh1\u001b[49m\u001b[43m)\u001b[49m\n\u001b[0;32m     38\u001b[0m \u001b[38;5;66;03m# Recorremos la secuencia de entrada en orden inverso\u001b[39;00m\n\u001b[0;32m     39\u001b[0m \u001b[38;5;28;01mfor\u001b[39;00m x_input \u001b[38;5;129;01min\u001b[39;00m \u001b[38;5;28mreversed\u001b[39m(secuencia):\n",
      "File \u001b[1;32mc:\\Users\\Computer\\AppData\\Local\\Programs\\Python\\Python310\\lib\\site-packages\\torch\\nn\\modules\\module.py:1736\u001b[0m, in \u001b[0;36mModule._wrapped_call_impl\u001b[1;34m(self, *args, **kwargs)\u001b[0m\n\u001b[0;32m   1734\u001b[0m     \u001b[38;5;28;01mreturn\u001b[39;00m \u001b[38;5;28mself\u001b[39m\u001b[38;5;241m.\u001b[39m_compiled_call_impl(\u001b[38;5;241m*\u001b[39margs, \u001b[38;5;241m*\u001b[39m\u001b[38;5;241m*\u001b[39mkwargs)  \u001b[38;5;66;03m# type: ignore[misc]\u001b[39;00m\n\u001b[0;32m   1735\u001b[0m \u001b[38;5;28;01melse\u001b[39;00m:\n\u001b[1;32m-> 1736\u001b[0m     \u001b[38;5;28;01mreturn\u001b[39;00m \u001b[38;5;28mself\u001b[39m\u001b[38;5;241m.\u001b[39m_call_impl(\u001b[38;5;241m*\u001b[39margs, \u001b[38;5;241m*\u001b[39m\u001b[38;5;241m*\u001b[39mkwargs)\n",
      "File \u001b[1;32mc:\\Users\\Computer\\AppData\\Local\\Programs\\Python\\Python310\\lib\\site-packages\\torch\\nn\\modules\\module.py:1747\u001b[0m, in \u001b[0;36mModule._call_impl\u001b[1;34m(self, *args, **kwargs)\u001b[0m\n\u001b[0;32m   1742\u001b[0m \u001b[38;5;66;03m# If we don't have any hooks, we want to skip the rest of the logic in\u001b[39;00m\n\u001b[0;32m   1743\u001b[0m \u001b[38;5;66;03m# this function, and just call forward.\u001b[39;00m\n\u001b[0;32m   1744\u001b[0m \u001b[38;5;28;01mif\u001b[39;00m \u001b[38;5;129;01mnot\u001b[39;00m (\u001b[38;5;28mself\u001b[39m\u001b[38;5;241m.\u001b[39m_backward_hooks \u001b[38;5;129;01mor\u001b[39;00m \u001b[38;5;28mself\u001b[39m\u001b[38;5;241m.\u001b[39m_backward_pre_hooks \u001b[38;5;129;01mor\u001b[39;00m \u001b[38;5;28mself\u001b[39m\u001b[38;5;241m.\u001b[39m_forward_hooks \u001b[38;5;129;01mor\u001b[39;00m \u001b[38;5;28mself\u001b[39m\u001b[38;5;241m.\u001b[39m_forward_pre_hooks\n\u001b[0;32m   1745\u001b[0m         \u001b[38;5;129;01mor\u001b[39;00m _global_backward_pre_hooks \u001b[38;5;129;01mor\u001b[39;00m _global_backward_hooks\n\u001b[0;32m   1746\u001b[0m         \u001b[38;5;129;01mor\u001b[39;00m _global_forward_hooks \u001b[38;5;129;01mor\u001b[39;00m _global_forward_pre_hooks):\n\u001b[1;32m-> 1747\u001b[0m     \u001b[38;5;28;01mreturn\u001b[39;00m forward_call(\u001b[38;5;241m*\u001b[39margs, \u001b[38;5;241m*\u001b[39m\u001b[38;5;241m*\u001b[39mkwargs)\n\u001b[0;32m   1749\u001b[0m result \u001b[38;5;241m=\u001b[39m \u001b[38;5;28;01mNone\u001b[39;00m\n\u001b[0;32m   1750\u001b[0m called_always_called_hooks \u001b[38;5;241m=\u001b[39m \u001b[38;5;28mset\u001b[39m()\n",
      "File \u001b[1;32me:\\NLP_proyectos\\pc3\\RNNs_sentimiento01.py:41\u001b[0m, in \u001b[0;36mRNNode.forward\u001b[1;34m(self, x, h_anterior)\u001b[0m\n\u001b[0;32m     36\u001b[0m     h_anterior \u001b[38;5;241m=\u001b[39m torch\u001b[38;5;241m.\u001b[39mzeros( \u001b[38;5;241m1\u001b[39m , \u001b[38;5;28mself\u001b[39m\u001b[38;5;241m.\u001b[39mhidden_size )\n\u001b[0;32m     38\u001b[0m     \u001b[38;5;66;03m#print(f'H_0 (size): {h_anterior.size()}')\u001b[39;00m\n\u001b[0;32m     39\u001b[0m     \u001b[38;5;66;03m#print(f'H_0 : \\n {h_anterior}')\u001b[39;00m\n\u001b[1;32m---> 41\u001b[0m h \u001b[38;5;241m=\u001b[39m torch\u001b[38;5;241m.\u001b[39mtanh( \u001b[38;5;28;43mself\u001b[39;49m\u001b[38;5;241;43m.\u001b[39;49m\u001b[43mih\u001b[49m\u001b[43m(\u001b[49m\u001b[43mx\u001b[49m\u001b[43m)\u001b[49m \u001b[38;5;241m+\u001b[39m \u001b[38;5;28mself\u001b[39m\u001b[38;5;241m.\u001b[39mhh(h_anterior) )\n\u001b[0;32m     43\u001b[0m \u001b[38;5;28;01mreturn\u001b[39;00m h\n",
      "File \u001b[1;32mc:\\Users\\Computer\\AppData\\Local\\Programs\\Python\\Python310\\lib\\site-packages\\torch\\nn\\modules\\module.py:1736\u001b[0m, in \u001b[0;36mModule._wrapped_call_impl\u001b[1;34m(self, *args, **kwargs)\u001b[0m\n\u001b[0;32m   1734\u001b[0m     \u001b[38;5;28;01mreturn\u001b[39;00m \u001b[38;5;28mself\u001b[39m\u001b[38;5;241m.\u001b[39m_compiled_call_impl(\u001b[38;5;241m*\u001b[39margs, \u001b[38;5;241m*\u001b[39m\u001b[38;5;241m*\u001b[39mkwargs)  \u001b[38;5;66;03m# type: ignore[misc]\u001b[39;00m\n\u001b[0;32m   1735\u001b[0m \u001b[38;5;28;01melse\u001b[39;00m:\n\u001b[1;32m-> 1736\u001b[0m     \u001b[38;5;28;01mreturn\u001b[39;00m \u001b[38;5;28mself\u001b[39m\u001b[38;5;241m.\u001b[39m_call_impl(\u001b[38;5;241m*\u001b[39margs, \u001b[38;5;241m*\u001b[39m\u001b[38;5;241m*\u001b[39mkwargs)\n",
      "File \u001b[1;32mc:\\Users\\Computer\\AppData\\Local\\Programs\\Python\\Python310\\lib\\site-packages\\torch\\nn\\modules\\module.py:1747\u001b[0m, in \u001b[0;36mModule._call_impl\u001b[1;34m(self, *args, **kwargs)\u001b[0m\n\u001b[0;32m   1742\u001b[0m \u001b[38;5;66;03m# If we don't have any hooks, we want to skip the rest of the logic in\u001b[39;00m\n\u001b[0;32m   1743\u001b[0m \u001b[38;5;66;03m# this function, and just call forward.\u001b[39;00m\n\u001b[0;32m   1744\u001b[0m \u001b[38;5;28;01mif\u001b[39;00m \u001b[38;5;129;01mnot\u001b[39;00m (\u001b[38;5;28mself\u001b[39m\u001b[38;5;241m.\u001b[39m_backward_hooks \u001b[38;5;129;01mor\u001b[39;00m \u001b[38;5;28mself\u001b[39m\u001b[38;5;241m.\u001b[39m_backward_pre_hooks \u001b[38;5;129;01mor\u001b[39;00m \u001b[38;5;28mself\u001b[39m\u001b[38;5;241m.\u001b[39m_forward_hooks \u001b[38;5;129;01mor\u001b[39;00m \u001b[38;5;28mself\u001b[39m\u001b[38;5;241m.\u001b[39m_forward_pre_hooks\n\u001b[0;32m   1745\u001b[0m         \u001b[38;5;129;01mor\u001b[39;00m _global_backward_pre_hooks \u001b[38;5;129;01mor\u001b[39;00m _global_backward_hooks\n\u001b[0;32m   1746\u001b[0m         \u001b[38;5;129;01mor\u001b[39;00m _global_forward_hooks \u001b[38;5;129;01mor\u001b[39;00m _global_forward_pre_hooks):\n\u001b[1;32m-> 1747\u001b[0m     \u001b[38;5;28;01mreturn\u001b[39;00m forward_call(\u001b[38;5;241m*\u001b[39margs, \u001b[38;5;241m*\u001b[39m\u001b[38;5;241m*\u001b[39mkwargs)\n\u001b[0;32m   1749\u001b[0m result \u001b[38;5;241m=\u001b[39m \u001b[38;5;28;01mNone\u001b[39;00m\n\u001b[0;32m   1750\u001b[0m called_always_called_hooks \u001b[38;5;241m=\u001b[39m \u001b[38;5;28mset\u001b[39m()\n",
      "File \u001b[1;32mc:\\Users\\Computer\\AppData\\Local\\Programs\\Python\\Python310\\lib\\site-packages\\torch\\nn\\modules\\linear.py:125\u001b[0m, in \u001b[0;36mLinear.forward\u001b[1;34m(self, input)\u001b[0m\n\u001b[0;32m    124\u001b[0m \u001b[38;5;28;01mdef\u001b[39;00m \u001b[38;5;21mforward\u001b[39m(\u001b[38;5;28mself\u001b[39m, \u001b[38;5;28minput\u001b[39m: Tensor) \u001b[38;5;241m-\u001b[39m\u001b[38;5;241m>\u001b[39m Tensor:\n\u001b[1;32m--> 125\u001b[0m     \u001b[38;5;28;01mreturn\u001b[39;00m \u001b[43mF\u001b[49m\u001b[38;5;241;43m.\u001b[39;49m\u001b[43mlinear\u001b[49m\u001b[43m(\u001b[49m\u001b[38;5;28;43minput\u001b[39;49m\u001b[43m,\u001b[49m\u001b[43m \u001b[49m\u001b[38;5;28;43mself\u001b[39;49m\u001b[38;5;241;43m.\u001b[39;49m\u001b[43mweight\u001b[49m\u001b[43m,\u001b[49m\u001b[43m \u001b[49m\u001b[38;5;28;43mself\u001b[39;49m\u001b[38;5;241;43m.\u001b[39;49m\u001b[43mbias\u001b[49m\u001b[43m)\u001b[49m\n",
      "\u001b[1;31mRuntimeError\u001b[0m: both arguments to linear need to be at least 1D, but they are 0D and 2D"
     ]
    }
   ],
   "source": [
    "# Entrenar el modelo\n",
    "model.train(X_train, y_train, epoch=epoch, batch_size=32)"
   ]
  },
  {
   "cell_type": "code",
   "execution_count": 10,
   "metadata": {},
   "outputs": [],
   "source": [
    "# Ploteamos el loss\n",
    "def plot_loss(loss_list):\n",
    "    import matplotlib.pyplot as plt\n",
    "    plt.plot(loss_list)\n",
    "    plt.xlabel('Epoch')\n",
    "    plt.ylabel('Loss')\n",
    "    plt.title('Loss vs Epoch')\n",
    "    plt.show()"
   ]
  },
  {
   "cell_type": "code",
   "execution_count": 11,
   "metadata": {},
   "outputs": [
    {
     "data": {
      "image/png": "[encoded data removed]",
      "text/plain": [
       "<Figure size 640x480 with 1 Axes>"
      ]
     },
     "metadata": {},
     "output_type": "display_data"
    }
   ],
   "source": [
    "# Ploteamos el loss\n",
    "plot_loss(model.loss_list)"
   ]
  },
  {
   "cell_type": "code",
   "execution_count": null,
   "metadata": {},
   "outputs": [],
   "source": []
  }
 ],
 "metadata": {
  "kernelspec": {
   "display_name": "Python 3",
   "language": "python",
   "name": "python3"
  },
  "language_info": {
   "codemirror_mode": {
    "name": "ipython",
    "version": 3
   },
   "file_extension": ".py",
   "mimetype": "text/x-python",
   "name": "python",
   "nbconvert_exporter": "python",
   "pygments_lexer": "ipython3",
   "version": "3.10.0"
  }
 },
 "nbformat": 4,
 "nbformat_minor": 2
}
